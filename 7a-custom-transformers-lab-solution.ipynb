{
 "cells": [
  {
   "cell_type": "markdown",
   "metadata": {},
   "source": [
    "# Custom Transformers Lab"
   ]
  },
  {
   "cell_type": "markdown",
   "metadata": {},
   "source": [
    "### Introduction"
   ]
  },
  {
   "cell_type": "markdown",
   "metadata": {},
   "source": [
    "In this lesson, we'll practice creating our own transformer and integrating with oru DataFrameMapper.  Let's get started."
   ]
  },
  {
   "cell_type": "markdown",
   "metadata": {},
   "source": [
    "### Loading our Data"
   ]
  },
  {
   "cell_type": "markdown",
   "metadata": {},
   "source": [
    "Let's continue working with our Airbnb dataset."
   ]
  },
  {
   "cell_type": "code",
   "execution_count": 1,
   "metadata": {},
   "outputs": [],
   "source": [
    "import pandas as pd\n",
    "\n",
    "listings_df = pd.read_csv('./listings_summary.csv.zip')"
   ]
  },
  {
   "cell_type": "markdown",
   "metadata": {},
   "source": [
    "This time let's select the zipcode column.  Now, while zipcodes to contain numbers, we do not think of this as being linear.  That is, we don't expect our increasing our zipcode from 11001 to 11002 to necessarily increase our target value.  Zipcode represents a geographic region, and so can be handled as a category.\n",
    "\n",
    "Let's see how we can handle this."
   ]
  },
  {
   "cell_type": "markdown",
   "metadata": {},
   "source": [
    "Let's begin by checking if there any null values."
   ]
  },
  {
   "cell_type": "code",
   "execution_count": 43,
   "metadata": {},
   "outputs": [],
   "source": [
    "zipcode_col = listings_df[['zipcode']]"
   ]
  },
  {
   "cell_type": "code",
   "execution_count": 44,
   "metadata": {},
   "outputs": [
    {
     "data": {
      "text/plain": [
       "zipcode    656\n",
       "dtype: int64"
      ]
     },
     "execution_count": 44,
     "metadata": {},
     "output_type": "execute_result"
    }
   ],
   "source": [
    "zipcode_col.isna().sum()"
   ]
  },
  {
   "cell_type": "markdown",
   "metadata": {},
   "source": [
    "That's a lot of null values.  Let's begin by using a DataFrameMapper to convert them each to an empty string, `''`."
   ]
  },
  {
   "cell_type": "code",
   "execution_count": 49,
   "metadata": {},
   "outputs": [],
   "source": [
    "from sklearn_pandas import DataFrameMapper, FunctionTransformer\n",
    "from sklearn.impute import SimpleImputer\n",
    "mapper = DataFrameMapper([\n",
    "    (['zipcode'], SimpleImputer(strategy = 'constant', fill_value = ''))\n",
    "], df_out = True)"
   ]
  },
  {
   "cell_type": "code",
   "execution_count": 53,
   "metadata": {},
   "outputs": [
    {
     "data": {
      "text/plain": [
       "zipcode    0\n",
       "dtype: int64"
      ]
     },
     "execution_count": 53,
     "metadata": {},
     "output_type": "execute_result"
    }
   ],
   "source": [
    "mapper.fit_transform(listings_df).isna().sum()\n",
    "\n",
    "# zipcode    0\n",
    "# dtype: int64"
   ]
  },
  {
   "cell_type": "markdown",
   "metadata": {},
   "source": [
    "Ok, now we want to handle zipcodes like a categorical variable.  But if we simply one hot encode our zipcodes we will have sparse columns.  A workable technique instead is to just select a subset of the string."
   ]
  },
  {
   "cell_type": "code",
   "execution_count": 70,
   "metadata": {},
   "outputs": [
    {
     "data": {
      "text/plain": [
       "Index(['1024', '1043', '1204', '1096', '1205', '1011', '1099', '1335', '1040',\n",
       "       '1055'],\n",
       "      dtype='object')"
      ]
     },
     "execution_count": 70,
     "metadata": {},
     "output_type": "execute_result"
    }
   ],
   "source": [
    "listings_df['zipcode'].str[:4].value_counts(normalize = True)[:10].index"
   ]
  },
  {
   "cell_type": "markdown",
   "metadata": {},
   "source": [
    "We can see that the top ten values account for 68 percent of our string.  Not bad."
   ]
  },
  {
   "cell_type": "markdown",
   "metadata": {},
   "source": [
    "So let's add two custom imputers to our DataFrameMapper.  The first one just selects the first four values from each string.  And the second one replaces the zipcode with `'Other'` if not in our top ten values.  Then apply one hot encoding on the column."
   ]
  },
  {
   "cell_type": "code",
   "execution_count": 71,
   "metadata": {},
   "outputs": [],
   "source": [
    "def subset_zipcode(zipcode):\n",
    "    return zipcode[:4]\n",
    "\n",
    "def replace_other(zipcode):\n",
    "    top_ten_cols = ['1024', '1043', '1204', '1096', '1205', '1011', '1099', '1335', '1040',\n",
    "       '1055']\n",
    "    if zipcode in top_ten_cols:\n",
    "        return zipcode\n",
    "    else:\n",
    "        return 'Other'"
   ]
  },
  {
   "cell_type": "code",
   "execution_count": 79,
   "metadata": {},
   "outputs": [],
   "source": [
    "from sklearn_pandas import DataFrameMapper, FunctionTransformer\n",
    "from sklearn.impute import SimpleImputer\n",
    "from sklearn.preprocessing import OneHotEncoder\n",
    "mapper = DataFrameMapper([\n",
    "    (['zipcode'], [SimpleImputer(strategy = 'constant', fill_value = ''), \n",
    "     FunctionTransformer(subset_zipcode), FunctionTransformer(replace_other)])\n",
    "], df_out = True)"
   ]
  },
  {
   "cell_type": "code",
   "execution_count": 80,
   "metadata": {},
   "outputs": [],
   "source": [
    "zipcode_updated = mapper.fit_transform(listings_df)"
   ]
  },
  {
   "cell_type": "code",
   "execution_count": 84,
   "metadata": {},
   "outputs": [
    {
     "data": {
      "text/plain": [
       "Other    0.340679\n",
       "1024     0.115333\n",
       "1043     0.076268\n",
       "1204     0.074361\n",
       "1096     0.072455\n",
       "1205     0.069173\n",
       "1011     0.066868\n",
       "1099     0.052013\n",
       "1335     0.047934\n",
       "1040     0.047845\n",
       "1055     0.037070\n",
       "Name: zipcode, dtype: float64"
      ]
     },
     "execution_count": 84,
     "metadata": {},
     "output_type": "execute_result"
    }
   ],
   "source": [
    "zipcode_updated['zipcode'].value_counts(normalize = True)\n",
    "\n",
    "# Other    0.340679\n",
    "# 1024     0.115333\n",
    "# 1043     0.076268\n",
    "# 1204     0.074361\n",
    "# 1096     0.072455\n",
    "# 1205     0.069173\n",
    "# 1011     0.066868\n",
    "# 1099     0.052013\n",
    "# 1335     0.047934\n",
    "# 1040     0.047845\n",
    "# 1055     0.037070"
   ]
  },
  {
   "cell_type": "markdown",
   "metadata": {},
   "source": [
    "### Summary"
   ]
  },
  {
   "cell_type": "markdown",
   "metadata": {},
   "source": [
    "In this lesson, we saw how we can use Custom Transformers to both coerce object columns, and handle categorical columns with sparse values.  We can also see that using Custom Transformers encourages to write our code in methods, which makes it more reusable going forward."
   ]
  },
  {
   "cell_type": "code",
   "execution_count": null,
   "metadata": {},
   "outputs": [],
   "source": []
  }
 ],
 "metadata": {
  "kernelspec": {
   "display_name": "Python 3",
   "language": "python",
   "name": "python3"
  },
  "language_info": {
   "codemirror_mode": {
    "name": "ipython",
    "version": 3
   },
   "file_extension": ".py",
   "mimetype": "text/x-python",
   "name": "python",
   "nbconvert_exporter": "python",
   "pygments_lexer": "ipython3",
   "version": "3.7.4"
  }
 },
 "nbformat": 4,
 "nbformat_minor": 4
}
