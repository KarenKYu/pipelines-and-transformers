{
 "cells": [
  {
   "cell_type": "code",
   "execution_count": 17,
   "metadata": {},
   "outputs": [],
   "source": [
    "import pandas as pd"
   ]
  },
  {
   "cell_type": "code",
   "execution_count": 77,
   "metadata": {},
   "outputs": [],
   "source": [
    "report_df = pd.read_csv('./report-hs.csv')"
   ]
  },
  {
   "cell_type": "code",
   "execution_count": 78,
   "metadata": {},
   "outputs": [
    {
     "data": {
      "text/html": [
       "<div>\n",
       "<style scoped>\n",
       "    .dataframe tbody tr th:only-of-type {\n",
       "        vertical-align: middle;\n",
       "    }\n",
       "\n",
       "    .dataframe tbody tr th {\n",
       "        vertical-align: top;\n",
       "    }\n",
       "\n",
       "    .dataframe thead th {\n",
       "        text-align: right;\n",
       "    }\n",
       "</style>\n",
       "<table border=\"1\" class=\"dataframe\">\n",
       "  <thead>\n",
       "    <tr style=\"text-align: right;\">\n",
       "      <th></th>\n",
       "      <th>DBN</th>\n",
       "      <th>School Name</th>\n",
       "      <th>School Type</th>\n",
       "      <th>Enrollment</th>\n",
       "      <th>Rigorous Instruction Rating</th>\n",
       "      <th>Collaborative Teachers Rating</th>\n",
       "      <th>Supportive Environment Rating</th>\n",
       "      <th>Effective School Leadership Rating</th>\n",
       "      <th>Strong Family-Community Ties Rating</th>\n",
       "      <th>Trust Rating</th>\n",
       "      <th>...</th>\n",
       "      <th>Percent HRA Eligible</th>\n",
       "      <th>Percent Asian</th>\n",
       "      <th>Percent Black</th>\n",
       "      <th>Percent Hispanic</th>\n",
       "      <th>Percent White</th>\n",
       "      <th>Years of principal experience at this school</th>\n",
       "      <th>Percent of teachers with 3 or more years of experience</th>\n",
       "      <th>Student Attendance Rate</th>\n",
       "      <th>Percent of Students Chronically Absent</th>\n",
       "      <th>Teacher Attendance Rate</th>\n",
       "    </tr>\n",
       "  </thead>\n",
       "  <tbody>\n",
       "    <tr>\n",
       "      <th>0</th>\n",
       "      <td>01M292</td>\n",
       "      <td>Orchard Collegiate Academy</td>\n",
       "      <td>High School</td>\n",
       "      <td>140</td>\n",
       "      <td>Meeting Target</td>\n",
       "      <td>Exceeding Target</td>\n",
       "      <td>Meeting Target</td>\n",
       "      <td>Meeting Target</td>\n",
       "      <td>Approaching Target</td>\n",
       "      <td>Exceeding Target</td>\n",
       "      <td>...</td>\n",
       "      <td>0.621</td>\n",
       "      <td>0.150</td>\n",
       "      <td>0.243</td>\n",
       "      <td>0.550</td>\n",
       "      <td>0.050</td>\n",
       "      <td>1.9</td>\n",
       "      <td>0.500</td>\n",
       "      <td>0.867</td>\n",
       "      <td>0.448</td>\n",
       "      <td>0.973</td>\n",
       "    </tr>\n",
       "    <tr>\n",
       "      <th>1</th>\n",
       "      <td>01M448</td>\n",
       "      <td>University Neighborhood High School</td>\n",
       "      <td>High School</td>\n",
       "      <td>392</td>\n",
       "      <td>Meeting Target</td>\n",
       "      <td>Meeting Target</td>\n",
       "      <td>Exceeding Target</td>\n",
       "      <td>Meeting Target</td>\n",
       "      <td>Meeting Target</td>\n",
       "      <td>Exceeding Target</td>\n",
       "      <td>...</td>\n",
       "      <td>0.538</td>\n",
       "      <td>0.301</td>\n",
       "      <td>0.245</td>\n",
       "      <td>0.421</td>\n",
       "      <td>0.028</td>\n",
       "      <td>7.5</td>\n",
       "      <td>0.429</td>\n",
       "      <td>0.925</td>\n",
       "      <td>0.244</td>\n",
       "      <td>0.971</td>\n",
       "    </tr>\n",
       "  </tbody>\n",
       "</table>\n",
       "<p>2 rows × 46 columns</p>\n",
       "</div>"
      ],
      "text/plain": [
       "      DBN                          School Name  School Type  Enrollment  \\\n",
       "0  01M292           Orchard Collegiate Academy  High School         140   \n",
       "1  01M448  University Neighborhood High School  High School         392   \n",
       "\n",
       "  Rigorous Instruction Rating Collaborative Teachers Rating  \\\n",
       "0              Meeting Target              Exceeding Target   \n",
       "1              Meeting Target                Meeting Target   \n",
       "\n",
       "  Supportive Environment Rating Effective School Leadership Rating  \\\n",
       "0                Meeting Target                     Meeting Target   \n",
       "1              Exceeding Target                     Meeting Target   \n",
       "\n",
       "  Strong Family-Community Ties Rating      Trust Rating  ...  \\\n",
       "0                  Approaching Target  Exceeding Target  ...   \n",
       "1                      Meeting Target  Exceeding Target  ...   \n",
       "\n",
       "  Percent HRA Eligible  Percent Asian  Percent Black  Percent Hispanic  \\\n",
       "0                0.621          0.150          0.243             0.550   \n",
       "1                0.538          0.301          0.245             0.421   \n",
       "\n",
       "   Percent White  Years of principal experience at this school  \\\n",
       "0          0.050                                           1.9   \n",
       "1          0.028                                           7.5   \n",
       "\n",
       "   Percent of teachers with 3 or more years of experience  \\\n",
       "0                                              0.500        \n",
       "1                                              0.429        \n",
       "\n",
       "  Student Attendance Rate Percent of Students Chronically Absent  \\\n",
       "0                   0.867                                  0.448   \n",
       "1                   0.925                                  0.244   \n",
       "\n",
       "  Teacher Attendance Rate  \n",
       "0                   0.973  \n",
       "1                   0.971  \n",
       "\n",
       "[2 rows x 46 columns]"
      ]
     },
     "execution_count": 78,
     "metadata": {},
     "output_type": "execute_result"
    }
   ],
   "source": [
    "report_df[:2]"
   ]
  },
  {
   "cell_type": "code",
   "execution_count": 83,
   "metadata": {},
   "outputs": [
    {
     "data": {
      "text/plain": [
       "Index(['DBN', 'School Name', 'School Type', 'Enrollment',\n",
       "       'Rigorous Instruction Rating', 'Collaborative Teachers Rating',\n",
       "       'Supportive Environment Rating', 'Effective School Leadership Rating',\n",
       "       'Strong Family-Community Ties Rating', 'Trust Rating',\n",
       "       'Student Achievement Rating', 'Rigorous Instruction - Percent Positive',\n",
       "       'Collaborative Teachers - Percent Positive',\n",
       "       'Supportive Environment - Percent Positive',\n",
       "       'Effective School Leadership - Percent Positive',\n",
       "       'Strong Family-Community Ties - Percent Positive',\n",
       "       'Trust - Percent Positive',\n",
       "       'Quality Review - How interesting and challenging is the curriculum?',\n",
       "       'Quality Review - How effective is the teaching and learning?',\n",
       "       'Quality Review - How well does the school assess what students are learning?',\n",
       "       'Quality Review - How clearly are high expectations communicated to students and staff?',\n",
       "       'Quality Review - How well do teachers work with each other?',\n",
       "       'Quality Review - How safe and inclusive is the school while supporting social-emotional growth?',\n",
       "       'Quality Review - How well does the school allocate and manage resources?',\n",
       "       'Quality Review - How well does the school identify, track, and meet its goals?',\n",
       "       'Quality Review - How thoughtful is the school’s approach to teacher development and evaluation?',\n",
       "       'Quality Review - How well are school decisions evaluated and adjusted?',\n",
       "       'Quality Review - Dates of Review',\n",
       "       'Average Grade 8 English Proficiency',\n",
       "       'Average Grade 8 Math Proficiency', 'Percent English Language Learners',\n",
       "       'Percent Students with Disabilities', 'Percent Self-Contained',\n",
       "       'Economic Need Index', 'Percent Overage/ Undercredited',\n",
       "       'Percent in Temp Housing', 'Percent HRA Eligible', 'Percent Asian',\n",
       "       'Percent Black', 'Percent Hispanic', 'Percent White',\n",
       "       'Years of principal experience at this school',\n",
       "       'Percent of teachers with 3 or more years of experience',\n",
       "       'Student Attendance Rate', 'Percent of Students Chronically Absent',\n",
       "       'Teacher Attendance Rate'],\n",
       "      dtype='object')"
      ]
     },
     "execution_count": 83,
     "metadata": {},
     "output_type": "execute_result"
    }
   ],
   "source": [
    "report_df.columns"
   ]
  },
  {
   "cell_type": "code",
   "execution_count": 30,
   "metadata": {},
   "outputs": [],
   "source": [
    "df_dir = pd.read_csv('./hs_directory.csv')"
   ]
  },
  {
   "cell_type": "code",
   "execution_count": 176,
   "metadata": {},
   "outputs": [],
   "source": [
    "cols = ['dbn', 'total_students', 'graduation_rate', 'attendance_rate',\n",
    "       'pct_stu_enough_variety', 'college_career_rate', 'pct_stu_safe',\n",
    "       'girls', 'boys', 'pbat', 'international', 'specialized', 'transfer',\n",
    "       'ptech', 'earlycollege', 'school_accessibility_description']\n",
    "geo_cols = ['zip', 'Latitude', 'Longitude', 'Community Board', 'Council District',\n",
    "       'Census Tract', 'BIN', 'BBL']\n",
    "\n",
    "comb_cols = cols + geo_cols"
   ]
  },
  {
   "cell_type": "code",
   "execution_count": 178,
   "metadata": {},
   "outputs": [],
   "source": [
    "# comb_cols"
   ]
  },
  {
   "cell_type": "code",
   "execution_count": 179,
   "metadata": {},
   "outputs": [],
   "source": [
    "dir_selected = df_dir[comb_cols]"
   ]
  },
  {
   "cell_type": "code",
   "execution_count": 185,
   "metadata": {},
   "outputs": [],
   "source": [
    "# dir_selected['DBN']\n",
    "# df_dir['dbn']\n",
    "\n",
    "# dir_selected\n",
    "\n",
    "# dir_selected['dbn'].value_counts()"
   ]
  },
  {
   "cell_type": "code",
   "execution_count": 134,
   "metadata": {},
   "outputs": [],
   "source": [
    "# reduced_cols = [col for col in df_dir.columns if 'academic' not in col]\n",
    "# reduced_cols = [col for col in reduced_cols if 'directions' not in col]\n",
    "# reduced_cols = [col for col in reduced_cols if 'prg' not in col]\n",
    "# reduced_cols = [col for col in reduced_cols if 'requirement' not in col]\n",
    "repeated_cols = pd.Series([col[:4] for col in df_dir.columns]).value_counts()[:17].index\n",
    "selected_columns = []\n",
    "for repeated_col in repeated_cols:\n",
    "    selected_columns += [col for col in df_dir.columns if repeated_col in col]"
   ]
  },
  {
   "cell_type": "code",
   "execution_count": 137,
   "metadata": {},
   "outputs": [],
   "source": [
    "cols_to_choose = set(df_dir.columns) - set(selected_columns)"
   ]
  },
  {
   "cell_type": "code",
   "execution_count": 144,
   "metadata": {},
   "outputs": [],
   "source": [
    "# df_dir[cols_to_choose]\n",
    "\n",
    "# df_dir\n",
    "\n"
   ]
  },
  {
   "cell_type": "code",
   "execution_count": 158,
   "metadata": {},
   "outputs": [],
   "source": [
    "\n",
    "\n",
    "\n",
    "# df_dir.select_dtypes(exclude = 'object').dtypes.index[-8:]"
   ]
  },
  {
   "cell_type": "code",
   "execution_count": 91,
   "metadata": {},
   "outputs": [
    {
     "data": {
      "text/plain": [
       "<matplotlib.axes._subplots.AxesSubplot at 0x116f88450>"
      ]
     },
     "execution_count": 91,
     "metadata": {},
     "output_type": "execute_result"
    },
    {
     "data": {
      "image/png": "[encoded data removed]",
      "text/plain": [
       "<Figure size 432x288 with 1 Axes>"
      ]
     },
     "metadata": {
      "needs_background": "light"
     },
     "output_type": "display_data"
    }
   ],
   "source": [
    "df_dir['graduation_rate']"
   ]
  },
  {
   "cell_type": "code",
   "execution_count": 20,
   "metadata": {},
   "outputs": [],
   "source": [
    "df_grad = pd.read_csv('./graduation_outcomes_school.csv')"
   ]
  },
  {
   "cell_type": "code",
   "execution_count": 74,
   "metadata": {},
   "outputs": [],
   "source": [
    "schools_2014 = df_grad[df_grad['Cohort Year'] == 2014]"
   ]
  },
  {
   "cell_type": "code",
   "execution_count": 79,
   "metadata": {},
   "outputs": [],
   "source": [
    "selected_2014 = schools_2014[['DBN', 'Total Grads % of cohort']]"
   ]
  },
  {
   "cell_type": "code",
   "execution_count": 174,
   "metadata": {},
   "outputs": [
    {
     "data": {
      "text/html": [
       "<div>\n",
       "<style scoped>\n",
       "    .dataframe tbody tr th:only-of-type {\n",
       "        vertical-align: middle;\n",
       "    }\n",
       "\n",
       "    .dataframe tbody tr th {\n",
       "        vertical-align: top;\n",
       "    }\n",
       "\n",
       "    .dataframe thead th {\n",
       "        text-align: right;\n",
       "    }\n",
       "</style>\n",
       "<table border=\"1\" class=\"dataframe\">\n",
       "  <thead>\n",
       "    <tr style=\"text-align: right;\">\n",
       "      <th></th>\n",
       "      <th>total_students</th>\n",
       "      <th>graduation_rate</th>\n",
       "      <th>attendance_rate</th>\n",
       "      <th>pct_stu_enough_variety</th>\n",
       "      <th>college_career_rate</th>\n",
       "      <th>pct_stu_safe</th>\n",
       "      <th>girls</th>\n",
       "      <th>boys</th>\n",
       "      <th>pbat</th>\n",
       "      <th>international</th>\n",
       "      <th>...</th>\n",
       "      <th>earlycollege</th>\n",
       "      <th>school_accessibility_description</th>\n",
       "      <th>zip</th>\n",
       "      <th>Latitude</th>\n",
       "      <th>Longitude</th>\n",
       "      <th>Community Board</th>\n",
       "      <th>Council District</th>\n",
       "      <th>Census Tract</th>\n",
       "      <th>BIN</th>\n",
       "      <th>BBL</th>\n",
       "    </tr>\n",
       "  </thead>\n",
       "  <tbody>\n",
       "    <tr>\n",
       "      <th>0</th>\n",
       "      <td>594</td>\n",
       "      <td>0.74</td>\n",
       "      <td>0.85</td>\n",
       "      <td>0.58</td>\n",
       "      <td>0.49</td>\n",
       "      <td>0.74</td>\n",
       "      <td>NaN</td>\n",
       "      <td>NaN</td>\n",
       "      <td>NaN</td>\n",
       "      <td>NaN</td>\n",
       "      <td>...</td>\n",
       "      <td>NaN</td>\n",
       "      <td>2.0</td>\n",
       "      <td>11221</td>\n",
       "      <td>40.688831</td>\n",
       "      <td>-73.920906</td>\n",
       "      <td>3</td>\n",
       "      <td>41</td>\n",
       "      <td>375</td>\n",
       "      <td>3039676.0</td>\n",
       "      <td>3.014820e+09</td>\n",
       "    </tr>\n",
       "    <tr>\n",
       "      <th>1</th>\n",
       "      <td>417</td>\n",
       "      <td>0.63</td>\n",
       "      <td>0.88</td>\n",
       "      <td>0.92</td>\n",
       "      <td>0.53</td>\n",
       "      <td>0.86</td>\n",
       "      <td>NaN</td>\n",
       "      <td>NaN</td>\n",
       "      <td>1.0</td>\n",
       "      <td>1.0</td>\n",
       "      <td>...</td>\n",
       "      <td>NaN</td>\n",
       "      <td>2.0</td>\n",
       "      <td>11225</td>\n",
       "      <td>40.670349</td>\n",
       "      <td>-73.961695</td>\n",
       "      <td>9</td>\n",
       "      <td>35</td>\n",
       "      <td>213</td>\n",
       "      <td>3029686.0</td>\n",
       "      <td>3.011870e+09</td>\n",
       "    </tr>\n",
       "  </tbody>\n",
       "</table>\n",
       "<p>2 rows × 23 columns</p>\n",
       "</div>"
      ],
      "text/plain": [
       "   total_students  graduation_rate  attendance_rate  pct_stu_enough_variety  \\\n",
       "0             594             0.74             0.85                    0.58   \n",
       "1             417             0.63             0.88                    0.92   \n",
       "\n",
       "   college_career_rate  pct_stu_safe  girls  boys  pbat  international  ...  \\\n",
       "0                 0.49          0.74    NaN   NaN   NaN            NaN  ...   \n",
       "1                 0.53          0.86    NaN   NaN   1.0            1.0  ...   \n",
       "\n",
       "   earlycollege  school_accessibility_description    zip   Latitude  \\\n",
       "0           NaN                               2.0  11221  40.688831   \n",
       "1           NaN                               2.0  11225  40.670349   \n",
       "\n",
       "   Longitude  Community Board  Council District  Census Tract        BIN  \\\n",
       "0 -73.920906                3                41           375  3039676.0   \n",
       "1 -73.961695                9                35           213  3029686.0   \n",
       "\n",
       "            BBL  \n",
       "0  3.014820e+09  \n",
       "1  3.011870e+09  \n",
       "\n",
       "[2 rows x 23 columns]"
      ]
     },
     "execution_count": 174,
     "metadata": {},
     "output_type": "execute_result"
    }
   ],
   "source": [
    "dir_selected[:2]"
   ]
  },
  {
   "cell_type": "code",
   "execution_count": 192,
   "metadata": {},
   "outputs": [
    {
     "data": {
      "text/html": [
       "<div>\n",
       "<style scoped>\n",
       "    .dataframe tbody tr th:only-of-type {\n",
       "        vertical-align: middle;\n",
       "    }\n",
       "\n",
       "    .dataframe tbody tr th {\n",
       "        vertical-align: top;\n",
       "    }\n",
       "\n",
       "    .dataframe thead th {\n",
       "        text-align: right;\n",
       "    }\n",
       "</style>\n",
       "<table border=\"1\" class=\"dataframe\">\n",
       "  <thead>\n",
       "    <tr style=\"text-align: right;\">\n",
       "      <th></th>\n",
       "      <th>DBN</th>\n",
       "      <th>Total Grads % of cohort</th>\n",
       "    </tr>\n",
       "  </thead>\n",
       "  <tbody>\n",
       "    <tr>\n",
       "      <th>0</th>\n",
       "      <td>01M292</td>\n",
       "      <td>96.6</td>\n",
       "    </tr>\n",
       "    <tr>\n",
       "      <th>10</th>\n",
       "      <td>01M292</td>\n",
       "      <td>86.2</td>\n",
       "    </tr>\n",
       "  </tbody>\n",
       "</table>\n",
       "</div>"
      ],
      "text/plain": [
       "       DBN Total Grads % of cohort\n",
       "0   01M292                    96.6\n",
       "10  01M292                    86.2"
      ]
     },
     "execution_count": 192,
     "metadata": {},
     "output_type": "execute_result"
    }
   ],
   "source": [
    "selected_2014[:2]"
   ]
  },
  {
   "cell_type": "code",
   "execution_count": 194,
   "metadata": {},
   "outputs": [],
   "source": [
    "comb_schools = pd.merge(report_df,  dir_selected, left_on = 'DBN', right_on = 'dbn')"
   ]
  },
  {
   "cell_type": "code",
   "execution_count": 196,
   "metadata": {},
   "outputs": [],
   "source": [
    "comb_schools.to_csv('./combined_schools.csv')"
   ]
  },
  {
   "cell_type": "code",
   "execution_count": 75,
   "metadata": {},
   "outputs": [
    {
     "data": {
      "text/html": [
       "<div>\n",
       "<style scoped>\n",
       "    .dataframe tbody tr th:only-of-type {\n",
       "        vertical-align: middle;\n",
       "    }\n",
       "\n",
       "    .dataframe tbody tr th {\n",
       "        vertical-align: top;\n",
       "    }\n",
       "\n",
       "    .dataframe thead th {\n",
       "        text-align: right;\n",
       "    }\n",
       "</style>\n",
       "<table border=\"1\" class=\"dataframe\">\n",
       "  <thead>\n",
       "    <tr style=\"text-align: right;\">\n",
       "      <th></th>\n",
       "      <th>DBN</th>\n",
       "      <th>School Name</th>\n",
       "      <th>Demographic Category</th>\n",
       "      <th>Demographic Variable</th>\n",
       "      <th>Cohort Year</th>\n",
       "      <th>Cohort</th>\n",
       "      <th>Total Cohort #</th>\n",
       "      <th>Total Grads #</th>\n",
       "      <th>Total Grads % of cohort</th>\n",
       "      <th>Total Regents #</th>\n",
       "      <th>...</th>\n",
       "      <th>Regents w/o Advanced #</th>\n",
       "      <th>Regents w/o Advanced % of cohort</th>\n",
       "      <th>Regents w/o Advanced % of grads</th>\n",
       "      <th>Local #</th>\n",
       "      <th>Local % of cohort</th>\n",
       "      <th>Local % of grads</th>\n",
       "      <th>Still Enrolled #</th>\n",
       "      <th>Still Enrolled % of cohort</th>\n",
       "      <th>Dropped Out #</th>\n",
       "      <th>Dropped Out % of cohort</th>\n",
       "    </tr>\n",
       "  </thead>\n",
       "  <tbody>\n",
       "    <tr>\n",
       "      <th>0</th>\n",
       "      <td>01M292</td>\n",
       "      <td>ORCHARD COLLEGIATE ACADEMY</td>\n",
       "      <td>All Students</td>\n",
       "      <td>All Students</td>\n",
       "      <td>2014</td>\n",
       "      <td>4 year August</td>\n",
       "      <td>29</td>\n",
       "      <td>28</td>\n",
       "      <td>96.6</td>\n",
       "      <td>25</td>\n",
       "      <td>...</td>\n",
       "      <td>25</td>\n",
       "      <td>86.2</td>\n",
       "      <td>89.3</td>\n",
       "      <td>3</td>\n",
       "      <td>10.3</td>\n",
       "      <td>10.7</td>\n",
       "      <td>0</td>\n",
       "      <td>0.0</td>\n",
       "      <td>1</td>\n",
       "      <td>3.4</td>\n",
       "    </tr>\n",
       "    <tr>\n",
       "      <th>10</th>\n",
       "      <td>01M292</td>\n",
       "      <td>ORCHARD COLLEGIATE ACADEMY</td>\n",
       "      <td>All Students</td>\n",
       "      <td>All Students</td>\n",
       "      <td>2014</td>\n",
       "      <td>4 year June</td>\n",
       "      <td>29</td>\n",
       "      <td>25</td>\n",
       "      <td>86.2</td>\n",
       "      <td>22</td>\n",
       "      <td>...</td>\n",
       "      <td>22</td>\n",
       "      <td>75.9</td>\n",
       "      <td>88.0</td>\n",
       "      <td>3</td>\n",
       "      <td>10.3</td>\n",
       "      <td>12.0</td>\n",
       "      <td>3</td>\n",
       "      <td>10.3</td>\n",
       "      <td>1</td>\n",
       "      <td>3.4</td>\n",
       "    </tr>\n",
       "    <tr>\n",
       "      <th>51</th>\n",
       "      <td>01M292</td>\n",
       "      <td>ORCHARD COLLEGIATE ACADEMY</td>\n",
       "      <td>ELL Status</td>\n",
       "      <td>Current ELL</td>\n",
       "      <td>2014</td>\n",
       "      <td>4 year August</td>\n",
       "      <td>1</td>\n",
       "      <td>s</td>\n",
       "      <td>s</td>\n",
       "      <td>s</td>\n",
       "      <td>...</td>\n",
       "      <td>s</td>\n",
       "      <td>s</td>\n",
       "      <td>s</td>\n",
       "      <td>s</td>\n",
       "      <td>s</td>\n",
       "      <td>s</td>\n",
       "      <td>s</td>\n",
       "      <td>s</td>\n",
       "      <td>s</td>\n",
       "      <td>s</td>\n",
       "    </tr>\n",
       "  </tbody>\n",
       "</table>\n",
       "<p>3 rows × 25 columns</p>\n",
       "</div>"
      ],
      "text/plain": [
       "       DBN                 School Name Demographic Category  \\\n",
       "0   01M292  ORCHARD COLLEGIATE ACADEMY         All Students   \n",
       "10  01M292  ORCHARD COLLEGIATE ACADEMY         All Students   \n",
       "51  01M292  ORCHARD COLLEGIATE ACADEMY           ELL Status   \n",
       "\n",
       "   Demographic Variable  Cohort Year         Cohort  Total Cohort #  \\\n",
       "0          All Students         2014  4 year August              29   \n",
       "10         All Students         2014    4 year June              29   \n",
       "51          Current ELL         2014  4 year August               1   \n",
       "\n",
       "   Total Grads # Total Grads % of cohort Total Regents #  ...  \\\n",
       "0             28                    96.6              25  ...   \n",
       "10            25                    86.2              22  ...   \n",
       "51             s                       s               s  ...   \n",
       "\n",
       "   Regents w/o Advanced # Regents w/o Advanced % of cohort  \\\n",
       "0                      25                             86.2   \n",
       "10                     22                             75.9   \n",
       "51                      s                                s   \n",
       "\n",
       "   Regents w/o Advanced % of grads Local # Local % of cohort Local % of grads  \\\n",
       "0                             89.3       3              10.3             10.7   \n",
       "10                            88.0       3              10.3             12.0   \n",
       "51                               s       s                 s                s   \n",
       "\n",
       "   Still Enrolled # Still Enrolled % of cohort Dropped Out #  \\\n",
       "0                 0                        0.0             1   \n",
       "10                3                       10.3             1   \n",
       "51                s                          s             s   \n",
       "\n",
       "   Dropped Out % of cohort  \n",
       "0                      3.4  \n",
       "10                     3.4  \n",
       "51                       s  \n",
       "\n",
       "[3 rows x 25 columns]"
      ]
     },
     "execution_count": 75,
     "metadata": {},
     "output_type": "execute_result"
    }
   ],
   "source": [
    "schools_2014[:3]"
   ]
  },
  {
   "cell_type": "code",
   "execution_count": 72,
   "metadata": {},
   "outputs": [],
   "source": [
    "percent_grads = schools_2014['Total Grads % of cohort']"
   ]
  },
  {
   "cell_type": "code",
   "execution_count": 73,
   "metadata": {},
   "outputs": [
    {
     "data": {
      "text/plain": [
       "s        0.302446\n",
       "100.0    0.074738\n",
       "83.3     0.011645\n",
       "80.0     0.011437\n",
       "66.7     0.011271\n",
       "75.0     0.009691\n",
       "0.0      0.009483\n",
       "50.0     0.008484\n",
       "85.7     0.008443\n",
       "60.0     0.006530\n",
       "87.5     0.006280\n",
       "71.4     0.006031\n",
       "88.9     0.005781\n",
       "90.0     0.004866\n",
       "77.8     0.004741\n",
       "81.8     0.004575\n",
       "92.3     0.004076\n",
       "40.0     0.003868\n",
       "20.0     0.003826\n",
       "72.7     0.003743\n",
       "90.9     0.003535\n",
       "92.9     0.003535\n",
       "82.4     0.003494\n",
       "33.3     0.003452\n",
       "84.6     0.003452\n",
       "62.5     0.003369\n",
       "91.7     0.003327\n",
       "86.7     0.003286\n",
       "57.1     0.003244\n",
       "76.9     0.003161\n",
       "           ...   \n",
       "51.8     0.000042\n",
       "18.0     0.000042\n",
       "47.3     0.000042\n",
       "63.1     0.000042\n",
       "59.9     0.000042\n",
       "33.1     0.000042\n",
       "5.1      0.000042\n",
       "48.5     0.000042\n",
       "83.4     0.000042\n",
       "7.8      0.000042\n",
       "15.9     0.000042\n",
       "49.7     0.000042\n",
       "1.5      0.000042\n",
       "7.2      0.000042\n",
       "27.4     0.000042\n",
       "38.4     0.000042\n",
       "9.3      0.000042\n",
       "24.7     0.000042\n",
       "21.0     0.000042\n",
       "38.2     0.000042\n",
       "11.2     0.000042\n",
       "27.6     0.000042\n",
       "11.0     0.000042\n",
       "39.0     0.000042\n",
       "50.6     0.000042\n",
       "37.8     0.000042\n",
       "57.3     0.000042\n",
       "26.5     0.000042\n",
       "4.9      0.000042\n",
       "52.8     0.000042\n",
       "Name: Total Grads % of cohort, Length: 890, dtype: float64"
      ]
     },
     "execution_count": 73,
     "metadata": {},
     "output_type": "execute_result"
    }
   ],
   "source": [
    "percent_grads.value_counts(normalize = True)"
   ]
  },
  {
   "cell_type": "code",
   "execution_count": 38,
   "metadata": {},
   "outputs": [
    {
     "data": {
      "text/plain": [
       "<matplotlib.axes._subplots.AxesSubplot at 0x11580b690>"
      ]
     },
     "execution_count": 38,
     "metadata": {},
     "output_type": "execute_result"
    },
    {
     "data": {
      "image/png": "[encoded data removed]",
      "text/plain": [
       "<Figure size 432x288 with 1 Axes>"
      ]
     },
     "metadata": {
      "needs_background": "light"
     },
     "output_type": "display_data"
    }
   ],
   "source": [
    "pd.to_numeric(percent_grads[~(percent_grads == 's')]).hist()"
   ]
  },
  {
   "cell_type": "code",
   "execution_count": 60,
   "metadata": {},
   "outputs": [
    {
     "data": {
      "text/plain": [
       "s        0.302446\n",
       "100.0    0.074738\n",
       "83.3     0.011645\n",
       "80.0     0.011437\n",
       "66.7     0.011271\n",
       "75.0     0.009691\n",
       "0.0      0.009483\n",
       "50.0     0.008484\n",
       "85.7     0.008443\n",
       "60.0     0.006530\n",
       "87.5     0.006280\n",
       "71.4     0.006031\n",
       "88.9     0.005781\n",
       "90.0     0.004866\n",
       "77.8     0.004741\n",
       "81.8     0.004575\n",
       "92.3     0.004076\n",
       "40.0     0.003868\n",
       "20.0     0.003826\n",
       "72.7     0.003743\n",
       "90.9     0.003535\n",
       "92.9     0.003535\n",
       "82.4     0.003494\n",
       "33.3     0.003452\n",
       "84.6     0.003452\n",
       "62.5     0.003369\n",
       "91.7     0.003327\n",
       "86.7     0.003286\n",
       "57.1     0.003244\n",
       "76.9     0.003161\n",
       "           ...   \n",
       "51.8     0.000042\n",
       "18.0     0.000042\n",
       "47.3     0.000042\n",
       "63.1     0.000042\n",
       "59.9     0.000042\n",
       "33.1     0.000042\n",
       "5.1      0.000042\n",
       "48.5     0.000042\n",
       "83.4     0.000042\n",
       "7.8      0.000042\n",
       "15.9     0.000042\n",
       "49.7     0.000042\n",
       "1.5      0.000042\n",
       "7.2      0.000042\n",
       "27.4     0.000042\n",
       "38.4     0.000042\n",
       "9.3      0.000042\n",
       "24.7     0.000042\n",
       "21.0     0.000042\n",
       "38.2     0.000042\n",
       "11.2     0.000042\n",
       "27.6     0.000042\n",
       "11.0     0.000042\n",
       "39.0     0.000042\n",
       "50.6     0.000042\n",
       "37.8     0.000042\n",
       "57.3     0.000042\n",
       "26.5     0.000042\n",
       "4.9      0.000042\n",
       "52.8     0.000042\n",
       "Name: Total Grads % of cohort, Length: 890, dtype: float64"
      ]
     },
     "execution_count": 60,
     "metadata": {},
     "output_type": "execute_result"
    }
   ],
   "source": [
    "percent_grads.value_counts(normalize = True)"
   ]
  },
  {
   "cell_type": "code",
   "execution_count": 40,
   "metadata": {},
   "outputs": [],
   "source": [
    "total_regents = schools_2014['Total Regents % of grads']"
   ]
  },
  {
   "cell_type": "code",
   "execution_count": 43,
   "metadata": {},
   "outputs": [],
   "source": [
    "# total_regents.value_counts()"
   ]
  },
  {
   "cell_type": "code",
   "execution_count": 49,
   "metadata": {},
   "outputs": [],
   "source": [
    "\n",
    "\n",
    "regents_selected = total_regents[~(total_regents == 's')]"
   ]
  },
  {
   "cell_type": "code",
   "execution_count": null,
   "metadata": {},
   "outputs": [],
   "source": [
    "# regents_selected"
   ]
  },
  {
   "cell_type": "code",
   "execution_count": 53,
   "metadata": {},
   "outputs": [
    {
     "data": {
      "text/plain": [
       "<matplotlib.axes._subplots.AxesSubplot at 0x117fb98d0>"
      ]
     },
     "execution_count": 53,
     "metadata": {},
     "output_type": "execute_result"
    },
    {
     "data": {
      "image/png": "[encoded data removed]",
      "text/plain": [
       "<Figure size 432x288 with 1 Axes>"
      ]
     },
     "metadata": {
      "needs_background": "light"
     },
     "output_type": "display_data"
    }
   ],
   "source": [
    "\n",
    "\n",
    "pd.to_numeric(regents_selected[~(regents_selected == 'No Data')]).hist()"
   ]
  },
  {
   "cell_type": "code",
   "execution_count": 54,
   "metadata": {},
   "outputs": [
    {
     "data": {
      "text/plain": [
       "Index(['DBN', 'School Name', 'Demographic Category', 'Demographic Variable',\n",
       "       'Cohort Year', 'Cohort', 'Total Cohort #', 'Total Grads #',\n",
       "       'Total Grads % of cohort', 'Total Regents #',\n",
       "       'Total Regents % of cohort', 'Total Regents % of grads',\n",
       "       'Advanced Regents #', 'Advanced Regents % of cohort',\n",
       "       'Advanced Regents % of grads', 'Regents w/o Advanced #',\n",
       "       'Regents w/o Advanced % of cohort', 'Regents w/o Advanced % of grads',\n",
       "       'Local #', 'Local % of cohort', 'Local % of grads', 'Still Enrolled #',\n",
       "       'Still Enrolled % of cohort', 'Dropped Out #',\n",
       "       'Dropped Out % of cohort'],\n",
       "      dtype='object')"
      ]
     },
     "execution_count": 54,
     "metadata": {},
     "output_type": "execute_result"
    }
   ],
   "source": [
    "schools_2014.columns"
   ]
  },
  {
   "cell_type": "code",
   "execution_count": 57,
   "metadata": {},
   "outputs": [],
   "source": [
    "adv_regents = schools_2014['Advanced Regents % of cohort']\n",
    "adv_regents_selected = adv_regents[~(adv_regents == 's')]\n"
   ]
  },
  {
   "cell_type": "code",
   "execution_count": 59,
   "metadata": {},
   "outputs": [
    {
     "data": {
      "text/plain": [
       "<matplotlib.axes._subplots.AxesSubplot at 0x118042c90>"
      ]
     },
     "execution_count": 59,
     "metadata": {},
     "output_type": "execute_result"
    },
    {
     "data": {
      "image/png": "[encoded data removed]",
      "text/plain": [
       "<Figure size 432x288 with 1 Axes>"
      ]
     },
     "metadata": {
      "needs_background": "light"
     },
     "output_type": "display_data"
    }
   ],
   "source": [
    "pd.to_numeric(adv_regents_selected).hist()"
   ]
  },
  {
   "cell_type": "code",
   "execution_count": null,
   "metadata": {},
   "outputs": [],
   "source": []
  }
 ],
 "metadata": {
  "kernelspec": {
   "display_name": "Python 3",
   "language": "python",
   "name": "python3"
  },
  "language_info": {
   "codemirror_mode": {
    "name": "ipython",
    "version": 3
   },
   "file_extension": ".py",
   "mimetype": "text/x-python",
   "name": "python",
   "nbconvert_exporter": "python",
   "pygments_lexer": "ipython3",
   "version": "3.7.4"
  }
 },
 "nbformat": 4,
 "nbformat_minor": 4
}
