{
 "cells": [
  {
   "cell_type": "markdown",
   "metadata": {},
   "source": [
    "# Categorical Data Lab"
   ]
  },
  {
   "cell_type": "markdown",
   "metadata": {},
   "source": [
    "### Introduction"
   ]
  },
  {
   "cell_type": "markdown",
   "metadata": {},
   "source": [
    "In this lesson, we'll work through our machine learning process with categorical data."
   ]
  },
  {
   "cell_type": "markdown",
   "metadata": {},
   "source": [
    "### Loading our Data"
   ]
  },
  {
   "cell_type": "markdown",
   "metadata": {},
   "source": [
    "Let's begin by loading up our data."
   ]
  },
  {
   "cell_type": "code",
   "execution_count": 694,
   "metadata": {},
   "outputs": [],
   "source": [
    "import pandas as pd \n",
    "url = \"https://raw.githubusercontent.com/jigsawlabs-student/feature-engineering/master/8-categorical-variables-lab/imdb_movies.csv\"\n",
    "movies_df = pd.read_csv(url)"
   ]
  },
  {
   "cell_type": "markdown",
   "metadata": {},
   "source": [
    "Take a look at the `info` to get a sense of our datatypes and null values."
   ]
  },
  {
   "cell_type": "code",
   "execution_count": 695,
   "metadata": {},
   "outputs": [
    {
     "name": "stdout",
     "output_type": "stream",
     "text": [
      "<class 'pandas.core.frame.DataFrame'>\n",
      "RangeIndex: 2000 entries, 0 to 1999\n",
      "Data columns (total 7 columns):\n",
      "title      2000 non-null object\n",
      "genre      1916 non-null object\n",
      "budget     2000 non-null int64\n",
      "runtime    2000 non-null float64\n",
      "year       2000 non-null int64\n",
      "month      2000 non-null int64\n",
      "revenue    2000 non-null int64\n",
      "dtypes: float64(1), int64(4), object(2)\n",
      "memory usage: 109.5+ KB\n"
     ]
    }
   ],
   "source": [
    "movies_df.info()\n",
    "\n",
    "# <class 'pandas.core.frame.DataFrame'>\n",
    "# RangeIndex: 2000 entries, 0 to 1999\n",
    "# Data columns (total 7 columns):\n",
    "# title      2000 non-null object\n",
    "# genre      1916 non-null object\n",
    "# budget     2000 non-null int64\n",
    "# runtime    2000 non-null float64\n",
    "# year       2000 non-null int64\n",
    "# month      2000 non-null int64\n",
    "# revenue    2000 non-null int64\n",
    "# dtypes: float64(1), int64(4), object(2)\n",
    "# memory usage: 109.5+ KB"
   ]
  },
  {
   "cell_type": "markdown",
   "metadata": {},
   "source": [
    "We can see that our movies include a time component, so let's sort our movies by `year` and then `month` right off the bat."
   ]
  },
  {
   "cell_type": "code",
   "execution_count": 696,
   "metadata": {},
   "outputs": [],
   "source": [
    "sorted_movies_df = movies_df.sort_values(['year', 'month'])"
   ]
  },
  {
   "cell_type": "code",
   "execution_count": 697,
   "metadata": {},
   "outputs": [
    {
     "data": {
      "text/html": [
       "<div>\n",
       "<style scoped>\n",
       "    .dataframe tbody tr th:only-of-type {\n",
       "        vertical-align: middle;\n",
       "    }\n",
       "\n",
       "    .dataframe tbody tr th {\n",
       "        vertical-align: top;\n",
       "    }\n",
       "\n",
       "    .dataframe thead th {\n",
       "        text-align: right;\n",
       "    }\n",
       "</style>\n",
       "<table border=\"1\" class=\"dataframe\">\n",
       "  <thead>\n",
       "    <tr style=\"text-align: right;\">\n",
       "      <th></th>\n",
       "      <th>title</th>\n",
       "      <th>genre</th>\n",
       "      <th>budget</th>\n",
       "      <th>runtime</th>\n",
       "      <th>year</th>\n",
       "      <th>month</th>\n",
       "      <th>revenue</th>\n",
       "    </tr>\n",
       "  </thead>\n",
       "  <tbody>\n",
       "    <tr>\n",
       "      <th>1108</th>\n",
       "      <td>Pinocchio</td>\n",
       "      <td>Animation</td>\n",
       "      <td>2600000</td>\n",
       "      <td>88.0</td>\n",
       "      <td>1940</td>\n",
       "      <td>2</td>\n",
       "      <td>84300000</td>\n",
       "    </tr>\n",
       "    <tr>\n",
       "      <th>862</th>\n",
       "      <td>Lolita</td>\n",
       "      <td>Drama</td>\n",
       "      <td>2000000</td>\n",
       "      <td>153.0</td>\n",
       "      <td>1962</td>\n",
       "      <td>6</td>\n",
       "      <td>9250000</td>\n",
       "    </tr>\n",
       "  </tbody>\n",
       "</table>\n",
       "</div>"
      ],
      "text/plain": [
       "          title      genre   budget  runtime  year  month   revenue\n",
       "1108  Pinocchio  Animation  2600000     88.0  1940      2  84300000\n",
       "862      Lolita      Drama  2000000    153.0  1962      6   9250000"
      ]
     },
     "execution_count": 697,
     "metadata": {},
     "output_type": "execute_result"
    }
   ],
   "source": [
    "sorted_movies_df[:2]\n",
    "# \ttitle\tgenre\tbudget\truntime\tyear\tmonth\trevenue\n",
    "# 1108\tPinocchio\tAnimation\t2600000\t88.0\t1940\t2\t84300000\n",
    "# 862\tLolita\tDrama\t2000000\t153.0\t1962\t6\t9250000"
   ]
  },
  {
   "cell_type": "markdown",
   "metadata": {},
   "source": [
    "### Missing Data Analysis"
   ]
  },
  {
   "cell_type": "markdown",
   "metadata": {},
   "source": [
    "Remember that this includes:\n",
    "\n",
    "1. **Plotting histograms** of features to look for:\n",
    "    * Values that do not fit our domain\n",
    "    * Values that occur more than we would expect (and could have been replaced missing values)\n",
    "\n",
    "2. **Examining common placeholders** for missing values like:\n",
    "    * an empty string\n",
    "    * not available\n",
    "    * 0, 999, -999\n"
   ]
  },
  {
   "cell_type": "markdown",
   "metadata": {},
   "source": [
    "Let's get an overview of our data by plotting a histogram of each of the our features."
   ]
  },
  {
   "cell_type": "code",
   "execution_count": 698,
   "metadata": {},
   "outputs": [
    {
     "data": {
      "text/plain": [
       "array([[<matplotlib.axes._subplots.AxesSubplot object at 0x1c1ca2bfd0>,\n",
       "        <matplotlib.axes._subplots.AxesSubplot object at 0x1c1ca48ad0>],\n",
       "       [<matplotlib.axes._subplots.AxesSubplot object at 0x1c1c9f3dd0>,\n",
       "        <matplotlib.axes._subplots.AxesSubplot object at 0x1c1b21cfd0>],\n",
       "       [<matplotlib.axes._subplots.AxesSubplot object at 0x1c1b24dc90>,\n",
       "        <matplotlib.axes._subplots.AxesSubplot object at 0x1c1b2884d0>]],\n",
       "      dtype=object)"
      ]
     },
     "execution_count": 698,
     "metadata": {},
     "output_type": "execute_result"
    },
    {
     "data": {
      "image/png": "[encoded data removed]",
      "text/plain": [
       "<Figure size 432x288 with 6 Axes>"
      ]
     },
     "metadata": {
      "needs_background": "light"
     },
     "output_type": "display_data"
    }
   ],
   "source": [
    "sorted_movies_df.hist()"
   ]
  },
  {
   "cell_type": "markdown",
   "metadata": {},
   "source": [
    "<img src=\"./hist-features.png\" width=\"60%\">"
   ]
  },
  {
   "cell_type": "markdown",
   "metadata": {},
   "source": [
    "Ok, each of the distributions above seem reasonable.  Although we can see from the `year` histogram that we do not have a simple random sample of movies."
   ]
  },
  {
   "cell_type": "markdown",
   "metadata": {},
   "source": [
    "Let's use `describe` to see if there are any suspicous values."
   ]
  },
  {
   "cell_type": "code",
   "execution_count": 699,
   "metadata": {},
   "outputs": [
    {
     "data": {
      "text/html": [
       "<div>\n",
       "<style scoped>\n",
       "    .dataframe tbody tr th:only-of-type {\n",
       "        vertical-align: middle;\n",
       "    }\n",
       "\n",
       "    .dataframe tbody tr th {\n",
       "        vertical-align: top;\n",
       "    }\n",
       "\n",
       "    .dataframe thead th {\n",
       "        text-align: right;\n",
       "    }\n",
       "</style>\n",
       "<table border=\"1\" class=\"dataframe\">\n",
       "  <thead>\n",
       "    <tr style=\"text-align: right;\">\n",
       "      <th></th>\n",
       "      <th>budget</th>\n",
       "      <th>runtime</th>\n",
       "      <th>year</th>\n",
       "      <th>month</th>\n",
       "      <th>revenue</th>\n",
       "    </tr>\n",
       "  </thead>\n",
       "  <tbody>\n",
       "    <tr>\n",
       "      <th>count</th>\n",
       "      <td>2.000000e+03</td>\n",
       "      <td>2000.000000</td>\n",
       "      <td>2000.00000</td>\n",
       "      <td>2000.000000</td>\n",
       "      <td>2.000000e+03</td>\n",
       "    </tr>\n",
       "    <tr>\n",
       "      <th>mean</th>\n",
       "      <td>6.043686e+07</td>\n",
       "      <td>113.267500</td>\n",
       "      <td>2004.42650</td>\n",
       "      <td>7.044000</td>\n",
       "      <td>1.643506e+08</td>\n",
       "    </tr>\n",
       "    <tr>\n",
       "      <th>std</th>\n",
       "      <td>4.692045e+07</td>\n",
       "      <td>21.073728</td>\n",
       "      <td>7.95319</td>\n",
       "      <td>3.398947</td>\n",
       "      <td>2.186816e+08</td>\n",
       "    </tr>\n",
       "    <tr>\n",
       "      <th>min</th>\n",
       "      <td>0.000000e+00</td>\n",
       "      <td>0.000000</td>\n",
       "      <td>1940.00000</td>\n",
       "      <td>1.000000</td>\n",
       "      <td>0.000000e+00</td>\n",
       "    </tr>\n",
       "    <tr>\n",
       "      <th>25%</th>\n",
       "      <td>3.000000e+07</td>\n",
       "      <td>98.000000</td>\n",
       "      <td>2000.00000</td>\n",
       "      <td>4.000000</td>\n",
       "      <td>3.103408e+07</td>\n",
       "    </tr>\n",
       "    <tr>\n",
       "      <th>50%</th>\n",
       "      <td>4.800000e+07</td>\n",
       "      <td>110.000000</td>\n",
       "      <td>2005.00000</td>\n",
       "      <td>7.000000</td>\n",
       "      <td>9.400000e+07</td>\n",
       "    </tr>\n",
       "    <tr>\n",
       "      <th>75%</th>\n",
       "      <td>7.500000e+07</td>\n",
       "      <td>125.000000</td>\n",
       "      <td>2011.00000</td>\n",
       "      <td>10.000000</td>\n",
       "      <td>2.026695e+08</td>\n",
       "    </tr>\n",
       "    <tr>\n",
       "      <th>max</th>\n",
       "      <td>3.800000e+08</td>\n",
       "      <td>254.000000</td>\n",
       "      <td>2016.00000</td>\n",
       "      <td>12.000000</td>\n",
       "      <td>2.787965e+09</td>\n",
       "    </tr>\n",
       "  </tbody>\n",
       "</table>\n",
       "</div>"
      ],
      "text/plain": [
       "             budget      runtime        year        month       revenue\n",
       "count  2.000000e+03  2000.000000  2000.00000  2000.000000  2.000000e+03\n",
       "mean   6.043686e+07   113.267500  2004.42650     7.044000  1.643506e+08\n",
       "std    4.692045e+07    21.073728     7.95319     3.398947  2.186816e+08\n",
       "min    0.000000e+00     0.000000  1940.00000     1.000000  0.000000e+00\n",
       "25%    3.000000e+07    98.000000  2000.00000     4.000000  3.103408e+07\n",
       "50%    4.800000e+07   110.000000  2005.00000     7.000000  9.400000e+07\n",
       "75%    7.500000e+07   125.000000  2011.00000    10.000000  2.026695e+08\n",
       "max    3.800000e+08   254.000000  2016.00000    12.000000  2.787965e+09"
      ]
     },
     "execution_count": 699,
     "metadata": {},
     "output_type": "execute_result"
    }
   ],
   "source": [
    "sorted_movies_df.describe()\n",
    "\n",
    "# \tbudget\truntime\tyear\tmonth\trevenue\n",
    "# count\t2.000000e+03\t2000.000000\t2000.00000\t2000.000000\t2.000000e+03\n",
    "# mean\t6.043686e+07\t113.267500\t2004.42650\t7.044000\t1.643506e+08\n",
    "# std\t4.692045e+07\t21.073728\t7.95319\t3.398947\t2.186816e+08\n",
    "# min\t0.000000e+00\t0.000000\t1940.00000\t1.000000\t0.000000e+00\n",
    "# 25%\t3.000000e+07\t98.000000\t2000.00000\t4.000000\t3.103408e+07\n",
    "# 50%\t4.800000e+07\t110.000000\t2005.00000\t7.000000\t9.400000e+07\n",
    "# 75%\t7.500000e+07\t125.000000\t2011.00000\t10.000000\t2.026695e+08\n",
    "# max\t3.800000e+08\t254.000000\t2016.00000\t12.000000\t2.787965e+09"
   ]
  },
  {
   "cell_type": "markdown",
   "metadata": {},
   "source": [
    "Here, looking at the min and max vaues, we see that the minimum values of 0 in runtime, year and revenue that don't make sense."
   ]
  },
  {
   "cell_type": "markdown",
   "metadata": {},
   "source": [
    "1. Revenue"
   ]
  },
  {
   "cell_type": "markdown",
   "metadata": {},
   "source": [
    "In this case there are a number of revenue values that are equal to 0 or less than 100,000.  Either way, these numbers do not seem very believable."
   ]
  },
  {
   "cell_type": "markdown",
   "metadata": {},
   "source": [
    "> Use value_counts to display the bottom ten revenues below."
   ]
  },
  {
   "cell_type": "code",
   "execution_count": 700,
   "metadata": {},
   "outputs": [
    {
     "data": {
      "text/plain": [
       "0         211\n",
       "12          1\n",
       "13          1\n",
       "14          1\n",
       "103         1\n",
       "6399        1\n",
       "73706       1\n",
       "108348      1\n",
       "480314      1\n",
       "528972      1\n",
       "Name: revenue, dtype: int64"
      ]
     },
     "execution_count": 700,
     "metadata": {},
     "output_type": "execute_result"
    }
   ],
   "source": [
    "sorted_movies_df['revenue'].value_counts().sort_index()[:10]\n",
    "\n",
    "# 0         211\n",
    "# 12          1\n",
    "# 13          1\n",
    "# 14          1\n",
    "# 103         1\n",
    "# 6399        1\n",
    "# 73706       1\n",
    "# 108348      1\n",
    "# 480314      1\n",
    "# 528972      1\n",
    "# Name: revenue, dtype: int64"
   ]
  },
  {
   "cell_type": "markdown",
   "metadata": {},
   "source": [
    "Because revenue is our target, we can drop the rows with revenue values less than 100000.  As opposed to imputing the data."
   ]
  },
  {
   "cell_type": "code",
   "execution_count": 701,
   "metadata": {},
   "outputs": [],
   "source": [
    "sorted_movies_df = sorted_movies_df[sorted_movies_df['revenue'] > 100000]"
   ]
  },
  {
   "cell_type": "code",
   "execution_count": 702,
   "metadata": {},
   "outputs": [
    {
     "data": {
      "text/plain": [
       "(1783, 7)"
      ]
     },
     "execution_count": 702,
     "metadata": {},
     "output_type": "execute_result"
    }
   ],
   "source": [
    "sorted_movies_df.shape\n",
    "# (1783, 7)"
   ]
  },
  {
   "cell_type": "markdown",
   "metadata": {},
   "source": [
    "The other column that has some suspicous values is the budget column.  Take a look at the lowest five values there."
   ]
  },
  {
   "cell_type": "code",
   "execution_count": 703,
   "metadata": {},
   "outputs": [
    {
     "data": {
      "text/plain": [
       "0          29\n",
       "500000      1\n",
       "1800000     1\n",
       "2000000     1\n",
       "2600000     1\n",
       "Name: budget, dtype: int64"
      ]
     },
     "execution_count": 703,
     "metadata": {},
     "output_type": "execute_result"
    }
   ],
   "source": [
    "sorted_movies_df.budget.value_counts().sort_index()[:5]\n",
    "\n",
    "# 0          29\n",
    "# 500000      1\n",
    "# 1800000     1\n",
    "# 2000000     1\n",
    "# 2600000     1\n",
    "# Name: budget, dtype: int64"
   ]
  },
  {
   "cell_type": "markdown",
   "metadata": {},
   "source": [
    "We see that there are 29 values that are 0.  Let's assume that our 0 values are really missing.\n",
    "\n",
    "Let's apply our technique of replacing our missing values with the mean, and adding a column to indicate missingness."
   ]
  },
  {
   "cell_type": "code",
   "execution_count": 704,
   "metadata": {},
   "outputs": [],
   "source": [
    "budget = sorted_movies_df['budget']"
   ]
  },
  {
   "cell_type": "markdown",
   "metadata": {},
   "source": [
    "First we'll assign a boolean series that indicates if a budget is nan (or 0).  "
   ]
  },
  {
   "cell_type": "code",
   "execution_count": 705,
   "metadata": {},
   "outputs": [],
   "source": [
    "budget_is_na = budget == 0"
   ]
  },
  {
   "cell_type": "code",
   "execution_count": 706,
   "metadata": {},
   "outputs": [
    {
     "data": {
      "text/plain": [
       "1108    False\n",
       "862     False\n",
       "1125    False\n",
       "Name: budget, dtype: bool"
      ]
     },
     "execution_count": 706,
     "metadata": {},
     "output_type": "execute_result"
    }
   ],
   "source": [
    "budget_is_na[:3]\n",
    "\n",
    "# 1108    False\n",
    "# 862     False\n",
    "# 1125    False\n",
    "# Name: budget, dtype: bool"
   ]
  },
  {
   "cell_type": "markdown",
   "metadata": {},
   "source": [
    "Add our our `budget_is_na` column to the dataframe. "
   ]
  },
  {
   "cell_type": "code",
   "execution_count": 707,
   "metadata": {},
   "outputs": [],
   "source": [
    "sorted_movies_df = sorted_movies_df.assign(budget_is_na = budget_is_na)"
   ]
  },
  {
   "cell_type": "code",
   "execution_count": 708,
   "metadata": {},
   "outputs": [
    {
     "data": {
      "text/plain": [
       "65950234.977765106"
      ]
     },
     "execution_count": 708,
     "metadata": {},
     "output_type": "execute_result"
    }
   ],
   "source": [
    "mean_budget = budget[~(budget == 0)].mean()\n",
    "mean_budget\n",
    "# 65950234.977765106"
   ]
  },
  {
   "cell_type": "code",
   "execution_count": 709,
   "metadata": {},
   "outputs": [],
   "source": [
    "sorted_movies_df.loc[sorted_movies_df['budget'] == 0, 'budget'] = mean_budget"
   ]
  },
  {
   "cell_type": "code",
   "execution_count": 710,
   "metadata": {},
   "outputs": [
    {
     "data": {
      "text/plain": [
       "29"
      ]
     },
     "execution_count": 710,
     "metadata": {},
     "output_type": "execute_result"
    }
   ],
   "source": [
    "(sorted_movies_df['budget'] == 65950234.977765106).sum()\n",
    "# 29"
   ]
  },
  {
   "cell_type": "markdown",
   "metadata": {},
   "source": [
    "3. Runtime"
   ]
  },
  {
   "cell_type": "markdown",
   "metadata": {},
   "source": [
    "Let's apply the same procedure for runtime.  We'll begin by identifying suspicious values."
   ]
  },
  {
   "cell_type": "code",
   "execution_count": 711,
   "metadata": {},
   "outputs": [
    {
     "data": {
      "text/plain": [
       "63.0    1\n",
       "72.0    1\n",
       "74.0    1\n",
       "75.0    2\n",
       "76.0    2\n",
       "77.0    1\n",
       "78.0    3\n",
       "79.0    2\n",
       "80.0    5\n",
       "81.0    7\n",
       "Name: runtime, dtype: int64"
      ]
     },
     "execution_count": 711,
     "metadata": {},
     "output_type": "execute_result"
    }
   ],
   "source": [
    "sorted_movies_df['runtime'].value_counts().sort_index().iloc[:10]"
   ]
  },
  {
   "cell_type": "markdown",
   "metadata": {},
   "source": [
    "Here there is only one value equal to 0 so, let's just let it be."
   ]
  },
  {
   "cell_type": "markdown",
   "metadata": {},
   "source": [
    "### Missing Value Coercion"
   ]
  },
  {
   "cell_type": "markdown",
   "metadata": {},
   "source": [
    "After handling missing values in three of our columns, let's now move onto our `genre` column."
   ]
  },
  {
   "cell_type": "code",
   "execution_count": 719,
   "metadata": {},
   "outputs": [
    {
     "name": "stdout",
     "output_type": "stream",
     "text": [
      "<class 'pandas.core.frame.DataFrame'>\n",
      "Int64Index: 1783 entries, 1108 to 357\n",
      "Data columns (total 8 columns):\n",
      "title           1783 non-null object\n",
      "genre           1707 non-null object\n",
      "budget          1783 non-null float64\n",
      "runtime         1783 non-null float64\n",
      "year            1783 non-null int64\n",
      "month           1783 non-null int64\n",
      "revenue         1783 non-null int64\n",
      "budget_is_na    1783 non-null bool\n",
      "dtypes: bool(1), float64(2), int64(3), object(2)\n",
      "memory usage: 113.2+ KB\n"
     ]
    }
   ],
   "source": [
    "sorted_movies_df.info()"
   ]
  },
  {
   "cell_type": "markdown",
   "metadata": {},
   "source": [
    "So we see that `genre` is the only column with `nan` values.  Note that if we replace the `np.nan` with a string like `na`, we will get the missing value column for free when we call get dummies.  \n",
    "\n",
    "Let's walk through this."
   ]
  },
  {
   "cell_type": "code",
   "execution_count": 545,
   "metadata": {},
   "outputs": [],
   "source": [
    "genre_col = sorted_movies_df['genre']"
   ]
  },
  {
   "cell_type": "markdown",
   "metadata": {},
   "source": [
    "Begin by replacing the `np.nan` values in `genre_col` with the string `na`."
   ]
  },
  {
   "cell_type": "code",
   "execution_count": 546,
   "metadata": {},
   "outputs": [],
   "source": [
    "import numpy as np\n",
    "replaced_genre = genre_col.replace(np.nan, 'na')"
   ]
  },
  {
   "cell_type": "code",
   "execution_count": 547,
   "metadata": {},
   "outputs": [
    {
     "data": {
      "text/plain": [
       "Action             0.246214\n",
       "Drama              0.177790\n",
       "Comedy             0.167134\n",
       "Adventure          0.123948\n",
       "Animation          0.048233\n",
       "na                 0.042625\n",
       "Fantasy            0.039260\n",
       "Crime              0.038699\n",
       "Thriller           0.037016\n",
       "Horror             0.031408\n",
       "Science Fiction    0.028603\n",
       "Romance            0.019069\n",
       "Name: genre, dtype: float64"
      ]
     },
     "execution_count": 547,
     "metadata": {},
     "output_type": "execute_result"
    }
   ],
   "source": [
    "replaced_genre.value_counts(normalize = True)\n",
    "# Action             483\n",
    "# Drama              365\n",
    "# Comedy             359\n",
    "# Adventure          236\n",
    "# Animation           93\n",
    "# na                  84\n",
    "# Fantasy             80\n",
    "# Crime               76\n",
    "# Thriller            73\n",
    "# Horror              59\n",
    "# Science Fiction     52\n",
    "# Romance             40"
   ]
  },
  {
   "cell_type": "markdown",
   "metadata": {},
   "source": [
    "Let's see how many values we now have in the genre column:"
   ]
  },
  {
   "cell_type": "code",
   "execution_count": 720,
   "metadata": {},
   "outputs": [
    {
     "data": {
      "text/plain": [
       "(12,)"
      ]
     },
     "execution_count": 720,
     "metadata": {},
     "output_type": "execute_result"
    }
   ],
   "source": [
    "replaced_genre.value_counts().shape\n",
    "\n",
    "# (12,)"
   ]
  },
  {
   "cell_type": "markdown",
   "metadata": {},
   "source": [
    "Looks like 12 new columns, each of which consist of over 1 percent of the data.  \n",
    "\n",
    "Now let's apply one hot encoding to our `replaced_genre` column, dropping the first value."
   ]
  },
  {
   "cell_type": "code",
   "execution_count": 584,
   "metadata": {},
   "outputs": [],
   "source": [
    "genre_df = pd.get_dummies(replaced_genre)"
   ]
  },
  {
   "cell_type": "code",
   "execution_count": 585,
   "metadata": {},
   "outputs": [
    {
     "data": {
      "text/html": [
       "<div>\n",
       "<style scoped>\n",
       "    .dataframe tbody tr th:only-of-type {\n",
       "        vertical-align: middle;\n",
       "    }\n",
       "\n",
       "    .dataframe tbody tr th {\n",
       "        vertical-align: top;\n",
       "    }\n",
       "\n",
       "    .dataframe thead th {\n",
       "        text-align: right;\n",
       "    }\n",
       "</style>\n",
       "<table border=\"1\" class=\"dataframe\">\n",
       "  <thead>\n",
       "    <tr style=\"text-align: right;\">\n",
       "      <th></th>\n",
       "      <th>Action</th>\n",
       "      <th>Adventure</th>\n",
       "      <th>Animation</th>\n",
       "      <th>Comedy</th>\n",
       "      <th>Crime</th>\n",
       "      <th>Drama</th>\n",
       "      <th>Fantasy</th>\n",
       "      <th>Horror</th>\n",
       "      <th>Romance</th>\n",
       "      <th>Science Fiction</th>\n",
       "      <th>Thriller</th>\n",
       "      <th>na</th>\n",
       "    </tr>\n",
       "  </thead>\n",
       "  <tbody>\n",
       "    <tr>\n",
       "      <th>1108</th>\n",
       "      <td>0</td>\n",
       "      <td>0</td>\n",
       "      <td>1</td>\n",
       "      <td>0</td>\n",
       "      <td>0</td>\n",
       "      <td>0</td>\n",
       "      <td>0</td>\n",
       "      <td>0</td>\n",
       "      <td>0</td>\n",
       "      <td>0</td>\n",
       "      <td>0</td>\n",
       "      <td>0</td>\n",
       "    </tr>\n",
       "    <tr>\n",
       "      <th>862</th>\n",
       "      <td>0</td>\n",
       "      <td>0</td>\n",
       "      <td>0</td>\n",
       "      <td>0</td>\n",
       "      <td>0</td>\n",
       "      <td>1</td>\n",
       "      <td>0</td>\n",
       "      <td>0</td>\n",
       "      <td>0</td>\n",
       "      <td>0</td>\n",
       "      <td>0</td>\n",
       "      <td>0</td>\n",
       "    </tr>\n",
       "  </tbody>\n",
       "</table>\n",
       "</div>"
      ],
      "text/plain": [
       "      Action  Adventure  Animation  Comedy  Crime  Drama  Fantasy  Horror  \\\n",
       "1108       0          0          1       0      0      0        0       0   \n",
       "862        0          0          0       0      0      1        0       0   \n",
       "\n",
       "      Romance  Science Fiction  Thriller  na  \n",
       "1108        0                0         0   0  \n",
       "862         0                0         0   0  "
      ]
     },
     "execution_count": 585,
     "metadata": {},
     "output_type": "execute_result"
    }
   ],
   "source": [
    "genre_df[:2]\n",
    "\n",
    "# \tAdventure\tAnimation\tComedy\tCrime\tDrama\tFantasy\tHorror\tRomance\tScience Fiction\tThriller\tna\n",
    "# 1108\t0\t1\t0\t0\t0\t0\t0\t0\t0\t0\t0\n",
    "# 862\t0\t0\t0\t0\t1\t0\t0\t0\t0\t0\t0"
   ]
  },
  {
   "cell_type": "markdown",
   "metadata": {},
   "source": [
    "> Our dropped value was `Action`."
   ]
  },
  {
   "cell_type": "markdown",
   "metadata": {},
   "source": [
    "Let's take another look at our `sorted_movies_df`."
   ]
  },
  {
   "cell_type": "code",
   "execution_count": 586,
   "metadata": {},
   "outputs": [
    {
     "data": {
      "text/html": [
       "<div>\n",
       "<style scoped>\n",
       "    .dataframe tbody tr th:only-of-type {\n",
       "        vertical-align: middle;\n",
       "    }\n",
       "\n",
       "    .dataframe tbody tr th {\n",
       "        vertical-align: top;\n",
       "    }\n",
       "\n",
       "    .dataframe thead th {\n",
       "        text-align: right;\n",
       "    }\n",
       "</style>\n",
       "<table border=\"1\" class=\"dataframe\">\n",
       "  <thead>\n",
       "    <tr style=\"text-align: right;\">\n",
       "      <th></th>\n",
       "      <th>title</th>\n",
       "      <th>genre</th>\n",
       "      <th>budget</th>\n",
       "      <th>runtime</th>\n",
       "      <th>year</th>\n",
       "      <th>month</th>\n",
       "      <th>revenue</th>\n",
       "      <th>budget_is_na</th>\n",
       "    </tr>\n",
       "  </thead>\n",
       "  <tbody>\n",
       "    <tr>\n",
       "      <th>1108</th>\n",
       "      <td>Pinocchio</td>\n",
       "      <td>Animation</td>\n",
       "      <td>2600000.0</td>\n",
       "      <td>88.0</td>\n",
       "      <td>1940</td>\n",
       "      <td>2</td>\n",
       "      <td>84300000</td>\n",
       "      <td>False</td>\n",
       "    </tr>\n",
       "    <tr>\n",
       "      <th>862</th>\n",
       "      <td>Lolita</td>\n",
       "      <td>Drama</td>\n",
       "      <td>2000000.0</td>\n",
       "      <td>153.0</td>\n",
       "      <td>1962</td>\n",
       "      <td>6</td>\n",
       "      <td>9250000</td>\n",
       "      <td>False</td>\n",
       "    </tr>\n",
       "  </tbody>\n",
       "</table>\n",
       "</div>"
      ],
      "text/plain": [
       "          title      genre     budget  runtime  year  month   revenue  \\\n",
       "1108  Pinocchio  Animation  2600000.0     88.0  1940      2  84300000   \n",
       "862      Lolita      Drama  2000000.0    153.0  1962      6   9250000   \n",
       "\n",
       "      budget_is_na  \n",
       "1108         False  \n",
       "862          False  "
      ]
     },
     "execution_count": 586,
     "metadata": {},
     "output_type": "execute_result"
    }
   ],
   "source": [
    "sorted_movies_df[:2]\n",
    "\n",
    "\n",
    "# title\tgenre\tbudget\truntime\tyear\tmonth\trevenue\n",
    "# 1108\tPinocchio\tAnimation\t2600000\t88.0\t1940\t2\t84300000\n",
    "# 862\tLolita\tDrama\t2000000\t153.0\t1962\t6\t9250000"
   ]
  },
  {
   "cell_type": "markdown",
   "metadata": {},
   "source": [
    "Assign revenue to equal the target, `y`."
   ]
  },
  {
   "cell_type": "code",
   "execution_count": 587,
   "metadata": {},
   "outputs": [],
   "source": [
    "y = sorted_movies_df['revenue']"
   ]
  },
  {
   "cell_type": "code",
   "execution_count": 588,
   "metadata": {},
   "outputs": [
    {
     "data": {
      "text/plain": [
       "1108    84300000\n",
       "862      9250000\n",
       "1125    71000000\n",
       "Name: revenue, dtype: int64"
      ]
     },
     "execution_count": 588,
     "metadata": {},
     "output_type": "execute_result"
    }
   ],
   "source": [
    "y[:3]\n",
    "# 1108    84300000\n",
    "# 862      9250000\n",
    "# 1125    71000000\n",
    "# Name: revenue, dtype: int64"
   ]
  },
  {
   "cell_type": "markdown",
   "metadata": {},
   "source": [
    "Assign our columns except for `title`, `genre`, and `revenue` combined with our `genre_df` to the variable `X`. "
   ]
  },
  {
   "cell_type": "code",
   "execution_count": 721,
   "metadata": {},
   "outputs": [
    {
     "data": {
      "text/plain": [
       "Index(['title', 'genre', 'budget', 'runtime', 'year', 'month', 'revenue',\n",
       "       'budget_is_na'],\n",
       "      dtype='object')"
      ]
     },
     "execution_count": 721,
     "metadata": {},
     "output_type": "execute_result"
    }
   ],
   "source": [
    "sorted_movies_df.columns"
   ]
  },
  {
   "cell_type": "code",
   "execution_count": 722,
   "metadata": {},
   "outputs": [],
   "source": [
    "selected_df = sorted_movies_df[['budget', 'runtime', 'year', 'month', 'budget_is_na']]\n",
    "X = pd.concat([selected_df, genre_df], axis = 1)"
   ]
  },
  {
   "cell_type": "code",
   "execution_count": 723,
   "metadata": {},
   "outputs": [
    {
     "data": {
      "text/html": [
       "<div>\n",
       "<style scoped>\n",
       "    .dataframe tbody tr th:only-of-type {\n",
       "        vertical-align: middle;\n",
       "    }\n",
       "\n",
       "    .dataframe tbody tr th {\n",
       "        vertical-align: top;\n",
       "    }\n",
       "\n",
       "    .dataframe thead th {\n",
       "        text-align: right;\n",
       "    }\n",
       "</style>\n",
       "<table border=\"1\" class=\"dataframe\">\n",
       "  <thead>\n",
       "    <tr style=\"text-align: right;\">\n",
       "      <th></th>\n",
       "      <th>budget</th>\n",
       "      <th>runtime</th>\n",
       "      <th>year</th>\n",
       "      <th>month</th>\n",
       "      <th>budget_is_na</th>\n",
       "      <th>Action</th>\n",
       "      <th>Adventure</th>\n",
       "      <th>Animation</th>\n",
       "      <th>Comedy</th>\n",
       "      <th>Crime</th>\n",
       "      <th>Drama</th>\n",
       "      <th>Fantasy</th>\n",
       "      <th>Horror</th>\n",
       "      <th>Romance</th>\n",
       "      <th>Science Fiction</th>\n",
       "      <th>Thriller</th>\n",
       "      <th>na</th>\n",
       "    </tr>\n",
       "  </thead>\n",
       "  <tbody>\n",
       "    <tr>\n",
       "      <th>1108</th>\n",
       "      <td>2600000.0</td>\n",
       "      <td>88.0</td>\n",
       "      <td>1940</td>\n",
       "      <td>2</td>\n",
       "      <td>False</td>\n",
       "      <td>0</td>\n",
       "      <td>0</td>\n",
       "      <td>1</td>\n",
       "      <td>0</td>\n",
       "      <td>0</td>\n",
       "      <td>0</td>\n",
       "      <td>0</td>\n",
       "      <td>0</td>\n",
       "      <td>0</td>\n",
       "      <td>0</td>\n",
       "      <td>0</td>\n",
       "      <td>0</td>\n",
       "    </tr>\n",
       "    <tr>\n",
       "      <th>862</th>\n",
       "      <td>2000000.0</td>\n",
       "      <td>153.0</td>\n",
       "      <td>1962</td>\n",
       "      <td>6</td>\n",
       "      <td>False</td>\n",
       "      <td>0</td>\n",
       "      <td>0</td>\n",
       "      <td>0</td>\n",
       "      <td>0</td>\n",
       "      <td>0</td>\n",
       "      <td>1</td>\n",
       "      <td>0</td>\n",
       "      <td>0</td>\n",
       "      <td>0</td>\n",
       "      <td>0</td>\n",
       "      <td>0</td>\n",
       "      <td>0</td>\n",
       "    </tr>\n",
       "  </tbody>\n",
       "</table>\n",
       "</div>"
      ],
      "text/plain": [
       "         budget  runtime  year  month  budget_is_na  Action  Adventure  \\\n",
       "1108  2600000.0     88.0  1940      2         False       0          0   \n",
       "862   2000000.0    153.0  1962      6         False       0          0   \n",
       "\n",
       "      Animation  Comedy  Crime  Drama  Fantasy  Horror  Romance  \\\n",
       "1108          1       0      0      0        0       0        0   \n",
       "862           0       0      0      1        0       0        0   \n",
       "\n",
       "      Science Fiction  Thriller  na  \n",
       "1108                0         0   0  \n",
       "862                 0         0   0  "
      ]
     },
     "execution_count": 723,
     "metadata": {},
     "output_type": "execute_result"
    }
   ],
   "source": [
    "X[:2]\n",
    "# \tbudget\truntime\tyear\tmonth\tAdventure\tAnimation\tComedy\tCrime\tDrama\tFantasy\tHorror\tRomance\tScience Fiction\tThriller\tna\n",
    "# 1108\t2600000\t88.0\t1940\t2\t0\t1\t0\t0\t0\t0\t0\t0\t0\t0\t0\n",
    "# 862\t2000000\t153.0\t1962\t6\t0\t0\t0\t0\t1\t0\t0\t0\t0\t0\t0"
   ]
  },
  {
   "cell_type": "code",
   "execution_count": 727,
   "metadata": {},
   "outputs": [
    {
     "data": {
      "text/plain": [
       "True"
      ]
     },
     "execution_count": 727,
     "metadata": {},
     "output_type": "execute_result"
    }
   ],
   "source": [
    "X.columns.tolist() == ['budget', 'runtime', 'year', 'month', 'budget_is_na', 'Action',\n",
    "       'Adventure', 'Animation', 'Comedy', 'Crime', 'Drama', 'Fantasy',\n",
    "       'Horror', 'Romance', 'Science Fiction', 'Thriller', 'na']\n",
    "# True"
   ]
  },
  {
   "cell_type": "markdown",
   "metadata": {},
   "source": [
    "### Training the model"
   ]
  },
  {
   "cell_type": "markdown",
   "metadata": {},
   "source": [
    "Ok, now that we have completed feature engineering, let's split the data into train,  validation and test sets.\n",
    "\n",
    "> Make sure that the data is split sequentially."
   ]
  },
  {
   "cell_type": "markdown",
   "metadata": {},
   "source": [
    "Allocate 10 percent of the data for the validation set, and ten percent of the data for test set.  Make sure that the data is separated sequentially, and that the split is not random."
   ]
  },
  {
   "cell_type": "code",
   "execution_count": 729,
   "metadata": {},
   "outputs": [],
   "source": [
    "from sklearn.model_selection import train_test_split"
   ]
  },
  {
   "cell_type": "code",
   "execution_count": 730,
   "metadata": {},
   "outputs": [],
   "source": [
    "X_train, X_test, y_train, y_test = train_test_split(X, y, test_size = .1, shuffle = False)"
   ]
  },
  {
   "cell_type": "code",
   "execution_count": 731,
   "metadata": {},
   "outputs": [],
   "source": [
    "X_train, X_validate, y_train, y_validate = train_test_split(X_train, y_train, test_size = .1, shuffle = False)"
   ]
  },
  {
   "cell_type": "code",
   "execution_count": 732,
   "metadata": {},
   "outputs": [
    {
     "data": {
      "text/plain": [
       "((1443, 17), (161, 17), (179, 17))"
      ]
     },
     "execution_count": 732,
     "metadata": {},
     "output_type": "execute_result"
    }
   ],
   "source": [
    "X_train.shape, X_validate.shape, X_test.shape\n",
    "# ((1443, 17), (161, 17), (179, 17))"
   ]
  },
  {
   "cell_type": "code",
   "execution_count": 733,
   "metadata": {},
   "outputs": [
    {
     "data": {
      "text/plain": [
       "(220    2012\n",
       " Name: year, dtype: int64,\n",
       " 629    2014\n",
       " Name: year, dtype: int64,\n",
       " 357    2016\n",
       " Name: year, dtype: int64)"
      ]
     },
     "execution_count": 733,
     "metadata": {},
     "output_type": "execute_result"
    }
   ],
   "source": [
    "X_train['year'][-1:], X_validate['year'][-1:], X_test['year'][-1:]\n",
    "# (1800    2012\n",
    "#  Name: year, dtype: int64,\n",
    "#  85    2014\n",
    "#  Name: year, dtype: int64,\n",
    "#  357    2016\n",
    "#  Name: year, dtype: int64)"
   ]
  },
  {
   "cell_type": "markdown",
   "metadata": {},
   "source": [
    "### Scaling the Data"
   ]
  },
  {
   "cell_type": "code",
   "execution_count": 734,
   "metadata": {},
   "outputs": [],
   "source": [
    "from sklearn.preprocessing import StandardScaler"
   ]
  },
  {
   "cell_type": "code",
   "execution_count": 735,
   "metadata": {},
   "outputs": [],
   "source": [
    "scaler = StandardScaler()"
   ]
  },
  {
   "cell_type": "code",
   "execution_count": 736,
   "metadata": {},
   "outputs": [],
   "source": [
    "X_train_scaled = scaler.fit_transform(X_train)"
   ]
  },
  {
   "cell_type": "code",
   "execution_count": 737,
   "metadata": {},
   "outputs": [
    {
     "data": {
      "text/plain": [
       "array([[-1.42219236, -1.18914405, -8.56884218, ..., -0.16222142,\n",
       "        -0.18945647, -0.20463933],\n",
       "       [-1.4365378 ,  1.83325971, -5.55202435, ..., -0.16222142,\n",
       "        -0.18945647, -0.20463933],\n",
       "       [-0.7404252 ,  6.25061905, -5.41489627, ..., -0.16222142,\n",
       "        -0.18945647, -0.20463933],\n",
       "       ...,\n",
       "       [ 2.58018615,  0.62429821,  1.30437981, ..., -0.16222142,\n",
       "        -0.18945647, -0.20463933],\n",
       "       [ 2.10200473, -0.02668106,  1.30437981, ..., -0.16222142,\n",
       "        -0.18945647, -0.20463933],\n",
       "       [ 1.62382331,  0.48480265,  1.30437981, ...,  6.164414  ,\n",
       "        -0.18945647, -0.20463933]])"
      ]
     },
     "execution_count": 737,
     "metadata": {},
     "output_type": "execute_result"
    }
   ],
   "source": [
    "X_train_scaled\n",
    "\n",
    "# array([[-1.42219236, -1.18914405, -8.56884218, ..., -0.16222142,\n",
    "#         -0.18945647, -0.20463933],\n",
    "#        [-1.4365378 ,  1.83325971, -5.55202435, ..., -0.16222142,\n",
    "#         -0.18945647, -0.20463933],\n",
    "#        [-0.7404252 ,  6.25061905, -5.41489627, ..., -0.16222142,\n",
    "#         -0.18945647, -0.20463933],"
   ]
  },
  {
   "cell_type": "code",
   "execution_count": 738,
   "metadata": {},
   "outputs": [
    {
     "data": {
      "text/plain": [
       "array([[ 0.06973368, -1.42163664,  1.30437981, -0.63232683, -0.12152338,\n",
       "        -0.55092925, -0.38822378, -0.21366369,  2.18449079, -0.1933473 ,\n",
       "        -0.48740571, -0.19526776, -0.19141037, -0.13808619, -0.16222142,\n",
       "        -0.18945647, -0.20463933],\n",
       "       [-0.5279931 , -0.16617662,  1.30437981, -0.63232683, -0.12152338,\n",
       "        -0.55092925, -0.38822378, -0.21366369, -0.45777259, -0.1933473 ,\n",
       "        -0.48740571, -0.19526776, -0.19141037,  7.24185366, -0.16222142,\n",
       "        -0.18945647, -0.20463933]])"
      ]
     },
     "execution_count": 738,
     "metadata": {},
     "output_type": "execute_result"
    }
   ],
   "source": [
    "X_validate_scaled = scaler.transform(X_validate)\n",
    "X_validate_scaled[:2]\n",
    "\n",
    "# array([[ 0.06973368, -1.42163664,  1.30437981, -0.63232683, -0.12152338,\n",
    "#         -0.55092925, -0.38822378, -0.21366369,  2.18449079, -0.1933473 ,\n",
    "#         -0.48740571, -0.19526776, -0.19141037, -0.13808619, -0.16222142,\n",
    "#         -0.18945647, -0.20463933],\n",
    "#        [-0.5279931 , -0.16617662,  1.30437981, -0.63232683, -0.12152338,\n",
    "#         -0.55092925, -0.38822378, -0.21366369, -0.45777259, -0.1933473 ,\n",
    "#         -0.48740571, -0.19526776, -0.19141037,  7.24185366, -0.16222142,\n",
    "#         -0.18945647, -0.20463933]])"
   ]
  },
  {
   "cell_type": "markdown",
   "metadata": {},
   "source": [
    "### Training the Model"
   ]
  },
  {
   "cell_type": "markdown",
   "metadata": {},
   "source": [
    "Ok, now we have our training, validation, and test data.  The main rule is that we only get to assess our model against our test dataset once."
   ]
  },
  {
   "cell_type": "markdown",
   "metadata": {},
   "source": [
    "Let's train our model on our training dataset, and score on the validation dataset."
   ]
  },
  {
   "cell_type": "code",
   "execution_count": 739,
   "metadata": {},
   "outputs": [],
   "source": [
    "from sklearn.linear_model import LinearRegression"
   ]
  },
  {
   "cell_type": "code",
   "execution_count": 740,
   "metadata": {},
   "outputs": [
    {
     "data": {
      "text/plain": [
       "LinearRegression(copy_X=True, fit_intercept=True, n_jobs=None, normalize=False)"
      ]
     },
     "execution_count": 740,
     "metadata": {},
     "output_type": "execute_result"
    }
   ],
   "source": [
    "model = LinearRegression()\n",
    "model.fit(X_train_scaled, y_train)"
   ]
  },
  {
   "cell_type": "code",
   "execution_count": 742,
   "metadata": {},
   "outputs": [
    {
     "data": {
      "text/plain": [
       "0.537861413573713"
      ]
     },
     "execution_count": 742,
     "metadata": {},
     "output_type": "execute_result"
    }
   ],
   "source": [
    "model.score(X_validate_scaled, y_validate)\n",
    "# 0.537861413573713"
   ]
  },
  {
   "cell_type": "markdown",
   "metadata": {},
   "source": [
    "### Feature Selection"
   ]
  },
  {
   "cell_type": "code",
   "execution_count": 743,
   "metadata": {},
   "outputs": [],
   "source": [
    "from eli5.sklearn import PermutationImportance\n",
    "import eli5\n",
    "\n",
    "perm = PermutationImportance(model).fit(X_validate_scaled, y_validate)"
   ]
  },
  {
   "cell_type": "code",
   "execution_count": 744,
   "metadata": {},
   "outputs": [
    {
     "data": {
      "text/plain": [
       "PermutationImportance(cv='prefit',\n",
       "                      estimator=LinearRegression(copy_X=True,\n",
       "                                                 fit_intercept=True,\n",
       "                                                 n_jobs=None, normalize=False),\n",
       "                      n_iter=5, random_state=None, refit=True, scoring=None)"
      ]
     },
     "execution_count": 744,
     "metadata": {},
     "output_type": "execute_result"
    }
   ],
   "source": [
    "perm"
   ]
  },
  {
   "cell_type": "code",
   "execution_count": 762,
   "metadata": {},
   "outputs": [
    {
     "data": {
      "text/html": [
       "<div>\n",
       "<style scoped>\n",
       "    .dataframe tbody tr th:only-of-type {\n",
       "        vertical-align: middle;\n",
       "    }\n",
       "\n",
       "    .dataframe tbody tr th {\n",
       "        vertical-align: top;\n",
       "    }\n",
       "\n",
       "    .dataframe thead th {\n",
       "        text-align: right;\n",
       "    }\n",
       "</style>\n",
       "<table border=\"1\" class=\"dataframe\">\n",
       "  <thead>\n",
       "    <tr style=\"text-align: right;\">\n",
       "      <th></th>\n",
       "      <th>feature</th>\n",
       "      <th>weight</th>\n",
       "      <th>std</th>\n",
       "    </tr>\n",
       "  </thead>\n",
       "  <tbody>\n",
       "    <tr>\n",
       "      <th>0</th>\n",
       "      <td>budget</td>\n",
       "      <td>0.709011</td>\n",
       "      <td>0.046883</td>\n",
       "    </tr>\n",
       "    <tr>\n",
       "      <th>1</th>\n",
       "      <td>Animation</td>\n",
       "      <td>0.039810</td>\n",
       "      <td>0.009855</td>\n",
       "    </tr>\n",
       "    <tr>\n",
       "      <th>2</th>\n",
       "      <td>runtime</td>\n",
       "      <td>0.030055</td>\n",
       "      <td>0.016954</td>\n",
       "    </tr>\n",
       "    <tr>\n",
       "      <th>3</th>\n",
       "      <td>budget_is_na</td>\n",
       "      <td>0.014037</td>\n",
       "      <td>0.005122</td>\n",
       "    </tr>\n",
       "    <tr>\n",
       "      <th>4</th>\n",
       "      <td>Adventure</td>\n",
       "      <td>0.010915</td>\n",
       "      <td>0.002343</td>\n",
       "    </tr>\n",
       "    <tr>\n",
       "      <th>5</th>\n",
       "      <td>Drama</td>\n",
       "      <td>0.003156</td>\n",
       "      <td>0.002714</td>\n",
       "    </tr>\n",
       "    <tr>\n",
       "      <th>6</th>\n",
       "      <td>Thriller</td>\n",
       "      <td>0.001565</td>\n",
       "      <td>0.001380</td>\n",
       "    </tr>\n",
       "    <tr>\n",
       "      <th>7</th>\n",
       "      <td>Crime</td>\n",
       "      <td>0.001394</td>\n",
       "      <td>0.002559</td>\n",
       "    </tr>\n",
       "    <tr>\n",
       "      <th>8</th>\n",
       "      <td>Action</td>\n",
       "      <td>0.000750</td>\n",
       "      <td>0.001126</td>\n",
       "    </tr>\n",
       "    <tr>\n",
       "      <th>9</th>\n",
       "      <td>month</td>\n",
       "      <td>0.000315</td>\n",
       "      <td>0.000316</td>\n",
       "    </tr>\n",
       "  </tbody>\n",
       "</table>\n",
       "</div>"
      ],
      "text/plain": [
       "        feature    weight       std\n",
       "0        budget  0.709011  0.046883\n",
       "1     Animation  0.039810  0.009855\n",
       "2       runtime  0.030055  0.016954\n",
       "3  budget_is_na  0.014037  0.005122\n",
       "4     Adventure  0.010915  0.002343\n",
       "5         Drama  0.003156  0.002714\n",
       "6      Thriller  0.001565  0.001380\n",
       "7         Crime  0.001394  0.002559\n",
       "8        Action  0.000750  0.001126\n",
       "9         month  0.000315  0.000316"
      ]
     },
     "execution_count": 762,
     "metadata": {},
     "output_type": "execute_result"
    }
   ],
   "source": [
    "exp_df = eli5.explain_weights_df(perm, feature_names = list(X_train.columns))\n",
    "exp_df[:10]"
   ]
  },
  {
   "cell_type": "code",
   "execution_count": 759,
   "metadata": {},
   "outputs": [
    {
     "data": {
      "text/plain": [
       "array(['budget', 'Animation', 'runtime', 'budget_is_na'], dtype=object)"
      ]
     },
     "execution_count": 759,
     "metadata": {},
     "output_type": "execute_result"
    }
   ],
   "source": [
    "selected_feats = exp_df[:4]['feature'].values\n",
    "selected_feats"
   ]
  },
  {
   "cell_type": "code",
   "execution_count": 755,
   "metadata": {},
   "outputs": [
    {
     "data": {
      "text/plain": [
       "LinearRegression(copy_X=True, fit_intercept=True, n_jobs=None, normalize=False)"
      ]
     },
     "execution_count": 755,
     "metadata": {},
     "output_type": "execute_result"
    }
   ],
   "source": [
    "model = LinearRegression()\n",
    "model.fit(X_train[selected_feats], y_train)"
   ]
  },
  {
   "cell_type": "code",
   "execution_count": 756,
   "metadata": {},
   "outputs": [
    {
     "data": {
      "text/plain": [
       "0.5309831080966628"
      ]
     },
     "execution_count": 756,
     "metadata": {},
     "output_type": "execute_result"
    }
   ],
   "source": [
    "model.score(X_validate[selected_feats], y_validate)"
   ]
  },
  {
   "cell_type": "code",
   "execution_count": 757,
   "metadata": {},
   "outputs": [
    {
     "data": {
      "text/plain": [
       "0.5051412736850833"
      ]
     },
     "execution_count": 757,
     "metadata": {},
     "output_type": "execute_result"
    }
   ],
   "source": [
    "model.score(X_test[selected_feats], y_test)"
   ]
  },
  {
   "cell_type": "code",
   "execution_count": null,
   "metadata": {},
   "outputs": [],
   "source": []
  }
 ],
 "metadata": {
  "kernelspec": {
   "display_name": "Python 3",
   "language": "python",
   "name": "python3"
  },
  "language_info": {
   "codemirror_mode": {
    "name": "ipython",
    "version": 3
   },
   "file_extension": ".py",
   "mimetype": "text/x-python",
   "name": "python",
   "nbconvert_exporter": "python",
   "pygments_lexer": "ipython3",
   "version": "3.7.4"
  }
 },
 "nbformat": 4,
 "nbformat_minor": 4
}
