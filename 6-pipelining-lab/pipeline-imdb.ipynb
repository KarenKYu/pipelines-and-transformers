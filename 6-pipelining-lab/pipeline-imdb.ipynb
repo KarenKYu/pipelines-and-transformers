{
 "cells": [
  {
   "cell_type": "markdown",
   "metadata": {},
   "source": [
    "# Pipeline Movies Lab"
   ]
  },
  {
   "cell_type": "markdown",
   "metadata": {},
   "source": [
    "### Introduction"
   ]
  },
  {
   "cell_type": "markdown",
   "metadata": {},
   "source": [
    "In this lesson, we'll work through our machine learning process with categorical data."
   ]
  },
  {
   "cell_type": "markdown",
   "metadata": {},
   "source": [
    "### Loading our Data"
   ]
  },
  {
   "cell_type": "markdown",
   "metadata": {},
   "source": [
    "Let's begin by loading up our data."
   ]
  },
  {
   "cell_type": "code",
   "execution_count": 2,
   "metadata": {},
   "outputs": [],
   "source": [
    "import pandas as pd \n",
    "\n",
    "url = \"https://raw.githubusercontent.com/jigsawlabs-student/pipelines-and-transformers/master/6-pipelining-lab/imdb_movies_nan.csv\"\n",
    "movies_df = pd.read_csv(url, index_col = 0)"
   ]
  },
  {
   "cell_type": "markdown",
   "metadata": {},
   "source": [
    "This time we have sorted the movies for you."
   ]
  },
  {
   "cell_type": "code",
   "execution_count": 3,
   "metadata": {},
   "outputs": [
    {
     "data": {
      "text/html": [
       "<div>\n",
       "<style scoped>\n",
       "    .dataframe tbody tr th:only-of-type {\n",
       "        vertical-align: middle;\n",
       "    }\n",
       "\n",
       "    .dataframe tbody tr th {\n",
       "        vertical-align: top;\n",
       "    }\n",
       "\n",
       "    .dataframe thead th {\n",
       "        text-align: right;\n",
       "    }\n",
       "</style>\n",
       "<table border=\"1\" class=\"dataframe\">\n",
       "  <thead>\n",
       "    <tr style=\"text-align: right;\">\n",
       "      <th></th>\n",
       "      <th>title</th>\n",
       "      <th>genre</th>\n",
       "      <th>budget</th>\n",
       "      <th>runtime</th>\n",
       "      <th>year</th>\n",
       "      <th>month</th>\n",
       "      <th>revenue</th>\n",
       "    </tr>\n",
       "  </thead>\n",
       "  <tbody>\n",
       "    <tr>\n",
       "      <th>1108</th>\n",
       "      <td>Pinocchio</td>\n",
       "      <td>Animation</td>\n",
       "      <td>2600000.0</td>\n",
       "      <td>88.0</td>\n",
       "      <td>1940</td>\n",
       "      <td>2</td>\n",
       "      <td>84300000</td>\n",
       "    </tr>\n",
       "    <tr>\n",
       "      <th>862</th>\n",
       "      <td>Lolita</td>\n",
       "      <td>Drama</td>\n",
       "      <td>2000000.0</td>\n",
       "      <td>153.0</td>\n",
       "      <td>1962</td>\n",
       "      <td>6</td>\n",
       "      <td>9250000</td>\n",
       "    </tr>\n",
       "  </tbody>\n",
       "</table>\n",
       "</div>"
      ],
      "text/plain": [
       "          title      genre     budget  runtime  year  month   revenue\n",
       "1108  Pinocchio  Animation  2600000.0     88.0  1940      2  84300000\n",
       "862      Lolita      Drama  2000000.0    153.0  1962      6   9250000"
      ]
     },
     "execution_count": 3,
     "metadata": {},
     "output_type": "execute_result"
    }
   ],
   "source": [
    "movies_df[:2]"
   ]
  },
  {
   "cell_type": "code",
   "execution_count": 4,
   "metadata": {},
   "outputs": [
    {
     "name": "stdout",
     "output_type": "stream",
     "text": [
      "<class 'pandas.core.frame.DataFrame'>\n",
      "Int64Index: 2000 entries, 1108 to 357\n",
      "Data columns (total 7 columns):\n",
      "title      2000 non-null object\n",
      "genre      1916 non-null object\n",
      "budget     1880 non-null float64\n",
      "runtime    2000 non-null float64\n",
      "year       2000 non-null int64\n",
      "month      2000 non-null int64\n",
      "revenue    2000 non-null int64\n",
      "dtypes: float64(2), int64(3), object(2)\n",
      "memory usage: 125.0+ KB\n"
     ]
    }
   ],
   "source": [
    "movies_df.info()"
   ]
  },
  {
   "cell_type": "markdown",
   "metadata": {},
   "source": [
    "Let's split our data up front."
   ]
  },
  {
   "cell_type": "markdown",
   "metadata": {},
   "source": [
    "Assign the revenue column to the variable `y`, and the remaining columns except for title to the variable `X`."
   ]
  },
  {
   "cell_type": "code",
   "execution_count": 5,
   "metadata": {},
   "outputs": [],
   "source": [
    "y = movies_df['revenue']"
   ]
  },
  {
   "cell_type": "code",
   "execution_count": 8,
   "metadata": {},
   "outputs": [
    {
     "data": {
      "text/plain": [
       "1108    84300000\n",
       "862      9250000\n",
       "1125    71000000\n",
       "Name: revenue, dtype: int64"
      ]
     },
     "execution_count": 8,
     "metadata": {},
     "output_type": "execute_result"
    }
   ],
   "source": [
    "y[:3]\n",
    "\n",
    "# 1108    84300000\n",
    "# 862      9250000\n",
    "# 1125    71000000\n",
    "# Name: revenue, dtype: int64\n"
   ]
  },
  {
   "cell_type": "code",
   "execution_count": 6,
   "metadata": {},
   "outputs": [],
   "source": [
    "\n",
    "X = None"
   ]
  },
  {
   "cell_type": "code",
   "execution_count": 9,
   "metadata": {},
   "outputs": [
    {
     "data": {
      "text/plain": [
       "Index(['genre', 'budget', 'runtime', 'year', 'month'], dtype='object')"
      ]
     },
     "execution_count": 9,
     "metadata": {},
     "output_type": "execute_result"
    }
   ],
   "source": [
    "X.columns\n",
    "\n",
    "# Index(['genre', 'budget', 'runtime', 'year', 'month'], dtype='object')"
   ]
  },
  {
   "cell_type": "markdown",
   "metadata": {},
   "source": [
    "Ok, now it's time to split our data.\n",
    "\n",
    "We already have our data sorted, but let's make sure that when we perform the split our data is split with the most recent data in the test set, and the next set of recent data in the validation set.   \n",
    "\n",
    "> We'll do this for you."
   ]
  },
  {
   "cell_type": "code",
   "execution_count": 341,
   "metadata": {},
   "outputs": [],
   "source": [
    "from sklearn.model_selection import train_test_split\n",
    "\n",
    "X_train, X_test, y_train, y_test = train_test_split(X, y, shuffle = False, test_size = .2)\n",
    "\n",
    "X_validate, X_test, y_validate, y_test = train_test_split(X_test, y_test, shuffle = False, test_size = .5)"
   ]
  },
  {
   "cell_type": "code",
   "execution_count": 342,
   "metadata": {},
   "outputs": [
    {
     "data": {
      "text/plain": [
       "(1600, 5)"
      ]
     },
     "execution_count": 342,
     "metadata": {},
     "output_type": "execute_result"
    }
   ],
   "source": [
    "X_train.shape\n",
    "\n",
    "# (1600, 5)"
   ]
  },
  {
   "cell_type": "code",
   "execution_count": 343,
   "metadata": {},
   "outputs": [
    {
     "data": {
      "text/plain": [
       "(200, 5)"
      ]
     },
     "execution_count": 343,
     "metadata": {},
     "output_type": "execute_result"
    }
   ],
   "source": [
    "X_validate.shape"
   ]
  },
  {
   "cell_type": "code",
   "execution_count": 344,
   "metadata": {},
   "outputs": [
    {
     "data": {
      "text/plain": [
       "(200, 5)"
      ]
     },
     "execution_count": 344,
     "metadata": {},
     "output_type": "execute_result"
    }
   ],
   "source": [
    "X_test.shape"
   ]
  },
  {
   "cell_type": "markdown",
   "metadata": {},
   "source": [
    "### Coercing the Data"
   ]
  },
  {
   "cell_type": "markdown",
   "metadata": {},
   "source": [
    "Let's take another look at our data."
   ]
  },
  {
   "cell_type": "code",
   "execution_count": 345,
   "metadata": {},
   "outputs": [
    {
     "name": "stdout",
     "output_type": "stream",
     "text": [
      "<class 'pandas.core.frame.DataFrame'>\n",
      "Int64Index: 2000 entries, 1108 to 357\n",
      "Data columns (total 5 columns):\n",
      "genre      1916 non-null object\n",
      "budget     1880 non-null float64\n",
      "runtime    2000 non-null float64\n",
      "year       2000 non-null int64\n",
      "month      2000 non-null int64\n",
      "dtypes: float64(2), int64(2), object(1)\n",
      "memory usage: 93.8+ KB\n"
     ]
    }
   ],
   "source": [
    "X.info()"
   ]
  },
  {
   "cell_type": "markdown",
   "metadata": {},
   "source": [
    "We cannot train the model because we have null values in `genre` and in `budget`.  Let's start with budget.  We'll replace the missing values in the budget column with the mean, and add a `budget_is_na` column that indicates if the value was missing."
   ]
  },
  {
   "cell_type": "code",
   "execution_count": 346,
   "metadata": {},
   "outputs": [],
   "source": []
  },
  {
   "cell_type": "code",
   "execution_count": 347,
   "metadata": {},
   "outputs": [],
   "source": [
    "mapper = None"
   ]
  },
  {
   "cell_type": "code",
   "execution_count": 348,
   "metadata": {},
   "outputs": [
    {
     "data": {
      "text/html": [
       "<div>\n",
       "<style scoped>\n",
       "    .dataframe tbody tr th:only-of-type {\n",
       "        vertical-align: middle;\n",
       "    }\n",
       "\n",
       "    .dataframe tbody tr th {\n",
       "        vertical-align: top;\n",
       "    }\n",
       "\n",
       "    .dataframe thead th {\n",
       "        text-align: right;\n",
       "    }\n",
       "</style>\n",
       "<table border=\"1\" class=\"dataframe\">\n",
       "  <thead>\n",
       "    <tr style=\"text-align: right;\">\n",
       "      <th></th>\n",
       "      <th>budget</th>\n",
       "      <th>budget_is_na</th>\n",
       "    </tr>\n",
       "  </thead>\n",
       "  <tbody>\n",
       "    <tr>\n",
       "      <th>1108</th>\n",
       "      <td>2600000.0</td>\n",
       "      <td>False</td>\n",
       "    </tr>\n",
       "    <tr>\n",
       "      <th>862</th>\n",
       "      <td>2000000.0</td>\n",
       "      <td>False</td>\n",
       "    </tr>\n",
       "  </tbody>\n",
       "</table>\n",
       "</div>"
      ],
      "text/plain": [
       "         budget  budget_is_na\n",
       "1108  2600000.0         False\n",
       "862   2000000.0         False"
      ]
     },
     "execution_count": 348,
     "metadata": {},
     "output_type": "execute_result"
    }
   ],
   "source": [
    "transformed_X = mapper.fit_transform(X)\n",
    "transformed_X[:2]\n",
    "\n",
    "# \tbudget\tbudget_is_na\n",
    "# 1108\t2600000.0\tFalse\n",
    "# 862\t2000000.0\tFalse"
   ]
  },
  {
   "cell_type": "code",
   "execution_count": 349,
   "metadata": {},
   "outputs": [
    {
     "data": {
      "text/plain": [
       "(0, 120)"
      ]
     },
     "execution_count": 349,
     "metadata": {},
     "output_type": "execute_result"
    }
   ],
   "source": [
    "transformed_X['budget'].isna().sum(), transformed_X['budget_is_na'].sum()\n",
    "\n",
    "# (0, 120)"
   ]
  },
  {
   "cell_type": "markdown",
   "metadata": {},
   "source": [
    "### Handling Categorical Values"
   ]
  },
  {
   "cell_type": "markdown",
   "metadata": {},
   "source": [
    "Working with the categorical variables is different.  We don't need to add a new column for the na values, as this can be taken care of with our one hot encoding.  So let's take care of the na values in the genre column by replacing them with the string `na`. "
   ]
  },
  {
   "cell_type": "code",
   "execution_count": 350,
   "metadata": {},
   "outputs": [],
   "source": [
    "from sklearn.preprocessing import OneHotEncoder"
   ]
  },
  {
   "cell_type": "code",
   "execution_count": 351,
   "metadata": {},
   "outputs": [],
   "source": [
    "mapper = None"
   ]
  },
  {
   "cell_type": "code",
   "execution_count": 352,
   "metadata": {},
   "outputs": [
    {
     "data": {
      "text/html": [
       "<div>\n",
       "<style scoped>\n",
       "    .dataframe tbody tr th:only-of-type {\n",
       "        vertical-align: middle;\n",
       "    }\n",
       "\n",
       "    .dataframe tbody tr th {\n",
       "        vertical-align: top;\n",
       "    }\n",
       "\n",
       "    .dataframe thead th {\n",
       "        text-align: right;\n",
       "    }\n",
       "</style>\n",
       "<table border=\"1\" class=\"dataframe\">\n",
       "  <thead>\n",
       "    <tr style=\"text-align: right;\">\n",
       "      <th></th>\n",
       "      <th>budget</th>\n",
       "      <th>budget_is_na</th>\n",
       "      <th>genre</th>\n",
       "    </tr>\n",
       "  </thead>\n",
       "  <tbody>\n",
       "    <tr>\n",
       "      <th>1108</th>\n",
       "      <td>2600000.0</td>\n",
       "      <td>False</td>\n",
       "      <td>Animation</td>\n",
       "    </tr>\n",
       "    <tr>\n",
       "      <th>862</th>\n",
       "      <td>2000000.0</td>\n",
       "      <td>False</td>\n",
       "      <td>Drama</td>\n",
       "    </tr>\n",
       "  </tbody>\n",
       "</table>\n",
       "</div>"
      ],
      "text/plain": [
       "         budget  budget_is_na      genre\n",
       "1108  2600000.0         False  Animation\n",
       "862   2000000.0         False      Drama"
      ]
     },
     "execution_count": 352,
     "metadata": {},
     "output_type": "execute_result"
    }
   ],
   "source": [
    "transformed_X = mapper.fit_transform(X)\n",
    "transformed_X[:2]\n",
    "\n",
    "# \tbudget\tbudget_is_na\tgenre\n",
    "# 1108\t2600000.0\tFalse\tAnimation\n",
    "# 862\t2000000.0\tFalse\tDrama"
   ]
  },
  {
   "cell_type": "code",
   "execution_count": 353,
   "metadata": {},
   "outputs": [
    {
     "data": {
      "text/plain": [
       "Action             483\n",
       "Drama              365\n",
       "Comedy             359\n",
       "Adventure          236\n",
       "Animation           93\n",
       "na                  84\n",
       "Fantasy             80\n",
       "Crime               76\n",
       "Thriller            73\n",
       "Horror              59\n",
       "Science Fiction     52\n",
       "Romance             40\n",
       "Name: genre, dtype: int64"
      ]
     },
     "execution_count": 353,
     "metadata": {},
     "output_type": "execute_result"
    }
   ],
   "source": [
    "transformed_X['genre'].value_counts()\n",
    "\n",
    "# Action             483\n",
    "# Drama              365\n",
    "# Comedy             359\n",
    "# Adventure          236\n",
    "# Animation           93\n",
    "# na                  84\n",
    "# Fantasy             80\n",
    "# Crime               76\n",
    "# Thriller            73\n",
    "# Horror              59\n",
    "# Science Fiction     52\n",
    "# Romance             40\n",
    "# Name: genre, dtype: int64"
   ]
  },
  {
   "cell_type": "markdown",
   "metadata": {},
   "source": [
    "Ok, now let's add one hot encoding with our genre columns."
   ]
  },
  {
   "cell_type": "code",
   "execution_count": 354,
   "metadata": {},
   "outputs": [],
   "source": [
    "mapper = None"
   ]
  },
  {
   "cell_type": "code",
   "execution_count": 355,
   "metadata": {},
   "outputs": [
    {
     "data": {
      "text/html": [
       "<div>\n",
       "<style scoped>\n",
       "    .dataframe tbody tr th:only-of-type {\n",
       "        vertical-align: middle;\n",
       "    }\n",
       "\n",
       "    .dataframe tbody tr th {\n",
       "        vertical-align: top;\n",
       "    }\n",
       "\n",
       "    .dataframe thead th {\n",
       "        text-align: right;\n",
       "    }\n",
       "</style>\n",
       "<table border=\"1\" class=\"dataframe\">\n",
       "  <thead>\n",
       "    <tr style=\"text-align: right;\">\n",
       "      <th></th>\n",
       "      <th>budget</th>\n",
       "      <th>budget_is_na</th>\n",
       "      <th>genre_x0_Action</th>\n",
       "      <th>genre_x0_Adventure</th>\n",
       "      <th>genre_x0_Animation</th>\n",
       "      <th>genre_x0_Comedy</th>\n",
       "      <th>genre_x0_Crime</th>\n",
       "      <th>genre_x0_Drama</th>\n",
       "      <th>genre_x0_Fantasy</th>\n",
       "      <th>genre_x0_Horror</th>\n",
       "      <th>genre_x0_Romance</th>\n",
       "      <th>genre_x0_Science Fiction</th>\n",
       "      <th>genre_x0_Thriller</th>\n",
       "      <th>genre_x0_na</th>\n",
       "    </tr>\n",
       "  </thead>\n",
       "  <tbody>\n",
       "    <tr>\n",
       "      <th>1108</th>\n",
       "      <td>2600000.0</td>\n",
       "      <td>False</td>\n",
       "      <td>0.0</td>\n",
       "      <td>0.0</td>\n",
       "      <td>1.0</td>\n",
       "      <td>0.0</td>\n",
       "      <td>0.0</td>\n",
       "      <td>0.0</td>\n",
       "      <td>0.0</td>\n",
       "      <td>0.0</td>\n",
       "      <td>0.0</td>\n",
       "      <td>0.0</td>\n",
       "      <td>0.0</td>\n",
       "      <td>0.0</td>\n",
       "    </tr>\n",
       "    <tr>\n",
       "      <th>862</th>\n",
       "      <td>2000000.0</td>\n",
       "      <td>False</td>\n",
       "      <td>0.0</td>\n",
       "      <td>0.0</td>\n",
       "      <td>0.0</td>\n",
       "      <td>0.0</td>\n",
       "      <td>0.0</td>\n",
       "      <td>1.0</td>\n",
       "      <td>0.0</td>\n",
       "      <td>0.0</td>\n",
       "      <td>0.0</td>\n",
       "      <td>0.0</td>\n",
       "      <td>0.0</td>\n",
       "      <td>0.0</td>\n",
       "    </tr>\n",
       "    <tr>\n",
       "      <th>1125</th>\n",
       "      <td>31115000.0</td>\n",
       "      <td>False</td>\n",
       "      <td>0.0</td>\n",
       "      <td>0.0</td>\n",
       "      <td>0.0</td>\n",
       "      <td>0.0</td>\n",
       "      <td>0.0</td>\n",
       "      <td>1.0</td>\n",
       "      <td>0.0</td>\n",
       "      <td>0.0</td>\n",
       "      <td>0.0</td>\n",
       "      <td>0.0</td>\n",
       "      <td>0.0</td>\n",
       "      <td>0.0</td>\n",
       "    </tr>\n",
       "  </tbody>\n",
       "</table>\n",
       "</div>"
      ],
      "text/plain": [
       "          budget  budget_is_na  genre_x0_Action  genre_x0_Adventure  \\\n",
       "1108   2600000.0         False              0.0                 0.0   \n",
       "862    2000000.0         False              0.0                 0.0   \n",
       "1125  31115000.0         False              0.0                 0.0   \n",
       "\n",
       "      genre_x0_Animation  genre_x0_Comedy  genre_x0_Crime  genre_x0_Drama  \\\n",
       "1108                 1.0              0.0             0.0             0.0   \n",
       "862                  0.0              0.0             0.0             1.0   \n",
       "1125                 0.0              0.0             0.0             1.0   \n",
       "\n",
       "      genre_x0_Fantasy  genre_x0_Horror  genre_x0_Romance  \\\n",
       "1108               0.0              0.0               0.0   \n",
       "862                0.0              0.0               0.0   \n",
       "1125               0.0              0.0               0.0   \n",
       "\n",
       "      genre_x0_Science Fiction  genre_x0_Thriller  genre_x0_na  \n",
       "1108                       0.0                0.0          0.0  \n",
       "862                        0.0                0.0          0.0  \n",
       "1125                       0.0                0.0          0.0  "
      ]
     },
     "execution_count": 355,
     "metadata": {},
     "output_type": "execute_result"
    }
   ],
   "source": [
    "transformed_X = mapper.fit_transform(X)\n",
    "transformed_X[:3]\n",
    "\n",
    "# \tbudget\tbudget_is_na\tgenre_x0_Action\tgenre_x0_Adventure\tgenre_x0_Animation\tgenre_x0_Comedy\tgenre_x0_Crime\tgenre_x0_Drama\tgenre_x0_Fantasy\tgenre_x0_Horror\tgenre_x0_Romance\tgenre_x0_Science Fiction\tgenre_x0_Thriller\tgenre_x0_na\n",
    "# 1108\t2600000.0\tFalse\t0.0\t0.0\t1.0\t0.0\t0.0\t0.0\t0.0\t0.0\t0.0\t0.0\t0.0\t0.0\n",
    "# 862\t2000000.0\tFalse\t0.0\t0.0\t0.0\t0.0\t0.0\t1.0\t0.0\t0.0\t0.0\t0.0\t0.0\t0.0\n",
    "# 1125\t31115000.0\tFalse\t0.0\t0.0\t0.0\t0.0\t0.0\t1.0\t0.0\t0.0\t0.0\t0.0\t0.0\t0.0"
   ]
  },
  {
   "cell_type": "markdown",
   "metadata": {},
   "source": [
    "### Handling the Rest"
   ]
  },
  {
   "cell_type": "markdown",
   "metadata": {},
   "source": [
    "Now that we've taken care of our genre and budget columns, let's see if the rest of our columns are ready to add in there. "
   ]
  },
  {
   "cell_type": "code",
   "execution_count": 359,
   "metadata": {},
   "outputs": [
    {
     "name": "stdout",
     "output_type": "stream",
     "text": [
      "<class 'pandas.core.frame.DataFrame'>\n",
      "Int64Index: 2000 entries, 1108 to 357\n",
      "Data columns (total 5 columns):\n",
      "genre      1916 non-null object\n",
      "budget     1880 non-null float64\n",
      "runtime    2000 non-null float64\n",
      "year       2000 non-null int64\n",
      "month      2000 non-null int64\n",
      "dtypes: float64(2), int64(2), object(1)\n",
      "memory usage: 93.8+ KB\n"
     ]
    }
   ],
   "source": [
    "X.info()"
   ]
  },
  {
   "cell_type": "markdown",
   "metadata": {},
   "source": [
    "Runtime, year and month each have only non-null values.  They are also already numeric.  So let's have our mapper include them."
   ]
  },
  {
   "cell_type": "code",
   "execution_count": 360,
   "metadata": {},
   "outputs": [],
   "source": [
    "mapper = None"
   ]
  },
  {
   "cell_type": "code",
   "execution_count": 361,
   "metadata": {},
   "outputs": [],
   "source": [
    "transformed_X = mapper.fit_transform(X)\n"
   ]
  },
  {
   "cell_type": "markdown",
   "metadata": {},
   "source": [
    "> Check that `runtime`, `year` and `month` are included as columns."
   ]
  },
  {
   "cell_type": "code",
   "execution_count": 362,
   "metadata": {},
   "outputs": [
    {
     "data": {
      "text/plain": [
       "Index(['budget', 'budget_is_na', 'genre_x0_Action', 'genre_x0_Adventure',\n",
       "       'genre_x0_Animation', 'genre_x0_Comedy', 'genre_x0_Crime',\n",
       "       'genre_x0_Drama', 'genre_x0_Fantasy', 'genre_x0_Horror',\n",
       "       'genre_x0_Romance', 'genre_x0_Science Fiction', 'genre_x0_Thriller',\n",
       "       'genre_x0_na', 'runtime', 'year', 'month'],\n",
       "      dtype='object')"
      ]
     },
     "execution_count": 362,
     "metadata": {},
     "output_type": "execute_result"
    }
   ],
   "source": [
    "transformed_X.columns\n",
    "\n",
    "# Index(['budget', 'budget_is_na', 'genre_x0_Action', 'genre_x0_Adventure',\n",
    "#        'genre_x0_Animation', 'genre_x0_Comedy', 'genre_x0_Crime',\n",
    "#        'genre_x0_Drama', 'genre_x0_Fantasy', 'genre_x0_Horror',\n",
    "#        'genre_x0_Romance', 'genre_x0_Science Fiction', 'genre_x0_Thriller',\n",
    "#        'genre_x0_na', 'runtime', 'year', 'month'],\n",
    "#       dtype='object')"
   ]
  },
  {
   "cell_type": "code",
   "execution_count": 363,
   "metadata": {},
   "outputs": [
    {
     "data": {
      "text/html": [
       "<div>\n",
       "<style scoped>\n",
       "    .dataframe tbody tr th:only-of-type {\n",
       "        vertical-align: middle;\n",
       "    }\n",
       "\n",
       "    .dataframe tbody tr th {\n",
       "        vertical-align: top;\n",
       "    }\n",
       "\n",
       "    .dataframe thead th {\n",
       "        text-align: right;\n",
       "    }\n",
       "</style>\n",
       "<table border=\"1\" class=\"dataframe\">\n",
       "  <thead>\n",
       "    <tr style=\"text-align: right;\">\n",
       "      <th></th>\n",
       "      <th>budget</th>\n",
       "      <th>budget_is_na</th>\n",
       "      <th>genre_x0_Action</th>\n",
       "      <th>genre_x0_Adventure</th>\n",
       "      <th>genre_x0_Animation</th>\n",
       "      <th>genre_x0_Comedy</th>\n",
       "      <th>genre_x0_Crime</th>\n",
       "      <th>genre_x0_Drama</th>\n",
       "      <th>genre_x0_Fantasy</th>\n",
       "      <th>genre_x0_Horror</th>\n",
       "      <th>genre_x0_Romance</th>\n",
       "      <th>genre_x0_Science Fiction</th>\n",
       "      <th>genre_x0_Thriller</th>\n",
       "      <th>genre_x0_na</th>\n",
       "      <th>runtime</th>\n",
       "      <th>year</th>\n",
       "      <th>month</th>\n",
       "    </tr>\n",
       "  </thead>\n",
       "  <tbody>\n",
       "    <tr>\n",
       "      <th>1108</th>\n",
       "      <td>2600000.0</td>\n",
       "      <td>False</td>\n",
       "      <td>0.0</td>\n",
       "      <td>0.0</td>\n",
       "      <td>1.0</td>\n",
       "      <td>0.0</td>\n",
       "      <td>0.0</td>\n",
       "      <td>0.0</td>\n",
       "      <td>0.0</td>\n",
       "      <td>0.0</td>\n",
       "      <td>0.0</td>\n",
       "      <td>0.0</td>\n",
       "      <td>0.0</td>\n",
       "      <td>0.0</td>\n",
       "      <td>88.0</td>\n",
       "      <td>1940.0</td>\n",
       "      <td>2.0</td>\n",
       "    </tr>\n",
       "    <tr>\n",
       "      <th>862</th>\n",
       "      <td>2000000.0</td>\n",
       "      <td>False</td>\n",
       "      <td>0.0</td>\n",
       "      <td>0.0</td>\n",
       "      <td>0.0</td>\n",
       "      <td>0.0</td>\n",
       "      <td>0.0</td>\n",
       "      <td>1.0</td>\n",
       "      <td>0.0</td>\n",
       "      <td>0.0</td>\n",
       "      <td>0.0</td>\n",
       "      <td>0.0</td>\n",
       "      <td>0.0</td>\n",
       "      <td>0.0</td>\n",
       "      <td>153.0</td>\n",
       "      <td>1962.0</td>\n",
       "      <td>6.0</td>\n",
       "    </tr>\n",
       "    <tr>\n",
       "      <th>1125</th>\n",
       "      <td>31115000.0</td>\n",
       "      <td>False</td>\n",
       "      <td>0.0</td>\n",
       "      <td>0.0</td>\n",
       "      <td>0.0</td>\n",
       "      <td>0.0</td>\n",
       "      <td>0.0</td>\n",
       "      <td>1.0</td>\n",
       "      <td>0.0</td>\n",
       "      <td>0.0</td>\n",
       "      <td>0.0</td>\n",
       "      <td>0.0</td>\n",
       "      <td>0.0</td>\n",
       "      <td>0.0</td>\n",
       "      <td>248.0</td>\n",
       "      <td>1963.0</td>\n",
       "      <td>6.0</td>\n",
       "    </tr>\n",
       "  </tbody>\n",
       "</table>\n",
       "</div>"
      ],
      "text/plain": [
       "          budget  budget_is_na  genre_x0_Action  genre_x0_Adventure  \\\n",
       "1108   2600000.0         False              0.0                 0.0   \n",
       "862    2000000.0         False              0.0                 0.0   \n",
       "1125  31115000.0         False              0.0                 0.0   \n",
       "\n",
       "      genre_x0_Animation  genre_x0_Comedy  genre_x0_Crime  genre_x0_Drama  \\\n",
       "1108                 1.0              0.0             0.0             0.0   \n",
       "862                  0.0              0.0             0.0             1.0   \n",
       "1125                 0.0              0.0             0.0             1.0   \n",
       "\n",
       "      genre_x0_Fantasy  genre_x0_Horror  genre_x0_Romance  \\\n",
       "1108               0.0              0.0               0.0   \n",
       "862                0.0              0.0               0.0   \n",
       "1125               0.0              0.0               0.0   \n",
       "\n",
       "      genre_x0_Science Fiction  genre_x0_Thriller  genre_x0_na  runtime  \\\n",
       "1108                       0.0                0.0          0.0     88.0   \n",
       "862                        0.0                0.0          0.0    153.0   \n",
       "1125                       0.0                0.0          0.0    248.0   \n",
       "\n",
       "        year  month  \n",
       "1108  1940.0    2.0  \n",
       "862   1962.0    6.0  \n",
       "1125  1963.0    6.0  "
      ]
     },
     "execution_count": 363,
     "metadata": {},
     "output_type": "execute_result"
    }
   ],
   "source": [
    "transformed_X[:3]\n",
    "\n",
    "# budget\tbudget_is_na\tgenre_x0_Action\tgenre_x0_Adventure\tgenre_x0_Animation\tgenre_x0_Comedy\tgenre_x0_Crime\tgenre_x0_Drama\tgenre_x0_Fantasy\tgenre_x0_Horror\tgenre_x0_Romance\tgenre_x0_Science Fiction\tgenre_x0_Thriller\tgenre_x0_na\truntime\tyear\tmonth\n",
    "# 1108\t2600000.0\tFalse\t0.0\t0.0\t1.0\t0.0\t0.0\t0.0\t0.0\t0.0\t0.0\t0.0\t0.0\t0.0\t88.0\t1940.0\t2.0\n",
    "# 862\t2000000.0\tFalse\t0.0\t0.0\t0.0\t0.0\t0.0\t1.0\t0.0\t0.0\t0.0\t0.0\t0.0\t0.0\t153.0\t1962.0\t6.0\n",
    "# 1125\t31115000.0\tFalse\t0.0\t0.0\t0.0\t0.0\t0.0\t1.0\t0.0\t0.0\t0.0\t0.0\t0.0\t0.0\t248.0\t1963.0\t6.0\n"
   ]
  },
  {
   "cell_type": "markdown",
   "metadata": {},
   "source": [
    "### Training the model"
   ]
  },
  {
   "cell_type": "markdown",
   "metadata": {},
   "source": [
    "Ok, copy our mapper below."
   ]
  },
  {
   "cell_type": "code",
   "execution_count": 364,
   "metadata": {},
   "outputs": [],
   "source": [
    "mapper = None"
   ]
  },
  {
   "cell_type": "markdown",
   "metadata": {},
   "source": [
    "And then, we can apply the mapping to both our training and validation sets, train and score the model."
   ]
  },
  {
   "cell_type": "code",
   "execution_count": 365,
   "metadata": {},
   "outputs": [],
   "source": [
    "X_train_coerced = mapper.fit_transform(X_train)"
   ]
  },
  {
   "cell_type": "code",
   "execution_count": 366,
   "metadata": {},
   "outputs": [
    {
     "data": {
      "text/html": [
       "<div>\n",
       "<style scoped>\n",
       "    .dataframe tbody tr th:only-of-type {\n",
       "        vertical-align: middle;\n",
       "    }\n",
       "\n",
       "    .dataframe tbody tr th {\n",
       "        vertical-align: top;\n",
       "    }\n",
       "\n",
       "    .dataframe thead th {\n",
       "        text-align: right;\n",
       "    }\n",
       "</style>\n",
       "<table border=\"1\" class=\"dataframe\">\n",
       "  <thead>\n",
       "    <tr style=\"text-align: right;\">\n",
       "      <th></th>\n",
       "      <th>budget</th>\n",
       "      <th>budget_is_na</th>\n",
       "      <th>genre_x0_Action</th>\n",
       "      <th>genre_x0_Adventure</th>\n",
       "      <th>genre_x0_Animation</th>\n",
       "      <th>genre_x0_Comedy</th>\n",
       "      <th>genre_x0_Crime</th>\n",
       "      <th>genre_x0_Drama</th>\n",
       "      <th>genre_x0_Fantasy</th>\n",
       "      <th>genre_x0_Horror</th>\n",
       "      <th>genre_x0_Romance</th>\n",
       "      <th>genre_x0_Science Fiction</th>\n",
       "      <th>genre_x0_Thriller</th>\n",
       "      <th>genre_x0_na</th>\n",
       "      <th>runtime</th>\n",
       "      <th>year</th>\n",
       "      <th>month</th>\n",
       "    </tr>\n",
       "  </thead>\n",
       "  <tbody>\n",
       "    <tr>\n",
       "      <th>597</th>\n",
       "      <td>70000000.0</td>\n",
       "      <td>False</td>\n",
       "      <td>0.0</td>\n",
       "      <td>0.0</td>\n",
       "      <td>0.0</td>\n",
       "      <td>0.0</td>\n",
       "      <td>0.0</td>\n",
       "      <td>0.0</td>\n",
       "      <td>1.0</td>\n",
       "      <td>0.0</td>\n",
       "      <td>0.0</td>\n",
       "      <td>0.0</td>\n",
       "      <td>0.0</td>\n",
       "      <td>0.0</td>\n",
       "      <td>88.0</td>\n",
       "      <td>2012.0</td>\n",
       "      <td>1.0</td>\n",
       "    </tr>\n",
       "    <tr>\n",
       "      <th>800</th>\n",
       "      <td>58000000.0</td>\n",
       "      <td>False</td>\n",
       "      <td>0.0</td>\n",
       "      <td>0.0</td>\n",
       "      <td>0.0</td>\n",
       "      <td>0.0</td>\n",
       "      <td>0.0</td>\n",
       "      <td>1.0</td>\n",
       "      <td>0.0</td>\n",
       "      <td>0.0</td>\n",
       "      <td>0.0</td>\n",
       "      <td>0.0</td>\n",
       "      <td>0.0</td>\n",
       "      <td>0.0</td>\n",
       "      <td>125.0</td>\n",
       "      <td>2012.0</td>\n",
       "      <td>1.0</td>\n",
       "    </tr>\n",
       "  </tbody>\n",
       "</table>\n",
       "</div>"
      ],
      "text/plain": [
       "         budget  budget_is_na  genre_x0_Action  genre_x0_Adventure  \\\n",
       "597  70000000.0         False              0.0                 0.0   \n",
       "800  58000000.0         False              0.0                 0.0   \n",
       "\n",
       "     genre_x0_Animation  genre_x0_Comedy  genre_x0_Crime  genre_x0_Drama  \\\n",
       "597                 0.0              0.0             0.0             0.0   \n",
       "800                 0.0              0.0             0.0             1.0   \n",
       "\n",
       "     genre_x0_Fantasy  genre_x0_Horror  genre_x0_Romance  \\\n",
       "597               1.0              0.0               0.0   \n",
       "800               0.0              0.0               0.0   \n",
       "\n",
       "     genre_x0_Science Fiction  genre_x0_Thriller  genre_x0_na  runtime  \\\n",
       "597                       0.0                0.0          0.0     88.0   \n",
       "800                       0.0                0.0          0.0    125.0   \n",
       "\n",
       "       year  month  \n",
       "597  2012.0    1.0  \n",
       "800  2012.0    1.0  "
      ]
     },
     "execution_count": 366,
     "metadata": {},
     "output_type": "execute_result"
    }
   ],
   "source": [
    "X_validate_coerced = mapper.transform(X_validate)\n",
    "X_validate_coerced[:2]"
   ]
  },
  {
   "cell_type": "markdown",
   "metadata": {},
   "source": [
    "And train our model on X_train_coerced."
   ]
  },
  {
   "cell_type": "code",
   "execution_count": 367,
   "metadata": {},
   "outputs": [],
   "source": []
  },
  {
   "cell_type": "code",
   "execution_count": 368,
   "metadata": {},
   "outputs": [
    {
     "data": {
      "text/plain": [
       "LinearRegression(copy_X=True, fit_intercept=True, n_jobs=None, normalize=False)"
      ]
     },
     "execution_count": 368,
     "metadata": {},
     "output_type": "execute_result"
    }
   ],
   "source": [
    "model = None"
   ]
  },
  {
   "cell_type": "code",
   "execution_count": 369,
   "metadata": {},
   "outputs": [
    {
     "data": {
      "text/plain": [
       "0.5301554092507477"
      ]
     },
     "execution_count": 369,
     "metadata": {},
     "output_type": "execute_result"
    }
   ],
   "source": [
    "model.score(X_validate_coerced, y_validate)\n",
    "# 0.537861413573713"
   ]
  },
  {
   "cell_type": "markdown",
   "metadata": {},
   "source": [
    "### Feature Selection"
   ]
  },
  {
   "cell_type": "markdown",
   "metadata": {},
   "source": [
    "Next we can move onto looking at the importance of our features."
   ]
  },
  {
   "cell_type": "code",
   "execution_count": 370,
   "metadata": {},
   "outputs": [],
   "source": [
    "from eli5.sklearn import PermutationImportance\n",
    "import eli5\n",
    "\n",
    "perm = PermutationImportance(model).fit(X_validate_coerced, y_validate)\n",
    "exp_df = eli5.explain_weights_df(perm, feature_names = list(X_train_coerced.columns))\n",
    "exp_df[:15]"
   ]
  },
  {
   "cell_type": "markdown",
   "metadata": {},
   "source": [
    "Let's try validating again, but this time with just the top five most important features."
   ]
  },
  {
   "cell_type": "code",
   "execution_count": 373,
   "metadata": {},
   "outputs": [
    {
     "data": {
      "text/plain": [
       "array(['budget', 'budget_is_na', 'runtime', 'genre_x0_Animation'],\n",
       "      dtype=object)"
      ]
     },
     "execution_count": 373,
     "metadata": {},
     "output_type": "execute_result"
    }
   ],
   "source": [
    "exp_df['feature'].values[:4]"
   ]
  },
  {
   "cell_type": "markdown",
   "metadata": {},
   "source": [
    "### Continuing Feature Engineering"
   ]
  },
  {
   "cell_type": "code",
   "execution_count": 374,
   "metadata": {},
   "outputs": [],
   "source": [
    "top_features = X_train[['budget', 'runtime']]"
   ]
  },
  {
   "cell_type": "markdown",
   "metadata": {},
   "source": [
    "Ok, now that we have identified our top features, we can focus our time on improving these features.  Let's start by exploring the budget and runtime, by plotting them in matplotlib."
   ]
  },
  {
   "cell_type": "code",
   "execution_count": 10,
   "metadata": {},
   "outputs": [],
   "source": [
    "# histogram here"
   ]
  },
  {
   "cell_type": "markdown",
   "metadata": {},
   "source": [
    "<img src=\"./budget-runtime-hist.png\" width=\"40%\">"
   ]
  },
  {
   "cell_type": "markdown",
   "metadata": {},
   "source": [
    "And then let's describe these features."
   ]
  },
  {
   "cell_type": "code",
   "execution_count": 376,
   "metadata": {},
   "outputs": [
    {
     "data": {
      "text/html": [
       "<div>\n",
       "<style scoped>\n",
       "    .dataframe tbody tr th:only-of-type {\n",
       "        vertical-align: middle;\n",
       "    }\n",
       "\n",
       "    .dataframe tbody tr th {\n",
       "        vertical-align: top;\n",
       "    }\n",
       "\n",
       "    .dataframe thead th {\n",
       "        text-align: right;\n",
       "    }\n",
       "</style>\n",
       "<table border=\"1\" class=\"dataframe\">\n",
       "  <thead>\n",
       "    <tr style=\"text-align: right;\">\n",
       "      <th></th>\n",
       "      <th>budget</th>\n",
       "      <th>runtime</th>\n",
       "    </tr>\n",
       "  </thead>\n",
       "  <tbody>\n",
       "    <tr>\n",
       "      <th>count</th>\n",
       "      <td>1.497000e+03</td>\n",
       "      <td>1600.000000</td>\n",
       "    </tr>\n",
       "    <tr>\n",
       "      <th>mean</th>\n",
       "      <td>6.022669e+07</td>\n",
       "      <td>113.091875</td>\n",
       "    </tr>\n",
       "    <tr>\n",
       "      <th>std</th>\n",
       "      <td>4.048444e+07</td>\n",
       "      <td>21.658927</td>\n",
       "    </tr>\n",
       "    <tr>\n",
       "      <th>min</th>\n",
       "      <td>2.500000e+01</td>\n",
       "      <td>0.000000</td>\n",
       "    </tr>\n",
       "    <tr>\n",
       "      <th>25%</th>\n",
       "      <td>3.200000e+07</td>\n",
       "      <td>98.000000</td>\n",
       "    </tr>\n",
       "    <tr>\n",
       "      <th>50%</th>\n",
       "      <td>5.000000e+07</td>\n",
       "      <td>109.500000</td>\n",
       "    </tr>\n",
       "    <tr>\n",
       "      <th>75%</th>\n",
       "      <td>7.500000e+07</td>\n",
       "      <td>124.000000</td>\n",
       "    </tr>\n",
       "    <tr>\n",
       "      <th>max</th>\n",
       "      <td>3.800000e+08</td>\n",
       "      <td>254.000000</td>\n",
       "    </tr>\n",
       "  </tbody>\n",
       "</table>\n",
       "</div>"
      ],
      "text/plain": [
       "             budget      runtime\n",
       "count  1.497000e+03  1600.000000\n",
       "mean   6.022669e+07   113.091875\n",
       "std    4.048444e+07    21.658927\n",
       "min    2.500000e+01     0.000000\n",
       "25%    3.200000e+07    98.000000\n",
       "50%    5.000000e+07   109.500000\n",
       "75%    7.500000e+07   124.000000\n",
       "max    3.800000e+08   254.000000"
      ]
     },
     "execution_count": 376,
     "metadata": {},
     "output_type": "execute_result"
    }
   ],
   "source": [
    "# described features\n",
    "\n",
    "# \tbudget\truntime\n",
    "# count\t1.497000e+03\t1600.000000\n",
    "# mean\t6.022669e+07\t113.091875\n",
    "# std\t4.048444e+07\t21.658927\n",
    "# min\t2.500000e+01\t0.000000\n",
    "# 25%\t3.200000e+07\t98.000000\n",
    "# 50%\t5.000000e+07\t109.500000\n",
    "# 75%\t7.500000e+07\t124.000000\n",
    "# max\t3.800000e+08\t254.000000"
   ]
  },
  {
   "cell_type": "markdown",
   "metadata": {},
   "source": [
    "Ok. it looks like both budget and runtime has some suspicious values.  View the lowest values of budget using `value_counts`."
   ]
  },
  {
   "cell_type": "code",
   "execution_count": 377,
   "metadata": {},
   "outputs": [
    {
     "data": {
      "text/plain": [
       "25.0        1\n",
       "28.0        1\n",
       "30.0        1\n",
       "110.0       1\n",
       "500000.0    1\n",
       "Name: budget, dtype: int64"
      ]
     },
     "execution_count": 377,
     "metadata": {},
     "output_type": "execute_result"
    }
   ],
   "source": [
    "bottom_budgets = None\n",
    "bottom_budgets.iloc[:5]\n",
    "\n",
    "# 25.0        1\n",
    "# 28.0        1\n",
    "# 30.0        1\n",
    "# 110.0       1\n",
    "# 500000.0    1\n",
    "# Name: budget, dtype: int64"
   ]
  },
  {
   "cell_type": "markdown",
   "metadata": {},
   "source": [
    "And let's do the same for `runtime`."
   ]
  },
  {
   "cell_type": "code",
   "execution_count": 378,
   "metadata": {},
   "outputs": [
    {
     "data": {
      "text/plain": [
       "0.0     1\n",
       "63.0    1\n",
       "72.0    1\n",
       "74.0    1\n",
       "75.0    2\n",
       "Name: runtime, dtype: int64"
      ]
     },
     "execution_count": 378,
     "metadata": {},
     "output_type": "execute_result"
    }
   ],
   "source": [
    "bottom_runtimes = None\n",
    "bottom_runtimes.iloc[:5]\n",
    "\n",
    "# 0.0     1\n",
    "# 63.0    1\n",
    "# 72.0    1\n",
    "# 74.0    1\n",
    "# 75.0    2\n",
    "# Name: runtime, dtype: int64"
   ]
  },
  {
   "cell_type": "markdown",
   "metadata": {},
   "source": [
    "Ok, so let's replace set a threshold for under 100,000 for budget, and under 40 minutes for runtime.  Use a custom transformer to do so.  Add it to your `DataFrameMapper` from above."
   ]
  },
  {
   "cell_type": "code",
   "execution_count": 397,
   "metadata": {},
   "outputs": [],
   "source": []
  },
  {
   "cell_type": "code",
   "execution_count": 398,
   "metadata": {},
   "outputs": [],
   "source": [
    "mapper = None"
   ]
  },
  {
   "cell_type": "code",
   "execution_count": 399,
   "metadata": {},
   "outputs": [],
   "source": [
    "X_train_coerced = mapper.fit_transform(X_train)"
   ]
  },
  {
   "cell_type": "code",
   "execution_count": 400,
   "metadata": {},
   "outputs": [
    {
     "data": {
      "text/plain": [
       "0"
      ]
     },
     "execution_count": 400,
     "metadata": {},
     "output_type": "execute_result"
    }
   ],
   "source": [
    "(X_train_coerced['budget'] < 100000).sum()\n",
    "# 0"
   ]
  },
  {
   "cell_type": "code",
   "execution_count": 394,
   "metadata": {},
   "outputs": [],
   "source": [
    "# X_train_coerced['budget'].value_counts().sort_index()"
   ]
  },
  {
   "cell_type": "code",
   "execution_count": 401,
   "metadata": {},
   "outputs": [
    {
     "data": {
      "text/plain": [
       "0"
      ]
     },
     "execution_count": 401,
     "metadata": {},
     "output_type": "execute_result"
    }
   ],
   "source": [
    "(X_train_coerced['runtime'] < 40).sum()\n",
    "# 0"
   ]
  },
  {
   "cell_type": "markdown",
   "metadata": {},
   "source": [
    "* Coercing the target"
   ]
  },
  {
   "cell_type": "markdown",
   "metadata": {},
   "source": [
    "Now let's drop rows with 0 values from `movies_df`."
   ]
  },
  {
   "cell_type": "code",
   "execution_count": 316,
   "metadata": {},
   "outputs": [],
   "source": [
    "pruned_movies_df = movies_df[~(movies_df['revenue'] == 0)]"
   ]
  },
  {
   "cell_type": "markdown",
   "metadata": {},
   "source": [
    "### Wrapping Up"
   ]
  },
  {
   "cell_type": "markdown",
   "metadata": {},
   "source": [
    "Select our X and y columns."
   ]
  },
  {
   "cell_type": "code",
   "execution_count": 317,
   "metadata": {},
   "outputs": [],
   "source": [
    "y = pruned_movies_df['revenue']\n",
    "X = pruned_movies_df.drop(columns = ['title', 'revenue'])"
   ]
  },
  {
   "cell_type": "code",
   "execution_count": 319,
   "metadata": {},
   "outputs": [],
   "source": [
    "from sklearn.model_selection import train_test_split\n",
    "\n",
    "X_train, X_test, y_train, y_test = train_test_split(X, y, shuffle = False, test_size = .2)\n",
    "\n",
    "X_validate, X_test, y_validate, y_test = train_test_split(X_test, y_test, shuffle = False, test_size = .5)"
   ]
  },
  {
   "cell_type": "markdown",
   "metadata": {},
   "source": [
    "Copy our mapper code."
   ]
  },
  {
   "cell_type": "code",
   "execution_count": 409,
   "metadata": {},
   "outputs": [],
   "source": [
    "# copy latest mapper code along with FunctionTransformer and related functions"
   ]
  },
  {
   "cell_type": "markdown",
   "metadata": {},
   "source": [
    "Fit and transform our train data, and transform our validate and test data."
   ]
  },
  {
   "cell_type": "code",
   "execution_count": 405,
   "metadata": {},
   "outputs": [],
   "source": [
    "X_train_coerced = mapper.fit_transform(X_train)\n",
    "X_validate_coerced = mapper.fit_transform(X_validate)\n",
    "X_test_coerced = mapper.fit_transform(X_test)"
   ]
  },
  {
   "cell_type": "code",
   "execution_count": 406,
   "metadata": {},
   "outputs": [
    {
     "data": {
      "text/plain": [
       "0"
      ]
     },
     "execution_count": 406,
     "metadata": {},
     "output_type": "execute_result"
    }
   ],
   "source": [
    "y_train.isna().sum()"
   ]
  },
  {
   "cell_type": "code",
   "execution_count": 407,
   "metadata": {},
   "outputs": [
    {
     "data": {
      "text/plain": [
       "LinearRegression(copy_X=True, fit_intercept=True, n_jobs=None, normalize=False)"
      ]
     },
     "execution_count": 407,
     "metadata": {},
     "output_type": "execute_result"
    }
   ],
   "source": [
    "from sklearn.linear_model import LinearRegression\n",
    "model = LinearRegression()\n",
    "model.fit(X_train_coerced, y_train)"
   ]
  },
  {
   "cell_type": "code",
   "execution_count": 408,
   "metadata": {},
   "outputs": [
    {
     "data": {
      "text/plain": [
       "0.5292171950462577"
      ]
     },
     "execution_count": 408,
     "metadata": {},
     "output_type": "execute_result"
    }
   ],
   "source": [
    "model.score(X_validate_coerced, y_validate)"
   ]
  },
  {
   "cell_type": "code",
   "execution_count": 414,
   "metadata": {},
   "outputs": [
    {
     "data": {
      "text/html": [
       "<div>\n",
       "<style scoped>\n",
       "    .dataframe tbody tr th:only-of-type {\n",
       "        vertical-align: middle;\n",
       "    }\n",
       "\n",
       "    .dataframe tbody tr th {\n",
       "        vertical-align: top;\n",
       "    }\n",
       "\n",
       "    .dataframe thead th {\n",
       "        text-align: right;\n",
       "    }\n",
       "</style>\n",
       "<table border=\"1\" class=\"dataframe\">\n",
       "  <thead>\n",
       "    <tr style=\"text-align: right;\">\n",
       "      <th></th>\n",
       "      <th>feature</th>\n",
       "      <th>weight</th>\n",
       "      <th>std</th>\n",
       "    </tr>\n",
       "  </thead>\n",
       "  <tbody>\n",
       "    <tr>\n",
       "      <th>0</th>\n",
       "      <td>budget</td>\n",
       "      <td>0.757332</td>\n",
       "      <td>0.025831</td>\n",
       "    </tr>\n",
       "    <tr>\n",
       "      <th>1</th>\n",
       "      <td>budget_is_na</td>\n",
       "      <td>0.035654</td>\n",
       "      <td>0.010210</td>\n",
       "    </tr>\n",
       "    <tr>\n",
       "      <th>2</th>\n",
       "      <td>runtime</td>\n",
       "      <td>0.034215</td>\n",
       "      <td>0.003914</td>\n",
       "    </tr>\n",
       "    <tr>\n",
       "      <th>3</th>\n",
       "      <td>genre_x0_Animation</td>\n",
       "      <td>0.029332</td>\n",
       "      <td>0.003169</td>\n",
       "    </tr>\n",
       "  </tbody>\n",
       "</table>\n",
       "</div>"
      ],
      "text/plain": [
       "              feature    weight       std\n",
       "0              budget  0.757332  0.025831\n",
       "1        budget_is_na  0.035654  0.010210\n",
       "2             runtime  0.034215  0.003914\n",
       "3  genre_x0_Animation  0.029332  0.003169"
      ]
     },
     "execution_count": 414,
     "metadata": {},
     "output_type": "execute_result"
    }
   ],
   "source": [
    "from eli5.sklearn import PermutationImportance\n",
    "import eli5\n",
    "\n",
    "perm = PermutationImportance(model).fit(X_validate_coerced, y_validate)\n",
    "exp_df = eli5.explain_weights_df(perm, feature_names = list(X_train_coerced.columns))\n",
    "exp_df[:4]"
   ]
  },
  {
   "cell_type": "code",
   "execution_count": 416,
   "metadata": {},
   "outputs": [],
   "source": [
    "selected_cols = exp_df[:4].feature.values"
   ]
  },
  {
   "cell_type": "code",
   "execution_count": 417,
   "metadata": {},
   "outputs": [
    {
     "data": {
      "text/plain": [
       "0.5299022656678686"
      ]
     },
     "execution_count": 417,
     "metadata": {},
     "output_type": "execute_result"
    }
   ],
   "source": [
    "model = LinearRegression()\n",
    "model.fit(X_train_coerced[selected_cols], y_train)\n",
    "\n",
    "model.score(X_test_coerced[selected_cols], y_test)"
   ]
  },
  {
   "cell_type": "markdown",
   "metadata": {},
   "source": [
    "### Resources\n",
    "\n",
    "* [Sklearn Function Transformers](https://scikit-learn.org/stable/auto_examples/preprocessing/plot_function_transformer.html)\n",
    "\n",
    "* [Python Data Science ](https://python-data-science.readthedocs.io/en/latest/preprocess.html)"
   ]
  }
 ],
 "metadata": {
  "kernelspec": {
   "display_name": "Python 3",
   "language": "python",
   "name": "python3"
  },
  "language_info": {
   "codemirror_mode": {
    "name": "ipython",
    "version": 3
   },
   "file_extension": ".py",
   "mimetype": "text/x-python",
   "name": "python",
   "nbconvert_exporter": "python",
   "pygments_lexer": "ipython3",
   "version": "3.7.4"
  }
 },
 "nbformat": 4,
 "nbformat_minor": 4
}
