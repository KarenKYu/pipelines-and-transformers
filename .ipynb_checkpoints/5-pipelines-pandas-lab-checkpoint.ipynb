{
 "cells": [
  {
   "cell_type": "markdown",
   "metadata": {},
   "source": [
    "# Sklearn Pandas Lab"
   ]
  },
  {
   "cell_type": "markdown",
   "metadata": {},
   "source": [
    "### Introduction"
   ]
  },
  {
   "cell_type": "markdown",
   "metadata": {},
   "source": [
    "In this lesson, we'll practice using the `sklearn_pandas` library for pipelines.  You can reference how the library works [here](https://github.com/scikit-learn-contrib/sklearn-pandas).  \n",
    "\n",
    "Let's get started."
   ]
  },
  {
   "cell_type": "markdown",
   "metadata": {},
   "source": [
    "### Loading the Data"
   ]
  },
  {
   "cell_type": "code",
   "execution_count": 8,
   "metadata": {},
   "outputs": [],
   "source": [
    "import pandas as pd\n",
    "# url = \"https://raw.githubusercontent.com/jigsawlabs-student/pipelines-and-transformers/master/report-hs.csv\"\n",
    "url = \"https://raw.githubusercontent.com/jigsawlabs-student/pipelines-and-transformers/master/hs_directory.csv\"\n",
    "df_directory = pd.read_csv(url)"
   ]
  },
  {
   "cell_type": "code",
   "execution_count": 9,
   "metadata": {},
   "outputs": [
    {
     "data": {
      "text/html": [
       "<div>\n",
       "<style scoped>\n",
       "    .dataframe tbody tr th:only-of-type {\n",
       "        vertical-align: middle;\n",
       "    }\n",
       "\n",
       "    .dataframe tbody tr th {\n",
       "        vertical-align: top;\n",
       "    }\n",
       "\n",
       "    .dataframe thead th {\n",
       "        text-align: right;\n",
       "    }\n",
       "</style>\n",
       "<table border=\"1\" class=\"dataframe\">\n",
       "  <thead>\n",
       "    <tr style=\"text-align: right;\">\n",
       "      <th></th>\n",
       "      <th>dbn</th>\n",
       "      <th>school_name</th>\n",
       "      <th>boro</th>\n",
       "      <th>overview_paragraph</th>\n",
       "      <th>school_10th_seats</th>\n",
       "      <th>academicopportunities1</th>\n",
       "      <th>academicopportunities2</th>\n",
       "      <th>academicopportunities3</th>\n",
       "      <th>academicopportunities4</th>\n",
       "      <th>academicopportunities5</th>\n",
       "      <th>...</th>\n",
       "      <th>state_code</th>\n",
       "      <th>Borough</th>\n",
       "      <th>Latitude</th>\n",
       "      <th>Longitude</th>\n",
       "      <th>Community Board</th>\n",
       "      <th>Council District</th>\n",
       "      <th>Census Tract</th>\n",
       "      <th>BIN</th>\n",
       "      <th>BBL</th>\n",
       "      <th>NTA</th>\n",
       "    </tr>\n",
       "  </thead>\n",
       "  <tbody>\n",
       "    <tr>\n",
       "      <th>0</th>\n",
       "      <td>16K498</td>\n",
       "      <td>Brooklyn High School for Law and Technology</td>\n",
       "      <td>K</td>\n",
       "      <td>The mission of Brooklyn High School for Law an...</td>\n",
       "      <td>Y</td>\n",
       "      <td>iLearnNYC: Program for expanded online coursew...</td>\n",
       "      <td>Access to Law and Technology Programs: Youth C...</td>\n",
       "      <td>Computer Programming, iCareers, Online courses...</td>\n",
       "      <td>Multicultural Literature, Conflict Resolution/...</td>\n",
       "      <td>NaN</td>\n",
       "      <td>...</td>\n",
       "      <td>NY</td>\n",
       "      <td>BROOKLYN</td>\n",
       "      <td>40.688831</td>\n",
       "      <td>-73.920906</td>\n",
       "      <td>3</td>\n",
       "      <td>41</td>\n",
       "      <td>375</td>\n",
       "      <td>3039676.0</td>\n",
       "      <td>3.014820e+09</td>\n",
       "      <td>Stuyvesant Heights                            ...</td>\n",
       "    </tr>\n",
       "    <tr>\n",
       "      <th>1</th>\n",
       "      <td>17K524</td>\n",
       "      <td>International High School at Prospect Heights</td>\n",
       "      <td>K</td>\n",
       "      <td>We are a small school that works in teams to p...</td>\n",
       "      <td>Y</td>\n",
       "      <td>We are a Performance-Based Assessment school, ...</td>\n",
       "      <td>Safe, supportive, and nurturing environment wh...</td>\n",
       "      <td>We are a Computer Science for All school. Thro...</td>\n",
       "      <td>All students are matched to an internship in t...</td>\n",
       "      <td>Afterschool programs include: Peer Tutoring, A...</td>\n",
       "      <td>...</td>\n",
       "      <td>NY</td>\n",
       "      <td>BROOKLYN</td>\n",
       "      <td>40.670349</td>\n",
       "      <td>-73.961695</td>\n",
       "      <td>9</td>\n",
       "      <td>35</td>\n",
       "      <td>213</td>\n",
       "      <td>3029686.0</td>\n",
       "      <td>3.011870e+09</td>\n",
       "      <td>Crown Heights South                           ...</td>\n",
       "    </tr>\n",
       "  </tbody>\n",
       "</table>\n",
       "<p>2 rows × 462 columns</p>\n",
       "</div>"
      ],
      "text/plain": [
       "      dbn                                    school_name boro  \\\n",
       "0  16K498    Brooklyn High School for Law and Technology    K   \n",
       "1  17K524  International High School at Prospect Heights    K   \n",
       "\n",
       "                                  overview_paragraph school_10th_seats  \\\n",
       "0  The mission of Brooklyn High School for Law an...                 Y   \n",
       "1  We are a small school that works in teams to p...                 Y   \n",
       "\n",
       "                              academicopportunities1  \\\n",
       "0  iLearnNYC: Program for expanded online coursew...   \n",
       "1  We are a Performance-Based Assessment school, ...   \n",
       "\n",
       "                              academicopportunities2  \\\n",
       "0  Access to Law and Technology Programs: Youth C...   \n",
       "1  Safe, supportive, and nurturing environment wh...   \n",
       "\n",
       "                              academicopportunities3  \\\n",
       "0  Computer Programming, iCareers, Online courses...   \n",
       "1  We are a Computer Science for All school. Thro...   \n",
       "\n",
       "                              academicopportunities4  \\\n",
       "0  Multicultural Literature, Conflict Resolution/...   \n",
       "1  All students are matched to an internship in t...   \n",
       "\n",
       "                              academicopportunities5  ... state_code  \\\n",
       "0                                                NaN  ...         NY   \n",
       "1  Afterschool programs include: Peer Tutoring, A...  ...         NY   \n",
       "\n",
       "     Borough   Latitude  Longitude Community Board Council District  \\\n",
       "0  BROOKLYN   40.688831 -73.920906               3               41   \n",
       "1  BROOKLYN   40.670349 -73.961695               9               35   \n",
       "\n",
       "  Census Tract        BIN           BBL  \\\n",
       "0          375  3039676.0  3.014820e+09   \n",
       "1          213  3029686.0  3.011870e+09   \n",
       "\n",
       "                                                 NTA  \n",
       "0  Stuyvesant Heights                            ...  \n",
       "1  Crown Heights South                           ...  \n",
       "\n",
       "[2 rows x 462 columns]"
      ]
     },
     "execution_count": 9,
     "metadata": {},
     "output_type": "execute_result"
    }
   ],
   "source": [
    "df_directory[:2]"
   ]
  },
  {
   "cell_type": "markdown",
   "metadata": {},
   "source": [
    "Let's begin by working with our numeric columns with null values.  Return a dataframe with those columns that have some na values, which are not of type object."
   ]
  },
  {
   "cell_type": "code",
   "execution_count": 10,
   "metadata": {},
   "outputs": [],
   "source": [
    "na_vals = None"
   ]
  },
  {
   "cell_type": "code",
   "execution_count": 11,
   "metadata": {},
   "outputs": [],
   "source": [
    "numeric_cols_some_na = None"
   ]
  },
  {
   "cell_type": "code",
   "execution_count": 12,
   "metadata": {},
   "outputs": [
    {
     "data": {
      "text/plain": [
       "Index(['graduation_rate', 'attendance_rate', 'pct_stu_enough_variety',\n",
       "       'college_career_rate', 'pct_stu_safe', 'girls', 'boys', 'pbat',\n",
       "       'international', 'specialized',\n",
       "       ...\n",
       "       'common_audition3', 'common_audition4', 'common_audition5',\n",
       "       'common_audition6', 'common_audition7', 'common_audition8',\n",
       "       'common_audition9', 'common_audition10', 'BIN', 'BBL'],\n",
       "      dtype='object', length=158)"
      ]
     },
     "execution_count": 12,
     "metadata": {},
     "output_type": "execute_result"
    }
   ],
   "source": [
    "numeric_cols_some_na.columns\n",
    "\n",
    "# Index(['graduation_rate', 'attendance_rate', 'pct_stu_enough_variety',\n",
    "#        'college_career_rate', 'pct_stu_safe', 'girls', 'boys', 'pbat',\n",
    "#        'international', 'specialized',\n",
    "#        ...\n",
    "#        'common_audition3', 'common_audition4', 'common_audition5',\n",
    "#        'common_audition6', 'common_audition7', 'common_audition8',\n",
    "#        'common_audition9', 'common_audition10', 'BIN', 'BBL'],\n",
    "#       dtype='object', length=158)"
   ]
  },
  {
   "cell_type": "code",
   "execution_count": 13,
   "metadata": {},
   "outputs": [
    {
     "data": {
      "text/html": [
       "<div>\n",
       "<style scoped>\n",
       "    .dataframe tbody tr th:only-of-type {\n",
       "        vertical-align: middle;\n",
       "    }\n",
       "\n",
       "    .dataframe tbody tr th {\n",
       "        vertical-align: top;\n",
       "    }\n",
       "\n",
       "    .dataframe thead th {\n",
       "        text-align: right;\n",
       "    }\n",
       "</style>\n",
       "<table border=\"1\" class=\"dataframe\">\n",
       "  <thead>\n",
       "    <tr style=\"text-align: right;\">\n",
       "      <th></th>\n",
       "      <th>graduation_rate</th>\n",
       "      <th>attendance_rate</th>\n",
       "      <th>pct_stu_enough_variety</th>\n",
       "      <th>college_career_rate</th>\n",
       "      <th>pct_stu_safe</th>\n",
       "      <th>girls</th>\n",
       "      <th>boys</th>\n",
       "      <th>pbat</th>\n",
       "      <th>international</th>\n",
       "      <th>specialized</th>\n",
       "      <th>...</th>\n",
       "      <th>common_audition3</th>\n",
       "      <th>common_audition4</th>\n",
       "      <th>common_audition5</th>\n",
       "      <th>common_audition6</th>\n",
       "      <th>common_audition7</th>\n",
       "      <th>common_audition8</th>\n",
       "      <th>common_audition9</th>\n",
       "      <th>common_audition10</th>\n",
       "      <th>BIN</th>\n",
       "      <th>BBL</th>\n",
       "    </tr>\n",
       "  </thead>\n",
       "  <tbody>\n",
       "    <tr>\n",
       "      <th>0</th>\n",
       "      <td>0.74</td>\n",
       "      <td>0.85</td>\n",
       "      <td>0.58</td>\n",
       "      <td>0.49</td>\n",
       "      <td>0.74</td>\n",
       "      <td>NaN</td>\n",
       "      <td>NaN</td>\n",
       "      <td>NaN</td>\n",
       "      <td>NaN</td>\n",
       "      <td>NaN</td>\n",
       "      <td>...</td>\n",
       "      <td>NaN</td>\n",
       "      <td>NaN</td>\n",
       "      <td>NaN</td>\n",
       "      <td>NaN</td>\n",
       "      <td>NaN</td>\n",
       "      <td>NaN</td>\n",
       "      <td>NaN</td>\n",
       "      <td>NaN</td>\n",
       "      <td>3039676.0</td>\n",
       "      <td>3.014820e+09</td>\n",
       "    </tr>\n",
       "    <tr>\n",
       "      <th>1</th>\n",
       "      <td>0.63</td>\n",
       "      <td>0.88</td>\n",
       "      <td>0.92</td>\n",
       "      <td>0.53</td>\n",
       "      <td>0.86</td>\n",
       "      <td>NaN</td>\n",
       "      <td>NaN</td>\n",
       "      <td>1.0</td>\n",
       "      <td>1.0</td>\n",
       "      <td>NaN</td>\n",
       "      <td>...</td>\n",
       "      <td>NaN</td>\n",
       "      <td>NaN</td>\n",
       "      <td>NaN</td>\n",
       "      <td>NaN</td>\n",
       "      <td>NaN</td>\n",
       "      <td>NaN</td>\n",
       "      <td>NaN</td>\n",
       "      <td>NaN</td>\n",
       "      <td>3029686.0</td>\n",
       "      <td>3.011870e+09</td>\n",
       "    </tr>\n",
       "  </tbody>\n",
       "</table>\n",
       "<p>2 rows × 158 columns</p>\n",
       "</div>"
      ],
      "text/plain": [
       "   graduation_rate  attendance_rate  pct_stu_enough_variety  \\\n",
       "0             0.74             0.85                    0.58   \n",
       "1             0.63             0.88                    0.92   \n",
       "\n",
       "   college_career_rate  pct_stu_safe  girls  boys  pbat  international  \\\n",
       "0                 0.49          0.74    NaN   NaN   NaN            NaN   \n",
       "1                 0.53          0.86    NaN   NaN   1.0            1.0   \n",
       "\n",
       "   specialized  ...  common_audition3  common_audition4  common_audition5  \\\n",
       "0          NaN  ...               NaN               NaN               NaN   \n",
       "1          NaN  ...               NaN               NaN               NaN   \n",
       "\n",
       "   common_audition6  common_audition7  common_audition8  common_audition9  \\\n",
       "0               NaN               NaN               NaN               NaN   \n",
       "1               NaN               NaN               NaN               NaN   \n",
       "\n",
       "   common_audition10        BIN           BBL  \n",
       "0                NaN  3039676.0  3.014820e+09  \n",
       "1                NaN  3029686.0  3.011870e+09  \n",
       "\n",
       "[2 rows x 158 columns]"
      ]
     },
     "execution_count": 13,
     "metadata": {},
     "output_type": "execute_result"
    }
   ],
   "source": [
    "numeric_cols_some_na[:2]"
   ]
  },
  {
   "cell_type": "markdown",
   "metadata": {},
   "source": [
    "### DataFrame Mapper"
   ]
  },
  {
   "cell_type": "markdown",
   "metadata": {},
   "source": [
    "Let's begin by using the DataFrameMapper to handle missing values in some of the columns identified above.\n",
    "\n",
    "Start by loading the DataFrameMapper from the `sklearn_pandas` library.  "
   ]
  },
  {
   "cell_type": "code",
   "execution_count": 26,
   "metadata": {},
   "outputs": [],
   "source": []
  },
  {
   "cell_type": "markdown",
   "metadata": {},
   "source": [
    "Initialize the mapper and select the `graduation_rate`, `attendance_rate`, and `college_career_rate` rate.  Use the DataFrameMapper to replace the `na` values with the mean, for each of the three columns."
   ]
  },
  {
   "cell_type": "code",
   "execution_count": 28,
   "metadata": {},
   "outputs": [],
   "source": []
  },
  {
   "cell_type": "code",
   "execution_count": 37,
   "metadata": {},
   "outputs": [],
   "source": []
  },
  {
   "cell_type": "markdown",
   "metadata": {},
   "source": [
    "Set up the mapper so that it returns a dataframe."
   ]
  },
  {
   "cell_type": "markdown",
   "metadata": {},
   "source": [
    "Then call the fit_transform method on the `numeric_cols_some_na` dataframe."
   ]
  },
  {
   "cell_type": "code",
   "execution_count": 38,
   "metadata": {},
   "outputs": [
    {
     "data": {
      "text/html": [
       "<div>\n",
       "<style scoped>\n",
       "    .dataframe tbody tr th:only-of-type {\n",
       "        vertical-align: middle;\n",
       "    }\n",
       "\n",
       "    .dataframe tbody tr th {\n",
       "        vertical-align: top;\n",
       "    }\n",
       "\n",
       "    .dataframe thead th {\n",
       "        text-align: right;\n",
       "    }\n",
       "</style>\n",
       "<table border=\"1\" class=\"dataframe\">\n",
       "  <thead>\n",
       "    <tr style=\"text-align: right;\">\n",
       "      <th></th>\n",
       "      <th>graduation_rate</th>\n",
       "      <th>attendance_rate</th>\n",
       "      <th>college_career_rate</th>\n",
       "    </tr>\n",
       "  </thead>\n",
       "  <tbody>\n",
       "    <tr>\n",
       "      <th>0</th>\n",
       "      <td>0.74</td>\n",
       "      <td>0.85</td>\n",
       "      <td>0.49</td>\n",
       "    </tr>\n",
       "    <tr>\n",
       "      <th>1</th>\n",
       "      <td>0.63</td>\n",
       "      <td>0.88</td>\n",
       "      <td>0.53</td>\n",
       "    </tr>\n",
       "  </tbody>\n",
       "</table>\n",
       "</div>"
      ],
      "text/plain": [
       "   graduation_rate  attendance_rate  college_career_rate\n",
       "0             0.74             0.85                 0.49\n",
       "1             0.63             0.88                 0.53"
      ]
     },
     "execution_count": 38,
     "metadata": {},
     "output_type": "execute_result"
    }
   ],
   "source": [
    "imputed_cols = None\n",
    "\n",
    "imputed_cols[:2]\n",
    "\n",
    "# graduation_rate\tattendance_rate\tcollege_career_rate\n",
    "# 0\t0.74\t0.85\t0.49\n",
    "# 1\t0.63\t0.88\t0.53"
   ]
  },
  {
   "cell_type": "markdown",
   "metadata": {},
   "source": [
    "* Adding `is_na` columns"
   ]
  },
  {
   "cell_type": "markdown",
   "metadata": {},
   "source": [
    "Now let's update our mapper to add a `is_na` for each of the selected columns.  Copy the code that created the mapper above, and use the `MissingIndicator` transformer to return three additional `is_na` columns."
   ]
  },
  {
   "cell_type": "code",
   "execution_count": 39,
   "metadata": {},
   "outputs": [],
   "source": [
    "mapper = None"
   ]
  },
  {
   "cell_type": "markdown",
   "metadata": {},
   "source": [
    "Fit and transform the mapper on `numeric_cols_some_na`."
   ]
  },
  {
   "cell_type": "code",
   "execution_count": 41,
   "metadata": {},
   "outputs": [],
   "source": [
    "imputed_cols_with_is_na = None"
   ]
  },
  {
   "cell_type": "code",
   "execution_count": 43,
   "metadata": {},
   "outputs": [
    {
     "data": {
      "text/html": [
       "<div>\n",
       "<style scoped>\n",
       "    .dataframe tbody tr th:only-of-type {\n",
       "        vertical-align: middle;\n",
       "    }\n",
       "\n",
       "    .dataframe tbody tr th {\n",
       "        vertical-align: top;\n",
       "    }\n",
       "\n",
       "    .dataframe thead th {\n",
       "        text-align: right;\n",
       "    }\n",
       "</style>\n",
       "<table border=\"1\" class=\"dataframe\">\n",
       "  <thead>\n",
       "    <tr style=\"text-align: right;\">\n",
       "      <th></th>\n",
       "      <th>graduation_rate</th>\n",
       "      <th>graduation_rate_is_na</th>\n",
       "      <th>attendance_rate</th>\n",
       "      <th>attendance_rate_is_na</th>\n",
       "      <th>college_career_rate</th>\n",
       "      <th>college_career_rate_is_na</th>\n",
       "    </tr>\n",
       "  </thead>\n",
       "  <tbody>\n",
       "    <tr>\n",
       "      <th>0</th>\n",
       "      <td>0.74</td>\n",
       "      <td>False</td>\n",
       "      <td>0.85</td>\n",
       "      <td>False</td>\n",
       "      <td>0.49</td>\n",
       "      <td>False</td>\n",
       "    </tr>\n",
       "    <tr>\n",
       "      <th>1</th>\n",
       "      <td>0.63</td>\n",
       "      <td>False</td>\n",
       "      <td>0.88</td>\n",
       "      <td>False</td>\n",
       "      <td>0.53</td>\n",
       "      <td>False</td>\n",
       "    </tr>\n",
       "    <tr>\n",
       "      <th>2</th>\n",
       "      <td>0.96</td>\n",
       "      <td>False</td>\n",
       "      <td>0.91</td>\n",
       "      <td>False</td>\n",
       "      <td>0.87</td>\n",
       "      <td>False</td>\n",
       "    </tr>\n",
       "  </tbody>\n",
       "</table>\n",
       "</div>"
      ],
      "text/plain": [
       "   graduation_rate  graduation_rate_is_na  attendance_rate  \\\n",
       "0             0.74                  False             0.85   \n",
       "1             0.63                  False             0.88   \n",
       "2             0.96                  False             0.91   \n",
       "\n",
       "   attendance_rate_is_na  college_career_rate  college_career_rate_is_na  \n",
       "0                  False                 0.49                      False  \n",
       "1                  False                 0.53                      False  \n",
       "2                  False                 0.87                      False  "
      ]
     },
     "execution_count": 43,
     "metadata": {},
     "output_type": "execute_result"
    }
   ],
   "source": [
    "imputed_cols_with_is_na[:3]\n",
    "\n",
    "# \tgraduation_rate\tgraduation_rate_is_na\tattendance_rate\tattendance_rate_is_na\tcollege_career_rate\tcollege_career_rate_is_na\n",
    "# 0\t0.74\tFalse\t0.85\tFalse\t0.49\tFalse\n",
    "# 1\t0.63\tFalse\t0.88\tFalse\t0.53\tFalse\n",
    "# 2\t0.96\tFalse\t0.91\tFalse\t0.87\t"
   ]
  },
  {
   "cell_type": "markdown",
   "metadata": {},
   "source": [
    "### Working with Categorical Data"
   ]
  },
  {
   "cell_type": "markdown",
   "metadata": {},
   "source": [
    "Now let's add categorical data to the mix.  We have some categorical data in the boro column.  Let's walk through how to do this.\n",
    "\n",
    "First we can select the borough column."
   ]
  },
  {
   "cell_type": "code",
   "execution_count": 50,
   "metadata": {},
   "outputs": [
    {
     "data": {
      "text/plain": [
       "0    K\n",
       "1    K\n",
       "2    M\n",
       "Name: boro, dtype: object"
      ]
     },
     "execution_count": 50,
     "metadata": {},
     "output_type": "execute_result"
    }
   ],
   "source": [
    "borough = df_directory['boro']\n",
    "borough[:3]"
   ]
  },
  {
   "cell_type": "markdown",
   "metadata": {},
   "source": [
    "And now let's inspect it to see if there is any missing data or data to impute by looking at a count of the different values."
   ]
  },
  {
   "cell_type": "code",
   "execution_count": 51,
   "metadata": {},
   "outputs": [
    {
     "data": {
      "text/plain": [
       "K    119\n",
       "X    110\n",
       "M    107\n",
       "Q     80\n",
       "R     11\n",
       "Name: boro, dtype: int64"
      ]
     },
     "execution_count": 51,
     "metadata": {},
     "output_type": "execute_result"
    }
   ],
   "source": [
    "\n",
    "\n",
    "# K    119\n",
    "# X    110\n",
    "# M    107\n",
    "# Q     80\n",
    "# R     11\n",
    "# Name: boro, dtype: int64"
   ]
  },
  {
   "cell_type": "markdown",
   "metadata": {},
   "source": [
    "Things look good, let's add it to our mapper."
   ]
  },
  {
   "cell_type": "code",
   "execution_count": 58,
   "metadata": {},
   "outputs": [],
   "source": [
    "from sklearn.preprocessing import OneHotEncoder"
   ]
  },
  {
   "cell_type": "code",
   "execution_count": 59,
   "metadata": {},
   "outputs": [],
   "source": [
    "mapper = DataFrameMapper([\n",
    "    # add in the rest of the steps here     \n",
    "    (['boro'], OneHotEncoder())\n",
    "], df_out = True)"
   ]
  },
  {
   "cell_type": "code",
   "execution_count": 64,
   "metadata": {},
   "outputs": [
    {
     "data": {
      "text/html": [
       "<div>\n",
       "<style scoped>\n",
       "    .dataframe tbody tr th:only-of-type {\n",
       "        vertical-align: middle;\n",
       "    }\n",
       "\n",
       "    .dataframe tbody tr th {\n",
       "        vertical-align: top;\n",
       "    }\n",
       "\n",
       "    .dataframe thead th {\n",
       "        text-align: right;\n",
       "    }\n",
       "</style>\n",
       "<table border=\"1\" class=\"dataframe\">\n",
       "  <thead>\n",
       "    <tr style=\"text-align: right;\">\n",
       "      <th></th>\n",
       "      <th>graduation_rate</th>\n",
       "      <th>graduation_rate_is_na</th>\n",
       "      <th>attendance_rate</th>\n",
       "      <th>attendance_rate_is_na</th>\n",
       "      <th>college_career_rate</th>\n",
       "      <th>college_career_rate_is_na</th>\n",
       "      <th>boro_x0_K</th>\n",
       "      <th>boro_x0_M</th>\n",
       "      <th>boro_x0_Q</th>\n",
       "      <th>boro_x0_R</th>\n",
       "      <th>boro_x0_X</th>\n",
       "    </tr>\n",
       "  </thead>\n",
       "  <tbody>\n",
       "    <tr>\n",
       "      <th>0</th>\n",
       "      <td>0.74</td>\n",
       "      <td>False</td>\n",
       "      <td>0.85</td>\n",
       "      <td>False</td>\n",
       "      <td>0.49</td>\n",
       "      <td>False</td>\n",
       "      <td>1.0</td>\n",
       "      <td>0.0</td>\n",
       "      <td>0.0</td>\n",
       "      <td>0.0</td>\n",
       "      <td>0.0</td>\n",
       "    </tr>\n",
       "    <tr>\n",
       "      <th>1</th>\n",
       "      <td>0.63</td>\n",
       "      <td>False</td>\n",
       "      <td>0.88</td>\n",
       "      <td>False</td>\n",
       "      <td>0.53</td>\n",
       "      <td>False</td>\n",
       "      <td>1.0</td>\n",
       "      <td>0.0</td>\n",
       "      <td>0.0</td>\n",
       "      <td>0.0</td>\n",
       "      <td>0.0</td>\n",
       "    </tr>\n",
       "  </tbody>\n",
       "</table>\n",
       "</div>"
      ],
      "text/plain": [
       "   graduation_rate  graduation_rate_is_na  attendance_rate  \\\n",
       "0             0.74                  False             0.85   \n",
       "1             0.63                  False             0.88   \n",
       "\n",
       "   attendance_rate_is_na  college_career_rate  college_career_rate_is_na  \\\n",
       "0                  False                 0.49                      False   \n",
       "1                  False                 0.53                      False   \n",
       "\n",
       "   boro_x0_K  boro_x0_M  boro_x0_Q  boro_x0_R  boro_x0_X  \n",
       "0        1.0        0.0        0.0        0.0        0.0  \n",
       "1        1.0        0.0        0.0        0.0        0.0  "
      ]
     },
     "execution_count": 64,
     "metadata": {},
     "output_type": "execute_result"
    }
   ],
   "source": [
    "trans_cols_one_hot = mapper.fit_transform(df_directory)\n",
    "\n",
    "trans_cols_one_hot[:2]\n",
    "\n",
    "# \tgraduation_rate\tgraduation_rate_is_na\tattendance_rate\tattendance_rate_is_na\tcollege_career_rate\tcollege_career_rate_is_na\tboro_x0_K\tboro_x0_M\tboro_x0_Q\tboro_x0_R\tboro_x0_X\n",
    "# 0\t0.74\tFalse\t0.85\tFalse\t0.49\tFalse\t1.0\t0.0\t0.0\t0.0\t0.0\n",
    "# 1\t0.63\tFalse\t0.88\tFalse\t0.53\tFalse\t1.0\t0.0\t0.0\t0.0\t0.0"
   ]
  },
  {
   "cell_type": "markdown",
   "metadata": {},
   "source": [
    "### Adding untransformed columns"
   ]
  },
  {
   "cell_type": "markdown",
   "metadata": {},
   "source": [
    "Sometimes we may wish to include columns, but we do not need to perform feature engineering.  In this case, we can include the step as normal, but this time add None as the second argument."
   ]
  },
  {
   "cell_type": "code",
   "execution_count": 83,
   "metadata": {},
   "outputs": [],
   "source": [
    "non_objs = df_directory.select_dtypes(exclude = 'object')"
   ]
  },
  {
   "cell_type": "code",
   "execution_count": 87,
   "metadata": {},
   "outputs": [],
   "source": [
    "mapper = DataFrameMapper([\n",
    "    (['boro'], OneHotEncoder()),\n",
    "    (['total_students'], None)\n",
    "], df_out = True)"
   ]
  },
  {
   "cell_type": "code",
   "execution_count": 88,
   "metadata": {},
   "outputs": [
    {
     "data": {
      "text/html": [
       "<div>\n",
       "<style scoped>\n",
       "    .dataframe tbody tr th:only-of-type {\n",
       "        vertical-align: middle;\n",
       "    }\n",
       "\n",
       "    .dataframe tbody tr th {\n",
       "        vertical-align: top;\n",
       "    }\n",
       "\n",
       "    .dataframe thead th {\n",
       "        text-align: right;\n",
       "    }\n",
       "</style>\n",
       "<table border=\"1\" class=\"dataframe\">\n",
       "  <thead>\n",
       "    <tr style=\"text-align: right;\">\n",
       "      <th></th>\n",
       "      <th>boro_x0_K</th>\n",
       "      <th>boro_x0_M</th>\n",
       "      <th>boro_x0_Q</th>\n",
       "      <th>boro_x0_R</th>\n",
       "      <th>boro_x0_X</th>\n",
       "      <th>total_students</th>\n",
       "    </tr>\n",
       "  </thead>\n",
       "  <tbody>\n",
       "    <tr>\n",
       "      <th>0</th>\n",
       "      <td>1.0</td>\n",
       "      <td>0.0</td>\n",
       "      <td>0.0</td>\n",
       "      <td>0.0</td>\n",
       "      <td>0.0</td>\n",
       "      <td>594</td>\n",
       "    </tr>\n",
       "    <tr>\n",
       "      <th>1</th>\n",
       "      <td>1.0</td>\n",
       "      <td>0.0</td>\n",
       "      <td>0.0</td>\n",
       "      <td>0.0</td>\n",
       "      <td>0.0</td>\n",
       "      <td>417</td>\n",
       "    </tr>\n",
       "  </tbody>\n",
       "</table>\n",
       "</div>"
      ],
      "text/plain": [
       "   boro_x0_K  boro_x0_M  boro_x0_Q  boro_x0_R  boro_x0_X  total_students\n",
       "0        1.0        0.0        0.0        0.0        0.0             594\n",
       "1        1.0        0.0        0.0        0.0        0.0             417"
      ]
     },
     "execution_count": 88,
     "metadata": {},
     "output_type": "execute_result"
    }
   ],
   "source": [
    "total_students = mapper.fit_transform(df_directory)\n",
    "total_students[:2]"
   ]
  },
  {
   "cell_type": "markdown",
   "metadata": {},
   "source": [
    "### Summary "
   ]
  },
  {
   "cell_type": "markdown",
   "metadata": {},
   "source": [
    "In this lesson, we practiced working with the `DataFrameMapper` in `sklearn-pandas`.  We saw that with the DataFrameMapper we could specify columns to transform, and return new columns to our dataframe.  We also practiced using some new transformers like the OneHotEncoder and the `MissingIndicator`. "
   ]
  }
 ],
 "metadata": {
  "kernelspec": {
   "display_name": "Python 3",
   "language": "python",
   "name": "python3"
  },
  "language_info": {
   "codemirror_mode": {
    "name": "ipython",
    "version": 3
   },
   "file_extension": ".py",
   "mimetype": "text/x-python",
   "name": "python",
   "nbconvert_exporter": "python",
   "pygments_lexer": "ipython3",
   "version": "3.7.4"
  }
 },
 "nbformat": 4,
 "nbformat_minor": 4
}
