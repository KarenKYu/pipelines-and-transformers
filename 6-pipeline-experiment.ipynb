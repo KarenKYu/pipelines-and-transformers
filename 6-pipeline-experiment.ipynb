{
 "cells": [
  {
   "cell_type": "code",
   "execution_count": null,
   "metadata": {},
   "outputs": [],
   "source": []
  },
  {
   "cell_type": "code",
   "execution_count": 1,
   "metadata": {},
   "outputs": [],
   "source": [
    "import pandas as pd\n",
    "sat_df = pd.read_csv('./nyc_hs_sat.csv', index_col = 0)"
   ]
  },
  {
   "cell_type": "code",
   "execution_count": 5,
   "metadata": {},
   "outputs": [],
   "source": [
    "null_cols_idcs = sat_df.isnull().any(axis = 0).values"
   ]
  },
  {
   "cell_type": "code",
   "execution_count": 13,
   "metadata": {},
   "outputs": [
    {
     "data": {
      "text/plain": [
       "Index(['num_test_takers', 'reading_avg', 'math_avg', 'writing_score',\n",
       "       'graduation_rate', 'college_career_rate'],\n",
       "      dtype='object')"
      ]
     },
     "execution_count": 13,
     "metadata": {},
     "output_type": "execute_result"
    }
   ],
   "source": [
    "null_cols_df = sat_df.iloc[:, null_cols_idcs]\n",
    "null_cols_df.columns"
   ]
  },
  {
   "cell_type": "code",
   "execution_count": 64,
   "metadata": {},
   "outputs": [],
   "source": [
    "from sklearn.pipeline import Pipeline, FeatureUnion\n",
    "from sklearn.impute import MissingIndicator, SimpleImputer\n",
    "from sklearn.compose import ColumnTransformer"
   ]
  },
  {
   "cell_type": "code",
   "execution_count": null,
   "metadata": {},
   "outputs": [],
   "source": []
  },
  {
   "cell_type": "code",
   "execution_count": 20,
   "metadata": {},
   "outputs": [],
   "source": [
    "X_null = null_cols_df[['num_test_takers', 'graduation_rate', 'college_career_rate']]"
   ]
  },
  {
   "cell_type": "code",
   "execution_count": 37,
   "metadata": {},
   "outputs": [],
   "source": [
    "pipe_impute = Pipeline(steps = [\n",
    "    ('imputer', SimpleImputer())\n",
    "])\n",
    "imputed_np = pipe.fit_transform(X_null)\n",
    "imputed_df = pd.DataFrame(imputed_np, columns = X_null.columns)"
   ]
  },
  {
   "cell_type": "code",
   "execution_count": 39,
   "metadata": {},
   "outputs": [],
   "source": [
    "pipe_is_missing = Pipeline(steps = [\n",
    "    ('missing', MissingIndicator())\n",
    "])"
   ]
  },
  {
   "cell_type": "code",
   "execution_count": 60,
   "metadata": {},
   "outputs": [],
   "source": [
    "combined_df = pd.DataFrame(combined_missing_df, columns =['num_test_takers', 'graduation_rate', 'college_career_rate']  + [f'{col}_is_null' for col in X_null.columns])"
   ]
  },
  {
   "cell_type": "markdown",
   "metadata": {},
   "source": [
    "### Naming Columns"
   ]
  },
  {
   "cell_type": "code",
   "execution_count": 113,
   "metadata": {},
   "outputs": [],
   "source": [
    "impute = ColumnTransformer([\n",
    "        (\"numerical\", SimpleImputer(missing_values=np.nan, strategy=\"mean\"), ['num_test_takers'])\n",
    "],\n",
    "remainder = 'passthrough'\n",
    ")"
   ]
  },
  {
   "cell_type": "code",
   "execution_count": 114,
   "metadata": {},
   "outputs": [],
   "source": [
    "import numpy as np\n",
    "pipe_impute = Pipeline(steps = [('impute', impute)])"
   ]
  },
  {
   "cell_type": "code",
   "execution_count": 115,
   "metadata": {},
   "outputs": [
    {
     "data": {
      "text/plain": [
       "array([[29.0, '01M292', 'HENRY STREET SCHOOL FOR INTERNATIONAL STUDIES',\n",
       "        ..., 0.66, 0.87, 0.36],\n",
       "       [91.0, '01M448', 'UNIVERSITY NEIGHBORHOOD HIGH SCHOOL', ..., 0.9,\n",
       "        0.93, 0.7],\n",
       "       [70.0, '01M450', 'EAST SIDE COMMUNITY SCHOOL', ..., 0.92, 0.94,\n",
       "        0.77],\n",
       "       ...,\n",
       "       [67.0, '32K552', 'ACADEMY OF URBAN PLANNING', ..., 0.79, 0.89,\n",
       "        0.34],\n",
       "       [39.0, '32K554', 'ALL CITY LEADERSHIP SECONDARY SCHOOL', ...,\n",
       "        0.97, 0.93, 0.73],\n",
       "       [23.0, '32K556',\n",
       "        'BUSHWICK LEADERS HIGH SCHOOL FOR ACADEMIC EXCELLENCE', ...,\n",
       "        0.73, 0.81, 0.42]], dtype=object)"
      ]
     },
     "execution_count": 115,
     "metadata": {},
     "output_type": "execute_result"
    }
   ],
   "source": [
    "pipe_impute.fit_transform(sat_df)"
   ]
  },
  {
   "cell_type": "code",
   "execution_count": 47,
   "metadata": {},
   "outputs": [],
   "source": [
    "is_missing_np = pipe_is_missing.fit_transform(X_null)"
   ]
  },
  {
   "cell_type": "markdown",
   "metadata": {},
   "source": [
    "### Combining Features"
   ]
  },
  {
   "cell_type": "code",
   "execution_count": 53,
   "metadata": {},
   "outputs": [],
   "source": [
    "union = FeatureUnion([\n",
    "    ('impute', pipe_impute),\n",
    "    ('add_missing', pipe_is_missing)\n",
    "])"
   ]
  },
  {
   "cell_type": "code",
   "execution_count": 58,
   "metadata": {},
   "outputs": [
    {
     "data": {
      "text/plain": [
       "array([[29.  ,  0.66,  0.36,  0.  ,  0.  ,  0.  ],\n",
       "       [91.  ,  0.9 ,  0.7 ,  0.  ,  0.  ,  0.  ]])"
      ]
     },
     "execution_count": 58,
     "metadata": {},
     "output_type": "execute_result"
    }
   ],
   "source": [
    "combined_missing_df = union.fit_transform(X_null)\n",
    "combined_missing_df[:2]"
   ]
  },
  {
   "cell_type": "code",
   "execution_count": 86,
   "metadata": {},
   "outputs": [
    {
     "data": {
      "text/plain": [
       "dbn                    False\n",
       "name                   False\n",
       "num_test_takers         True\n",
       "reading_avg             True\n",
       "math_avg                True\n",
       "writing_score           True\n",
       "boro                   False\n",
       "total_students         False\n",
       "graduation_rate         True\n",
       "attendance_rate        False\n",
       "college_career_rate     True\n",
       "dtype: bool"
      ]
     },
     "execution_count": 86,
     "metadata": {},
     "output_type": "execute_result"
    }
   ],
   "source": [
    "sat_df.isnull().any(axis = 0)"
   ]
  },
  {
   "cell_type": "markdown",
   "metadata": {},
   "source": [
    "### Resources\n",
    "\n",
    "[Column Transformer](https://machinelearningmastery.com/automate-machine-learning-workflows-pipelines-python-scikit-learn/)"
   ]
  },
  {
   "cell_type": "code",
   "execution_count": null,
   "metadata": {},
   "outputs": [],
   "source": []
  }
 ],
 "metadata": {
  "kernelspec": {
   "display_name": "Python 3",
   "language": "python",
   "name": "python3"
  },
  "language_info": {
   "codemirror_mode": {
    "name": "ipython",
    "version": 3
   },
   "file_extension": ".py",
   "mimetype": "text/x-python",
   "name": "python",
   "nbconvert_exporter": "python",
   "pygments_lexer": "ipython3",
   "version": "3.7.4"
  }
 },
 "nbformat": 4,
 "nbformat_minor": 4
}
