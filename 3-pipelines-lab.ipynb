{
 "cells": [
  {
   "cell_type": "markdown",
   "metadata": {},
   "source": [
    "## Working with Pipelines Lab"
   ]
  },
  {
   "cell_type": "markdown",
   "metadata": {},
   "source": [
    "### Introduction"
   ]
  },
  {
   "cell_type": "markdown",
   "metadata": {},
   "source": [
    "In this lesson, we'll practice working with pipelines in sklearn.  Pipelines allow us to store a procedure of changes in a pipeline object.  And just like as we saw with transformers, pipelines store our changes so that we can reapply the same changes to holdout sets and future data."
   ]
  },
  {
   "cell_type": "markdown",
   "metadata": {},
   "source": [
    "### Loading our Data"
   ]
  },
  {
   "cell_type": "code",
   "execution_count": 2,
   "metadata": {},
   "outputs": [],
   "source": [
    "import pandas as pd\n",
    "\n",
    "df_directory = pd.read_csv('./hs_directory.csv')"
   ]
  },
  {
   "cell_type": "code",
   "execution_count": 3,
   "metadata": {},
   "outputs": [],
   "source": [
    "url = 'report-hs.csv'\n",
    "report_hs = pd.read_csv(url)"
   ]
  },
  {
   "cell_type": "code",
   "execution_count": 5,
   "metadata": {},
   "outputs": [
    {
     "data": {
      "text/html": [
       "<div>\n",
       "<style scoped>\n",
       "    .dataframe tbody tr th:only-of-type {\n",
       "        vertical-align: middle;\n",
       "    }\n",
       "\n",
       "    .dataframe tbody tr th {\n",
       "        vertical-align: top;\n",
       "    }\n",
       "\n",
       "    .dataframe thead th {\n",
       "        text-align: right;\n",
       "    }\n",
       "</style>\n",
       "<table border=\"1\" class=\"dataframe\">\n",
       "  <thead>\n",
       "    <tr style=\"text-align: right;\">\n",
       "      <th></th>\n",
       "      <th>DBN</th>\n",
       "      <th>School Name</th>\n",
       "      <th>School Type</th>\n",
       "      <th>Enrollment</th>\n",
       "      <th>Rigorous Instruction Rating</th>\n",
       "      <th>Collaborative Teachers Rating</th>\n",
       "      <th>Supportive Environment Rating</th>\n",
       "      <th>Effective School Leadership Rating</th>\n",
       "      <th>Strong Family-Community Ties Rating</th>\n",
       "      <th>Trust Rating</th>\n",
       "      <th>...</th>\n",
       "      <th>Percent HRA Eligible</th>\n",
       "      <th>Percent Asian</th>\n",
       "      <th>Percent Black</th>\n",
       "      <th>Percent Hispanic</th>\n",
       "      <th>Percent White</th>\n",
       "      <th>Years of principal experience at this school</th>\n",
       "      <th>Percent of teachers with 3 or more years of experience</th>\n",
       "      <th>Student Attendance Rate</th>\n",
       "      <th>Percent of Students Chronically Absent</th>\n",
       "      <th>Teacher Attendance Rate</th>\n",
       "    </tr>\n",
       "  </thead>\n",
       "  <tbody>\n",
       "    <tr>\n",
       "      <th>0</th>\n",
       "      <td>01M292</td>\n",
       "      <td>Orchard Collegiate Academy</td>\n",
       "      <td>High School</td>\n",
       "      <td>140</td>\n",
       "      <td>Meeting Target</td>\n",
       "      <td>Exceeding Target</td>\n",
       "      <td>Meeting Target</td>\n",
       "      <td>Meeting Target</td>\n",
       "      <td>Approaching Target</td>\n",
       "      <td>Exceeding Target</td>\n",
       "      <td>...</td>\n",
       "      <td>0.621</td>\n",
       "      <td>0.150</td>\n",
       "      <td>0.243</td>\n",
       "      <td>0.550</td>\n",
       "      <td>0.050</td>\n",
       "      <td>1.9</td>\n",
       "      <td>0.500</td>\n",
       "      <td>0.867</td>\n",
       "      <td>0.448</td>\n",
       "      <td>0.973</td>\n",
       "    </tr>\n",
       "    <tr>\n",
       "      <th>1</th>\n",
       "      <td>01M448</td>\n",
       "      <td>University Neighborhood High School</td>\n",
       "      <td>High School</td>\n",
       "      <td>392</td>\n",
       "      <td>Meeting Target</td>\n",
       "      <td>Meeting Target</td>\n",
       "      <td>Exceeding Target</td>\n",
       "      <td>Meeting Target</td>\n",
       "      <td>Meeting Target</td>\n",
       "      <td>Exceeding Target</td>\n",
       "      <td>...</td>\n",
       "      <td>0.538</td>\n",
       "      <td>0.301</td>\n",
       "      <td>0.245</td>\n",
       "      <td>0.421</td>\n",
       "      <td>0.028</td>\n",
       "      <td>7.5</td>\n",
       "      <td>0.429</td>\n",
       "      <td>0.925</td>\n",
       "      <td>0.244</td>\n",
       "      <td>0.971</td>\n",
       "    </tr>\n",
       "    <tr>\n",
       "      <th>2</th>\n",
       "      <td>01M450</td>\n",
       "      <td>East Side Community School</td>\n",
       "      <td>High School</td>\n",
       "      <td>393</td>\n",
       "      <td>Exceeding Target</td>\n",
       "      <td>Exceeding Target</td>\n",
       "      <td>Exceeding Target</td>\n",
       "      <td>Exceeding Target</td>\n",
       "      <td>Exceeding Target</td>\n",
       "      <td>Exceeding Target</td>\n",
       "      <td>...</td>\n",
       "      <td>0.405</td>\n",
       "      <td>0.122</td>\n",
       "      <td>0.201</td>\n",
       "      <td>0.547</td>\n",
       "      <td>0.104</td>\n",
       "      <td>15.8</td>\n",
       "      <td>0.780</td>\n",
       "      <td>0.940</td>\n",
       "      <td>0.164</td>\n",
       "      <td>0.990</td>\n",
       "    </tr>\n",
       "  </tbody>\n",
       "</table>\n",
       "<p>3 rows × 46 columns</p>\n",
       "</div>"
      ],
      "text/plain": [
       "      DBN                          School Name  School Type  Enrollment  \\\n",
       "0  01M292           Orchard Collegiate Academy  High School         140   \n",
       "1  01M448  University Neighborhood High School  High School         392   \n",
       "2  01M450           East Side Community School  High School         393   \n",
       "\n",
       "  Rigorous Instruction Rating Collaborative Teachers Rating  \\\n",
       "0              Meeting Target              Exceeding Target   \n",
       "1              Meeting Target                Meeting Target   \n",
       "2            Exceeding Target              Exceeding Target   \n",
       "\n",
       "  Supportive Environment Rating Effective School Leadership Rating  \\\n",
       "0                Meeting Target                     Meeting Target   \n",
       "1              Exceeding Target                     Meeting Target   \n",
       "2              Exceeding Target                   Exceeding Target   \n",
       "\n",
       "  Strong Family-Community Ties Rating      Trust Rating  ...  \\\n",
       "0                  Approaching Target  Exceeding Target  ...   \n",
       "1                      Meeting Target  Exceeding Target  ...   \n",
       "2                    Exceeding Target  Exceeding Target  ...   \n",
       "\n",
       "  Percent HRA Eligible  Percent Asian  Percent Black  Percent Hispanic  \\\n",
       "0                0.621          0.150          0.243             0.550   \n",
       "1                0.538          0.301          0.245             0.421   \n",
       "2                0.405          0.122          0.201             0.547   \n",
       "\n",
       "   Percent White  Years of principal experience at this school  \\\n",
       "0          0.050                                           1.9   \n",
       "1          0.028                                           7.5   \n",
       "2          0.104                                          15.8   \n",
       "\n",
       "   Percent of teachers with 3 or more years of experience  \\\n",
       "0                                              0.500        \n",
       "1                                              0.429        \n",
       "2                                              0.780        \n",
       "\n",
       "  Student Attendance Rate Percent of Students Chronically Absent  \\\n",
       "0                   0.867                                  0.448   \n",
       "1                   0.925                                  0.244   \n",
       "2                   0.940                                  0.164   \n",
       "\n",
       "  Teacher Attendance Rate  \n",
       "0                   0.973  \n",
       "1                   0.971  \n",
       "2                   0.990  \n",
       "\n",
       "[3 rows x 46 columns]"
      ]
     },
     "execution_count": 5,
     "metadata": {},
     "output_type": "execute_result"
    }
   ],
   "source": [
    "report_hs[:3]"
   ]
  },
  {
   "cell_type": "markdown",
   "metadata": {},
   "source": [
    "### Working with Pipelines"
   ]
  },
  {
   "cell_type": "markdown",
   "metadata": {},
   "source": [
    "Let's use pipelines to work with our missing values by applying the SimpleImputer and then apply the StandardScaler in sequence.  Let's first identify the columns with missing values."
   ]
  },
  {
   "cell_type": "markdown",
   "metadata": {},
   "source": [
    "We can do so with the following line of code."
   ]
  },
  {
   "cell_type": "code",
   "execution_count": 9,
   "metadata": {},
   "outputs": [
    {
     "data": {
      "text/plain": [
       "DBN            False\n",
       "School Name    False\n",
       "School Type    False\n",
       "Enrollment     False\n",
       "dtype: bool"
      ]
     },
     "execution_count": 9,
     "metadata": {},
     "output_type": "execute_result"
    }
   ],
   "source": [
    "cols_na = report_hs.isna().any(axis = 0)\n",
    "\n",
    "cols_na[:4]"
   ]
  },
  {
   "cell_type": "markdown",
   "metadata": {},
   "source": [
    "Above we ask each column if there are any nan values."
   ]
  },
  {
   "cell_type": "markdown",
   "metadata": {},
   "source": [
    "We can get a list of indices by then calling values."
   ]
  },
  {
   "cell_type": "code",
   "execution_count": 10,
   "metadata": {},
   "outputs": [
    {
     "data": {
      "text/plain": [
       "array([False, False, False, False,  True,  True,  True,  True,  True,\n",
       "        True,  True,  True,  True,  True,  True,  True,  True,  True,\n",
       "        True,  True,  True,  True,  True,  True,  True,  True,  True,\n",
       "        True, False, False, False, False, False, False, False, False,\n",
       "       False, False, False, False, False,  True,  True,  True,  True,\n",
       "        True])"
      ]
     },
     "execution_count": 10,
     "metadata": {},
     "output_type": "execute_result"
    }
   ],
   "source": [
    "cols_na.values"
   ]
  },
  {
   "cell_type": "markdown",
   "metadata": {},
   "source": [
    "Next use the `iloc` method, combined with boolean indexing to select the columns with `nan` values."
   ]
  },
  {
   "cell_type": "code",
   "execution_count": 12,
   "metadata": {},
   "outputs": [],
   "source": [
    "na_vals_df = report_hs.iloc[:, cols_na.values]"
   ]
  },
  {
   "cell_type": "markdown",
   "metadata": {},
   "source": [
    "Further reduce the dataframe by excluding any columns of type object."
   ]
  },
  {
   "cell_type": "code",
   "execution_count": 16,
   "metadata": {},
   "outputs": [],
   "source": [
    "num_cols_with_na = na_vals_df.select_dtypes(exclude = 'object')"
   ]
  },
  {
   "cell_type": "code",
   "execution_count": 17,
   "metadata": {},
   "outputs": [
    {
     "data": {
      "text/plain": [
       "Index(['Rigorous Instruction - Percent Positive',\n",
       "       'Collaborative Teachers - Percent Positive',\n",
       "       'Supportive Environment - Percent Positive',\n",
       "       'Effective School Leadership - Percent Positive',\n",
       "       'Strong Family-Community Ties - Percent Positive',\n",
       "       'Trust - Percent Positive',\n",
       "       'Years of principal experience at this school',\n",
       "       'Percent of teachers with 3 or more years of experience',\n",
       "       'Student Attendance Rate', 'Percent of Students Chronically Absent',\n",
       "       'Teacher Attendance Rate'],\n",
       "      dtype='object')"
      ]
     },
     "execution_count": 17,
     "metadata": {},
     "output_type": "execute_result"
    }
   ],
   "source": [
    "num_cols_with_na.columns\n",
    "\n",
    "# Index(['Rigorous Instruction - Percent Positive',\n",
    "#        'Collaborative Teachers - Percent Positive',\n",
    "#        'Supportive Environment - Percent Positive',\n",
    "#        'Effective School Leadership - Percent Positive',\n",
    "#        'Strong Family-Community Ties - Percent Positive',\n",
    "#        'Trust - Percent Positive',\n",
    "#        'Years of principal experience at this school',\n",
    "#        'Percent of teachers with 3 or more years of experience',\n",
    "#        'Student Attendance Rate', 'Percent of Students Chronically Absent',\n",
    "#        'Teacher Attendance Rate'],\n",
    "#       dtype='object'"
   ]
  },
  {
   "cell_type": "markdown",
   "metadata": {},
   "source": [
    "### Using our Pipeline"
   ]
  },
  {
   "cell_type": "markdown",
   "metadata": {},
   "source": [
    "Let's begin by loading our `Pipeline` class from sklearn."
   ]
  },
  {
   "cell_type": "code",
   "execution_count": 6,
   "metadata": {},
   "outputs": [],
   "source": [
    "from sklearn.pipeline import Pipeline"
   ]
  },
  {
   "cell_type": "markdown",
   "metadata": {},
   "source": [
    "Next initialize a pipeline with the steps of replacing missing values with the mean, and then scaling the data.  Name the steps `impute` and `scale`."
   ]
  },
  {
   "cell_type": "code",
   "execution_count": 19,
   "metadata": {},
   "outputs": [],
   "source": [
    "from sklearn.impute import SimpleImputer\n",
    "from sklearn.preprocessing import StandardScaler\n",
    "\n",
    "na_numeric_pipeline = Pipeline(steps = [\n",
    " ('impute', SimpleImputer()),\n",
    " ('scale', StandardScaler())   \n",
    "])"
   ]
  },
  {
   "cell_type": "markdown",
   "metadata": {},
   "source": [
    "We can check that we have initialized the pipeline correcly with the `named_steps_` method.  Call the method on our pipeline below."
   ]
  },
  {
   "cell_type": "code",
   "execution_count": 22,
   "metadata": {},
   "outputs": [
    {
     "data": {
      "text/plain": [
       "{'impute': SimpleImputer(add_indicator=False, copy=True, fill_value=None,\n",
       "               missing_values=nan, strategy='mean', verbose=0),\n",
       " 'scale': StandardScaler(copy=True, with_mean=True, with_std=True)}"
      ]
     },
     "execution_count": 22,
     "metadata": {},
     "output_type": "execute_result"
    }
   ],
   "source": [
    "na_numeric_pipeline.named_steps\n",
    "\n",
    "# {'impute': SimpleImputer(add_indicator=False, copy=True, fill_value=None,\n",
    "#                missing_values=nan, strategy='mean', verbose=0),\n",
    "#  'scale': StandardScaler(copy=True, with_mean=True, with_std=True)}"
   ]
  },
  {
   "cell_type": "markdown",
   "metadata": {},
   "source": [
    "### Fitting and Transforming the Data"
   ]
  },
  {
   "cell_type": "markdown",
   "metadata": {},
   "source": [
    "Now that we have defined our pipeline, let's use it to fit and transform our `num_cols_with_na` data.  First we'll split the data."
   ]
  },
  {
   "cell_type": "code",
   "execution_count": 29,
   "metadata": {},
   "outputs": [],
   "source": [
    "from sklearn.model_selection import train_test_split\n",
    "na_features_train, na_features_test = train_test_split(num_cols_with_na)"
   ]
  },
  {
   "cell_type": "markdown",
   "metadata": {},
   "source": [
    "Then fit the pipeline to the `na_features_train` data."
   ]
  },
  {
   "cell_type": "code",
   "execution_count": 30,
   "metadata": {},
   "outputs": [
    {
     "data": {
      "text/plain": [
       "Pipeline(memory=None,\n",
       "         steps=[('impute',\n",
       "                 SimpleImputer(add_indicator=False, copy=True, fill_value=None,\n",
       "                               missing_values=nan, strategy='mean',\n",
       "                               verbose=0)),\n",
       "                ('scale',\n",
       "                 StandardScaler(copy=True, with_mean=True, with_std=True))],\n",
       "         verbose=False)"
      ]
     },
     "execution_count": 30,
     "metadata": {},
     "output_type": "execute_result"
    }
   ],
   "source": [
    "na_numeric_pipeline.fit(na_features_train)\n",
    "\n",
    "# Pipeline(memory=None,\n",
    "#          steps=[('impute',\n",
    "#                  SimpleImputer(add_indicator=False, copy=True, fill_value=None,\n",
    "#                                missing_values=nan, strategy='mean',\n",
    "#                                verbose=0)),\n",
    "#                 ('scale',\n",
    "#                  StandardScaler(copy=True, with_mean=True, with_std=True))],\n",
    "#          verbose=False)"
   ]
  },
  {
   "cell_type": "markdown",
   "metadata": {},
   "source": [
    "We can see what our pipeline learned, by accessing each of the transformers.  We can access the transformers through the dictionary returned from the `named_steps` method.  Let's see how."
   ]
  },
  {
   "cell_type": "code",
   "execution_count": 35,
   "metadata": {},
   "outputs": [
    {
     "data": {
      "text/plain": [
       "{'impute': SimpleImputer(add_indicator=False, copy=True, fill_value=None,\n",
       "               missing_values=nan, strategy='mean', verbose=0),\n",
       " 'scale': StandardScaler(copy=True, with_mean=True, with_std=True)}"
      ]
     },
     "execution_count": 35,
     "metadata": {},
     "output_type": "execute_result"
    }
   ],
   "source": [
    "na_numeric_pipeline.named_steps\n",
    "# {'impute': SimpleImputer(add_indicator=False, copy=True, fill_value=None,\n",
    "#                missing_values=nan, strategy='mean', verbose=0),\n",
    "#  'scale': StandardScaler(copy=True, with_mean=True, with_std=True)}"
   ]
  },
  {
   "cell_type": "markdown",
   "metadata": {},
   "source": [
    "Now let's take a look at the scaler, which is stored in our dictionary."
   ]
  },
  {
   "cell_type": "code",
   "execution_count": 36,
   "metadata": {},
   "outputs": [
    {
     "data": {
      "text/plain": [
       "StandardScaler(copy=True, with_mean=True, with_std=True)"
      ]
     },
     "execution_count": 36,
     "metadata": {},
     "output_type": "execute_result"
    }
   ],
   "source": [
    "na_numeric_pipeline.named_steps['scale']"
   ]
  },
  {
   "cell_type": "code",
   "execution_count": 38,
   "metadata": {},
   "outputs": [
    {
     "data": {
      "text/plain": [
       "array([4.32787316e-03, 8.76807832e-03, 5.54019147e-03, 9.32202791e-03,\n",
       "       2.75535972e-03, 3.38247340e-03, 1.65037704e+01, 1.74994337e-02,\n",
       "       3.14591934e-03, 2.69238058e-02, 8.63467424e-05])"
      ]
     },
     "execution_count": 38,
     "metadata": {},
     "output_type": "execute_result"
    }
   ],
   "source": [
    "na_numeric_pipeline.named_steps['scale'].var_"
   ]
  },
  {
   "cell_type": "markdown",
   "metadata": {},
   "source": [
    "So we can see all of the variance values learned for each of the columns."
   ]
  },
  {
   "cell_type": "markdown",
   "metadata": {},
   "source": [
    "* Now it's your turn"
   ]
  },
  {
   "cell_type": "markdown",
   "metadata": {},
   "source": [
    "Access the `SimpleImputer` in our `na_numeric_pipeline` and return the means that it used for imputing data in the columns.\n",
    "\n",
    "> Hint: this is stored on the SimpleImputer's `statistics_` method."
   ]
  },
  {
   "cell_type": "code",
   "execution_count": 47,
   "metadata": {},
   "outputs": [
    {
     "data": {
      "text/plain": [
       "array([0.78698895, 0.81748619, 0.71055249, 0.84707182, 0.8401105 ,\n",
       "       0.87041436, 5.85867508, 0.74013249, 0.8744349 , 0.35726039,\n",
       "       0.96608202])"
      ]
     },
     "execution_count": 47,
     "metadata": {},
     "output_type": "execute_result"
    }
   ],
   "source": [
    "imputed_means = na_numeric_pipeline.named_steps['impute'].statistics_\n",
    "imputed_means\n",
    "\n",
    "# array([0.78698895, 0.81748619, 0.71055249, 0.84707182, 0.8401105 ,\n",
    "#        0.87041436, 5.85867508, 0.74013249, 0.8744349 , 0.35726039,\n",
    "#        0.96608202])\n"
   ]
  },
  {
   "cell_type": "markdown",
   "metadata": {},
   "source": [
    "### Transforming the data"
   ]
  },
  {
   "cell_type": "markdown",
   "metadata": {},
   "source": [
    "Now that our pipeline has been fitted to the data, we can then use the parameters learned from the pipeline to transform our training and test data."
   ]
  },
  {
   "cell_type": "markdown",
   "metadata": {},
   "source": [
    "> Use the pipeline to transform both the `na_features_train` and the `na_features_test` data."
   ]
  },
  {
   "cell_type": "code",
   "execution_count": 51,
   "metadata": {},
   "outputs": [
    {
     "data": {
      "text/plain": [
       "array([[ 0.00000000e+00,  0.00000000e+00,  1.49158444e-15,\n",
       "         0.00000000e+00,  0.00000000e+00,  1.90894332e-15,\n",
       "        -2.18629434e-16,  0.00000000e+00, -1.97941309e-15,\n",
       "         0.00000000e+00,  1.19477809e-14],\n",
       "       [-4.10250134e-01, -4.00330858e-01, -5.44822579e-01,\n",
       "        -3.83962443e-01,  5.69415831e-01, -1.03877866e+00,\n",
       "        -2.18629434e-16,  0.00000000e+00, -8.45715374e-01,\n",
       "         1.46716626e+00,  1.19477809e-14]])"
      ]
     },
     "execution_count": 51,
     "metadata": {},
     "output_type": "execute_result"
    }
   ],
   "source": [
    "transformed_na_features_train = na_numeric_pipeline.transform(na_features_train)\n",
    "\n",
    "transformed_na_features_train[:2]\n",
    "\n",
    "# array([[ 0.00000000e+00,  0.00000000e+00,  1.49158444e-15,\n",
    "#          0.00000000e+00,  0.00000000e+00,  1.90894332e-15,\n",
    "#         -2.18629434e-16,  0.00000000e+00, -1.97941309e-15,\n",
    "#          0.00000000e+00,  1.19477809e-14],\n",
    "#        [-4.10250134e-01, -4.00330858e-01, -5.44822579e-01,\n",
    "#         -3.83962443e-01,  5.69415831e-01, -1.03877866e+00,\n",
    "#         -2.18629434e-16,  0.00000000e+00, -8.45715374e-01,\n",
    "#          1.46716626e+00,  1.19477809e-14]])"
   ]
  },
  {
   "cell_type": "code",
   "execution_count": 32,
   "metadata": {},
   "outputs": [],
   "source": [
    "transformed_na_features_test = na_numeric_pipeline.transform(na_features_test)"
   ]
  },
  {
   "cell_type": "code",
   "execution_count": 50,
   "metadata": {},
   "outputs": [
    {
     "data": {
      "text/plain": [
       "array([[ 0.04576997,  0.98799414, -0.81352254,  0.96248112,  1.33144367,\n",
       "        -0.00712468,  1.01940725, -0.39409097,  0.61626001, -0.91574864,\n",
       "        -0.00882655],\n",
       "       [ 0.65379678,  1.09478837,  0.26127731,  0.75533595, -0.76413289,\n",
       "         0.33675998,  0.25632719, -0.55283862, -0.27518839,  0.37017219,\n",
       "        -0.00882655]])"
      ]
     },
     "execution_count": 50,
     "metadata": {},
     "output_type": "execute_result"
    }
   ],
   "source": [
    "transformed_na_features_test[:2]\n",
    "\n",
    "# array([[ 0.04576997,  0.98799414, -0.81352254,  0.96248112,  1.33144367,\n",
    "#         -0.00712468,  1.01940725, -0.39409097,  0.61626001, -0.91574864,\n",
    "#         -0.00882655],\n",
    "#        [ 0.65379678,  1.09478837,  0.26127731,  0.75533595, -0.76413289,\n",
    "#          0.33675998,  0.25632719, -0.55283862, -0.27518839,  0.37017219,\n",
    "#         -0.00882655]])"
   ]
  },
  {
   "cell_type": "markdown",
   "metadata": {},
   "source": [
    "### Summary"
   ]
  },
  {
   "cell_type": "markdown",
   "metadata": {},
   "source": [
    "In this lesson, we practiced using pipelines to fit to, and then transform our data.  We created a pipeline by initializing our pipeline with a list of steps."
   ]
  },
  {
   "cell_type": "markdown",
   "metadata": {},
   "source": [
    "```python\n",
    "na_numeric_pipeline = Pipeline(steps = [\n",
    " ('impute', SimpleImputer()),\n",
    " ('scale', StandardScaler())   \n",
    "])\n",
    "```"
   ]
  },
  {
   "cell_type": "markdown",
   "metadata": {},
   "source": [
    "Once initialized, we can then call fit, to learn the parameters of the pipeline, and then transform to apply the changes to a specified dataset."
   ]
  },
  {
   "cell_type": "markdown",
   "metadata": {},
   "source": [
    "```python\n",
    "na_numeric_pipeline.fit(na_features_train)\n",
    "transformed_na_features_test = na_numeric_pipeline.transform(na_features_test)\n",
    "```"
   ]
  },
  {
   "cell_type": "code",
   "execution_count": null,
   "metadata": {},
   "outputs": [],
   "source": []
  }
 ],
 "metadata": {
  "kernelspec": {
   "display_name": "Python 3",
   "language": "python",
   "name": "python3"
  },
  "language_info": {
   "codemirror_mode": {
    "name": "ipython",
    "version": 3
   },
   "file_extension": ".py",
   "mimetype": "text/x-python",
   "name": "python",
   "nbconvert_exporter": "python",
   "pygments_lexer": "ipython3",
   "version": "3.7.4"
  }
 },
 "nbformat": 4,
 "nbformat_minor": 4
}
