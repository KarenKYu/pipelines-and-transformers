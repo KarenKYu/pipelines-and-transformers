{
 "cells": [
  {
   "cell_type": "markdown",
   "metadata": {},
   "source": [
    "# Module 2 Project Resources\n",
    "\n",
    "1. Finding Ideas\n",
    "\n",
    "    * Data Journalism \n",
    "        * Urban Institute\n",
    "        * Propublica\n",
    "        * 538\n",
    "        * NYTimes Upshot\n",
    "        * pudding.cool\n",
    "    * Reddit \n",
    "        * Datasets\n",
    "    * Kaggle \n",
    "        * Kernels\n",
    "    * [Stanford Projects](http://cs229.stanford.edu/projects.html)\n",
    "    * Google data     "
   ]
  },
  {
   "cell_type": "markdown",
   "metadata": {},
   "source": [
    "2. Evaluating Ideas\n",
    "    * How can this project have an impact?\n",
    "    * Who can the project be used by?\n",
    "    * How comprehensive is the data?  \n",
    "    \n",
    "3. Taking first steps\n",
    "    * What are similar projects you can reference?\n",
    "    * Who are some individuals you can reach out to?\n",
    "    * If you only had a day to complete the project - what is the most important question you could answer?"
   ]
  },
  {
   "cell_type": "code",
   "execution_count": null,
   "metadata": {},
   "outputs": [],
   "source": []
  }
 ],
 "metadata": {
  "kernelspec": {
   "display_name": "Python 3",
   "language": "python",
   "name": "python3"
  },
  "language_info": {
   "codemirror_mode": {
    "name": "ipython",
    "version": 3
   },
   "file_extension": ".py",
   "mimetype": "text/x-python",
   "name": "python",
   "nbconvert_exporter": "python",
   "pygments_lexer": "ipython3",
   "version": "3.7.4"
  }
 },
 "nbformat": 4,
 "nbformat_minor": 4
}
