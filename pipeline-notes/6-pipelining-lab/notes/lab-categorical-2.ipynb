{
 "cells": [
  {
   "cell_type": "markdown",
   "metadata": {},
   "source": [
    "# Categorical Data Lab"
   ]
  },
  {
   "cell_type": "markdown",
   "metadata": {},
   "source": [
    "### Introduction"
   ]
  },
  {
   "cell_type": "markdown",
   "metadata": {},
   "source": [
    "### Loading our Data"
   ]
  },
  {
   "cell_type": "code",
   "execution_count": 2,
   "metadata": {},
   "outputs": [],
   "source": [
    "import pandas as pd \n",
    "url = \"https://raw.githubusercontent.com/jigsawlabs-student/feature-engineering/master/8-categorical-variables-lab/imdb_movies.csv\"\n",
    "movies_df = pd.read_csv(url)"
   ]
  },
  {
   "cell_type": "code",
   "execution_count": 3,
   "metadata": {},
   "outputs": [
    {
     "data": {
      "text/html": [
       "<div>\n",
       "<style scoped>\n",
       "    .dataframe tbody tr th:only-of-type {\n",
       "        vertical-align: middle;\n",
       "    }\n",
       "\n",
       "    .dataframe tbody tr th {\n",
       "        vertical-align: top;\n",
       "    }\n",
       "\n",
       "    .dataframe thead th {\n",
       "        text-align: right;\n",
       "    }\n",
       "</style>\n",
       "<table border=\"1\" class=\"dataframe\">\n",
       "  <thead>\n",
       "    <tr style=\"text-align: right;\">\n",
       "      <th></th>\n",
       "      <th>title</th>\n",
       "      <th>genre</th>\n",
       "      <th>budget</th>\n",
       "      <th>runtime</th>\n",
       "      <th>year</th>\n",
       "      <th>month</th>\n",
       "      <th>revenue</th>\n",
       "    </tr>\n",
       "  </thead>\n",
       "  <tbody>\n",
       "    <tr>\n",
       "      <th>0</th>\n",
       "      <td>Avatar</td>\n",
       "      <td>Action</td>\n",
       "      <td>237000000</td>\n",
       "      <td>162.0</td>\n",
       "      <td>2009</td>\n",
       "      <td>12</td>\n",
       "      <td>2787965087</td>\n",
       "    </tr>\n",
       "    <tr>\n",
       "      <th>1</th>\n",
       "      <td>Pirates of the Caribbean: At World's End</td>\n",
       "      <td>Adventure</td>\n",
       "      <td>300000000</td>\n",
       "      <td>169.0</td>\n",
       "      <td>2007</td>\n",
       "      <td>5</td>\n",
       "      <td>961000000</td>\n",
       "    </tr>\n",
       "    <tr>\n",
       "      <th>2</th>\n",
       "      <td>Spectre</td>\n",
       "      <td>Action</td>\n",
       "      <td>245000000</td>\n",
       "      <td>148.0</td>\n",
       "      <td>2015</td>\n",
       "      <td>10</td>\n",
       "      <td>880674609</td>\n",
       "    </tr>\n",
       "  </tbody>\n",
       "</table>\n",
       "</div>"
      ],
      "text/plain": [
       "                                      title      genre     budget  runtime  \\\n",
       "0                                    Avatar     Action  237000000    162.0   \n",
       "1  Pirates of the Caribbean: At World's End  Adventure  300000000    169.0   \n",
       "2                                   Spectre     Action  245000000    148.0   \n",
       "\n",
       "   year  month     revenue  \n",
       "0  2009     12  2787965087  \n",
       "1  2007      5   961000000  \n",
       "2  2015     10   880674609  "
      ]
     },
     "execution_count": 3,
     "metadata": {},
     "output_type": "execute_result"
    }
   ],
   "source": [
    "movies_df[:3]"
   ]
  },
  {
   "cell_type": "markdown",
   "metadata": {},
   "source": [
    "### 1. Is the data in the correct format?"
   ]
  },
  {
   "cell_type": "markdown",
   "metadata": {},
   "source": [
    "Let's start by looking at an overview of the data with the `info` method."
   ]
  },
  {
   "cell_type": "code",
   "execution_count": 4,
   "metadata": {},
   "outputs": [
    {
     "name": "stdout",
     "output_type": "stream",
     "text": [
      "<class 'pandas.core.frame.DataFrame'>\n",
      "RangeIndex: 2000 entries, 0 to 1999\n",
      "Data columns (total 7 columns):\n",
      "title      2000 non-null object\n",
      "genre      1916 non-null object\n",
      "budget     2000 non-null int64\n",
      "runtime    2000 non-null float64\n",
      "year       2000 non-null int64\n",
      "month      2000 non-null int64\n",
      "revenue    2000 non-null int64\n",
      "dtypes: float64(1), int64(4), object(2)\n",
      "memory usage: 109.5+ KB\n"
     ]
    }
   ],
   "source": [
    "\n",
    "\n",
    "# <class 'pandas.core.frame.DataFrame'>\n",
    "# RangeIndex: 2000 entries, 0 to 1999\n",
    "# Data columns (total 7 columns):\n",
    "# title      2000 non-null object\n",
    "# genre      1916 non-null object\n",
    "# budget     2000 non-null int64\n",
    "# runtime    2000 non-null float64\n",
    "# year       2000 non-null int64\n",
    "# month      2000 non-null int64\n",
    "# revenue    2000 non-null int64\n",
    "# dtypes: float64(1), int64(4), object(2)\n",
    "# memory usage: 109.5+ KB"
   ]
  },
  {
   "cell_type": "markdown",
   "metadata": {},
   "source": [
    "Ok, so it seems like almost all of our data is in the correct format.  The only thing to eventually coerce is the `genre` column which we'll eventually make categorical.\n",
    "\n",
    "### 2. Do we have null values?\n",
    "\n",
    "The only column that has a null values is the genre column.  Let's take a look at some of the movies that have null genres to see if there are any patterns."
   ]
  },
  {
   "cell_type": "code",
   "execution_count": 5,
   "metadata": {},
   "outputs": [
    {
     "data": {
      "text/plain": [
       "['Alice in Wonderland',\n",
       " 'The Jungle Book',\n",
       " 'Wreck-It Ralph',\n",
       " 'Pearl Harbor',\n",
       " 'Alexander',\n",
       " 'Madagascar: Escape 2 Africa',\n",
       " 'Bee Movie',\n",
       " 'The Revenant',\n",
       " 'Penguins of Madagascar',\n",
       " 'How the Grinch Stole Christmas',\n",
       " 'Stuart Little 2',\n",
       " 'Public Enemies',\n",
       " 'Where the Wild Things Are',\n",
       " 'Green Zone',\n",
       " 'The Alamo',\n",
       " 'Enemy at the Gates',\n",
       " 'Scooby-Doo',\n",
       " 'Eagle Eye',\n",
       " 'Fury',\n",
       " 'Spirit: Stallion of the Cimarron']"
      ]
     },
     "execution_count": 5,
     "metadata": {},
     "output_type": "execute_result"
    }
   ],
   "source": [
    "movies_df[movies_df['genre'].isna()]['title'].tolist()[:20]"
   ]
  },
  {
   "cell_type": "markdown",
   "metadata": {},
   "source": [
    "It looks like there are a number of kids movies, and some action movies.  Later on, we could fill in these values, but for now, replace our na with the string `NA`.\n",
    "\n",
    "> Notice that this is different than how we have handled non-categorical values, we'll explain what we're up to here, later."
   ]
  },
  {
   "cell_type": "code",
   "execution_count": 6,
   "metadata": {},
   "outputs": [],
   "source": [
    "import numpy as np\n",
    "# do so here\n"
   ]
  },
  {
   "cell_type": "code",
   "execution_count": 7,
   "metadata": {},
   "outputs": [
    {
     "data": {
      "text/plain": [
       "84"
      ]
     },
     "execution_count": 7,
     "metadata": {},
     "output_type": "execute_result"
    }
   ],
   "source": [
    "(movies_df['genre'] == 'NA').sum()\n",
    "# 84"
   ]
  },
  {
   "cell_type": "markdown",
   "metadata": {},
   "source": [
    "### 3. Do we have missing values we can replace?"
   ]
  },
  {
   "cell_type": "markdown",
   "metadata": {},
   "source": [
    "Ok, next let's see if some of the other values have some hidden missing values.  Every other column (except title) is numeric, so the easiest check is to plot a histogram of the remaining features: `'budget', 'runtime', 'year', 'month', 'revenue'`."
   ]
  },
  {
   "cell_type": "code",
   "execution_count": 1,
   "metadata": {},
   "outputs": [],
   "source": [
    "# plot histograms of those columns here"
   ]
  },
  {
   "cell_type": "markdown",
   "metadata": {},
   "source": [
    "<img src=\"./hist-features.png\" width=\"60%\">"
   ]
  },
  {
   "cell_type": "markdown",
   "metadata": {},
   "source": [
    "Ok, while our data certainly does not look like a random sample (take a look at the year column), there also does not appear to be anomalies indicating a missing value.  Let's double check this, by describing these five columns to look for any outliers via the max or min."
   ]
  },
  {
   "cell_type": "code",
   "execution_count": 20,
   "metadata": {},
   "outputs": [
    {
     "data": {
      "text/html": [
       "<div>\n",
       "<style scoped>\n",
       "    .dataframe tbody tr th:only-of-type {\n",
       "        vertical-align: middle;\n",
       "    }\n",
       "\n",
       "    .dataframe tbody tr th {\n",
       "        vertical-align: top;\n",
       "    }\n",
       "\n",
       "    .dataframe thead th {\n",
       "        text-align: right;\n",
       "    }\n",
       "</style>\n",
       "<table border=\"1\" class=\"dataframe\">\n",
       "  <thead>\n",
       "    <tr style=\"text-align: right;\">\n",
       "      <th></th>\n",
       "      <th>budget</th>\n",
       "      <th>runtime</th>\n",
       "      <th>year</th>\n",
       "      <th>month</th>\n",
       "      <th>revenue</th>\n",
       "    </tr>\n",
       "  </thead>\n",
       "  <tbody>\n",
       "    <tr>\n",
       "      <th>count</th>\n",
       "      <td>2.000000e+03</td>\n",
       "      <td>2000.000000</td>\n",
       "      <td>2000.00000</td>\n",
       "      <td>2000.000000</td>\n",
       "      <td>2.000000e+03</td>\n",
       "    </tr>\n",
       "    <tr>\n",
       "      <th>mean</th>\n",
       "      <td>6.043686e+07</td>\n",
       "      <td>113.267500</td>\n",
       "      <td>2004.42650</td>\n",
       "      <td>7.044000</td>\n",
       "      <td>1.643506e+08</td>\n",
       "    </tr>\n",
       "    <tr>\n",
       "      <th>std</th>\n",
       "      <td>4.692045e+07</td>\n",
       "      <td>21.073728</td>\n",
       "      <td>7.95319</td>\n",
       "      <td>3.398947</td>\n",
       "      <td>2.186816e+08</td>\n",
       "    </tr>\n",
       "    <tr>\n",
       "      <th>min</th>\n",
       "      <td>0.000000e+00</td>\n",
       "      <td>0.000000</td>\n",
       "      <td>1940.00000</td>\n",
       "      <td>1.000000</td>\n",
       "      <td>0.000000e+00</td>\n",
       "    </tr>\n",
       "    <tr>\n",
       "      <th>25%</th>\n",
       "      <td>3.000000e+07</td>\n",
       "      <td>98.000000</td>\n",
       "      <td>2000.00000</td>\n",
       "      <td>4.000000</td>\n",
       "      <td>3.103408e+07</td>\n",
       "    </tr>\n",
       "    <tr>\n",
       "      <th>50%</th>\n",
       "      <td>4.800000e+07</td>\n",
       "      <td>110.000000</td>\n",
       "      <td>2005.00000</td>\n",
       "      <td>7.000000</td>\n",
       "      <td>9.400000e+07</td>\n",
       "    </tr>\n",
       "    <tr>\n",
       "      <th>75%</th>\n",
       "      <td>7.500000e+07</td>\n",
       "      <td>125.000000</td>\n",
       "      <td>2011.00000</td>\n",
       "      <td>10.000000</td>\n",
       "      <td>2.026695e+08</td>\n",
       "    </tr>\n",
       "    <tr>\n",
       "      <th>max</th>\n",
       "      <td>3.800000e+08</td>\n",
       "      <td>254.000000</td>\n",
       "      <td>2016.00000</td>\n",
       "      <td>12.000000</td>\n",
       "      <td>2.787965e+09</td>\n",
       "    </tr>\n",
       "  </tbody>\n",
       "</table>\n",
       "</div>"
      ],
      "text/plain": [
       "             budget      runtime        year        month       revenue\n",
       "count  2.000000e+03  2000.000000  2000.00000  2000.000000  2.000000e+03\n",
       "mean   6.043686e+07   113.267500  2004.42650     7.044000  1.643506e+08\n",
       "std    4.692045e+07    21.073728     7.95319     3.398947  2.186816e+08\n",
       "min    0.000000e+00     0.000000  1940.00000     1.000000  0.000000e+00\n",
       "25%    3.000000e+07    98.000000  2000.00000     4.000000  3.103408e+07\n",
       "50%    4.800000e+07   110.000000  2005.00000     7.000000  9.400000e+07\n",
       "75%    7.500000e+07   125.000000  2011.00000    10.000000  2.026695e+08\n",
       "max    3.800000e+08   254.000000  2016.00000    12.000000  2.787965e+09"
      ]
     },
     "execution_count": 20,
     "metadata": {},
     "output_type": "execute_result"
    }
   ],
   "source": [
    "\n",
    "\n",
    "# \tbudget\truntime\tyear\tmonth\trevenue\n",
    "# count\t2.000000e+03\t2000.000000\t2000.00000\t2000.000000\t2.000000e+03\n",
    "# mean\t6.043686e+07\t113.267500\t2004.42650\t7.044000\t1.643506e+08\n",
    "# std\t4.692045e+07\t21.073728\t7.95319\t3.398947\t2.186816e+08\n",
    "# min\t0.000000e+00\t0.000000\t1940.00000\t1.000000\t0.000000e+00\n",
    "# 25%\t3.000000e+07\t98.000000\t2000.00000\t4.000000\t3.103408e+07\n",
    "# 50%\t4.800000e+07\t110.000000\t2005.00000\t7.000000\t9.400000e+07\n",
    "# 75%\t7.500000e+07\t125.000000\t2011.00000\t10.000000\t2.026695e+08\n",
    "# max\t3.800000e+08\t254.000000\t2016.00000\t12.000000\t2.787965e+09"
   ]
  },
  {
   "cell_type": "markdown",
   "metadata": {},
   "source": [
    "Hmm, it looks like we missed something.  The budget, runtime, and revenue all have zero values.  Use the `value_counts` method and look for bottom 10 values in the budget column.   "
   ]
  },
  {
   "cell_type": "code",
   "execution_count": 21,
   "metadata": {},
   "outputs": [
    {
     "data": {
      "text/plain": [
       "0          120\n",
       "25           1\n",
       "28           1\n",
       "30           1\n",
       "110          1\n",
       "500000       1\n",
       "1800000      1\n",
       "2000000      1\n",
       "2600000      1\n",
       "2800000      1\n",
       "Name: budget, dtype: int64"
      ]
     },
     "execution_count": 21,
     "metadata": {},
     "output_type": "execute_result"
    }
   ],
   "source": [
    "# budget bottom ten\n",
    "\n",
    "\n",
    "# 0          120\n",
    "# 25           1\n",
    "# 28           1\n",
    "# 30           1\n",
    "# 110          1\n",
    "# 500000       1\n",
    "# 1800000      1\n",
    "# 2000000      1\n",
    "# 2600000      1\n",
    "# 2800000      1\n",
    "# Name: budget, dtype: int64"
   ]
  },
  {
   "cell_type": "markdown",
   "metadata": {},
   "source": [
    "To avoid recopying the same code a lot, let's turn this into a method, that takes the name of the column as an argument."
   ]
  },
  {
   "cell_type": "code",
   "execution_count": 22,
   "metadata": {},
   "outputs": [],
   "source": [
    "def bottom_ten(column_name, df):\n",
    "    pass"
   ]
  },
  {
   "cell_type": "code",
   "execution_count": 23,
   "metadata": {},
   "outputs": [
    {
     "data": {
      "text/plain": [
       "0.0     1\n",
       "63.0    1\n",
       "72.0    1\n",
       "74.0    1\n",
       "75.0    2\n",
       "76.0    2\n",
       "77.0    1\n",
       "78.0    5\n",
       "79.0    2\n",
       "80.0    6\n",
       "Name: runtime, dtype: int64"
      ]
     },
     "execution_count": 23,
     "metadata": {},
     "output_type": "execute_result"
    }
   ],
   "source": [
    "bottom_ten('runtime', movies_df)\n",
    "\n",
    "# 0.0     1\n",
    "# 63.0    1\n",
    "# 72.0    1\n",
    "# 74.0    1\n",
    "# 75.0    2\n",
    "# 76.0    2\n",
    "# 77.0    1\n",
    "# 78.0    5\n",
    "# 79.0    2\n",
    "# 80.0    6\n",
    "# Name: runtime, dtype: int64"
   ]
  },
  {
   "cell_type": "code",
   "execution_count": 24,
   "metadata": {},
   "outputs": [
    {
     "data": {
      "text/plain": [
       "0         211\n",
       "12          1\n",
       "13          1\n",
       "14          1\n",
       "103         1\n",
       "6399        1\n",
       "73706       1\n",
       "108348      1\n",
       "480314      1\n",
       "528972      1\n",
       "Name: revenue, dtype: int64"
      ]
     },
     "execution_count": 24,
     "metadata": {},
     "output_type": "execute_result"
    }
   ],
   "source": [
    "bottom_ten('revenue', movies_df)\n",
    "\n",
    "# 0         211\n",
    "# 12          1\n",
    "# 13          1\n",
    "# 14          1\n",
    "# 103         1\n",
    "# 6399        1\n",
    "# 73706       1\n",
    "# 108348      1\n",
    "# 480314      1\n",
    "# 528972      1\n",
    "# Name: revenue, dtype: int64"
   ]
  },
  {
   "cell_type": "markdown",
   "metadata": {},
   "source": [
    "Ok, so for each column, let's replace the values that we simply do not believe with `np.nan`.  \n",
    "\n",
    "* For budget, it's anything less than 500000.  "
   ]
  },
  {
   "cell_type": "code",
   "execution_count": 27,
   "metadata": {},
   "outputs": [],
   "source": [
    "budget_nan_series = None"
   ]
  },
  {
   "cell_type": "code",
   "execution_count": 29,
   "metadata": {},
   "outputs": [
    {
     "data": {
      "text/plain": [
       "124"
      ]
     },
     "execution_count": 29,
     "metadata": {},
     "output_type": "execute_result"
    }
   ],
   "source": [
    "budget_nan_series.isna().sum()\n",
    "# 124"
   ]
  },
  {
   "cell_type": "markdown",
   "metadata": {},
   "source": [
    "* For revenue its the less than 100000 values."
   ]
  },
  {
   "cell_type": "code",
   "execution_count": 33,
   "metadata": {},
   "outputs": [],
   "source": [
    "revenue_nan = None\n"
   ]
  },
  {
   "cell_type": "code",
   "execution_count": 34,
   "metadata": {},
   "outputs": [
    {
     "data": {
      "text/plain": [
       "217"
      ]
     },
     "execution_count": 34,
     "metadata": {},
     "output_type": "execute_result"
    }
   ],
   "source": [
    "revenue_nan.isna().sum()\n",
    "# 217"
   ]
  },
  {
   "cell_type": "markdown",
   "metadata": {},
   "source": [
    "* For runtime, there is only one value that is suspicious, so we don't need to eventually add an `isna` column just for one value.  Instead, we can just replace our zero value with the mean of the budget."
   ]
  },
  {
   "cell_type": "code",
   "execution_count": 35,
   "metadata": {},
   "outputs": [
    {
     "data": {
      "text/plain": [
       "113.2675"
      ]
     },
     "execution_count": 35,
     "metadata": {},
     "output_type": "execute_result"
    }
   ],
   "source": [
    "runtime_mean = None\n",
    "runtime_mean\n",
    "# 113.2675"
   ]
  },
  {
   "cell_type": "code",
   "execution_count": 37,
   "metadata": {},
   "outputs": [],
   "source": [
    "runtime_replace_zero = None"
   ]
  },
  {
   "cell_type": "code",
   "execution_count": 38,
   "metadata": {},
   "outputs": [
    {
     "data": {
      "text/plain": [
       "1"
      ]
     },
     "execution_count": 38,
     "metadata": {},
     "output_type": "execute_result"
    }
   ],
   "source": [
    "(runtime_replace_zero == runtime_mean).sum()\n",
    "# 1"
   ]
  },
  {
   "cell_type": "markdown",
   "metadata": {},
   "source": [
    "Ok, now let's replace our budget, runtime, and revenue columns with our cleaned up series: `runtime_replace_zero`, `budget_nan_series`, `revenue_nan`."
   ]
  },
  {
   "cell_type": "code",
   "execution_count": 39,
   "metadata": {},
   "outputs": [],
   "source": [
    "updated_df = None"
   ]
  },
  {
   "cell_type": "code",
   "execution_count": 40,
   "metadata": {},
   "outputs": [
    {
     "data": {
      "text/plain": [
       "title        0\n",
       "genre        0\n",
       "budget     124\n",
       "runtime      0\n",
       "year         0\n",
       "month        0\n",
       "revenue    217\n",
       "dtype: int64"
      ]
     },
     "execution_count": 40,
     "metadata": {},
     "output_type": "execute_result"
    }
   ],
   "source": [
    "updated_df.isna().sum()\n",
    "\n",
    "# title        0\n",
    "# genre        0\n",
    "# budget     124\n",
    "# runtime      0\n",
    "# year         0\n",
    "# month        0\n",
    "# revenue    217\n",
    "# dtype: int64"
   ]
  },
  {
   "cell_type": "markdown",
   "metadata": {},
   "source": [
    "Ok, so now we do have our `isna` values properly identified."
   ]
  },
  {
   "cell_type": "markdown",
   "metadata": {},
   "source": [
    "Now for the budget, and revenue columns, we need corresponding isna columns.  Begin by selecting the budget and revenue columns and then creating a dataframe of `isna` values."
   ]
  },
  {
   "cell_type": "code",
   "execution_count": 42,
   "metadata": {},
   "outputs": [
    {
     "data": {
      "text/html": [
       "<div>\n",
       "<style scoped>\n",
       "    .dataframe tbody tr th:only-of-type {\n",
       "        vertical-align: middle;\n",
       "    }\n",
       "\n",
       "    .dataframe tbody tr th {\n",
       "        vertical-align: top;\n",
       "    }\n",
       "\n",
       "    .dataframe thead th {\n",
       "        text-align: right;\n",
       "    }\n",
       "</style>\n",
       "<table border=\"1\" class=\"dataframe\">\n",
       "  <thead>\n",
       "    <tr style=\"text-align: right;\">\n",
       "      <th></th>\n",
       "      <th>budget</th>\n",
       "      <th>revenue</th>\n",
       "    </tr>\n",
       "  </thead>\n",
       "  <tbody>\n",
       "    <tr>\n",
       "      <th>0</th>\n",
       "      <td>False</td>\n",
       "      <td>False</td>\n",
       "    </tr>\n",
       "    <tr>\n",
       "      <th>1</th>\n",
       "      <td>False</td>\n",
       "      <td>False</td>\n",
       "    </tr>\n",
       "    <tr>\n",
       "      <th>2</th>\n",
       "      <td>False</td>\n",
       "      <td>False</td>\n",
       "    </tr>\n",
       "  </tbody>\n",
       "</table>\n",
       "</div>"
      ],
      "text/plain": [
       "   budget  revenue\n",
       "0   False    False\n",
       "1   False    False\n",
       "2   False    False"
      ]
     },
     "execution_count": 42,
     "metadata": {},
     "output_type": "execute_result"
    }
   ],
   "source": [
    "is_na_df = movies_df[['budget', 'revenue']].isna()\n",
    "is_na_df[:3]\n",
    "# # \tbudget\trevenue\n",
    "# 0\tFalse\tFalse\n",
    "# 1\tFalse\tFalse\n",
    "# 2\tFalse\tFalse"
   ]
  },
  {
   "cell_type": "markdown",
   "metadata": {},
   "source": [
    "Notice that this is precisely the data we want to add to our dataframe.  Let's rename the columns `budget_is_na` and `revenue_is_na`."
   ]
  },
  {
   "cell_type": "code",
   "execution_count": 43,
   "metadata": {},
   "outputs": [],
   "source": [
    "cols = [f'{col}_is_na' for col in is_na_df.columns]"
   ]
  },
  {
   "cell_type": "code",
   "execution_count": 44,
   "metadata": {},
   "outputs": [],
   "source": [
    "is_na_df.columns = cols"
   ]
  },
  {
   "cell_type": "code",
   "execution_count": 45,
   "metadata": {},
   "outputs": [
    {
     "data": {
      "text/html": [
       "<div>\n",
       "<style scoped>\n",
       "    .dataframe tbody tr th:only-of-type {\n",
       "        vertical-align: middle;\n",
       "    }\n",
       "\n",
       "    .dataframe tbody tr th {\n",
       "        vertical-align: top;\n",
       "    }\n",
       "\n",
       "    .dataframe thead th {\n",
       "        text-align: right;\n",
       "    }\n",
       "</style>\n",
       "<table border=\"1\" class=\"dataframe\">\n",
       "  <thead>\n",
       "    <tr style=\"text-align: right;\">\n",
       "      <th></th>\n",
       "      <th>budget_is_na</th>\n",
       "      <th>revenue_is_na</th>\n",
       "    </tr>\n",
       "  </thead>\n",
       "  <tbody>\n",
       "    <tr>\n",
       "      <th>0</th>\n",
       "      <td>False</td>\n",
       "      <td>False</td>\n",
       "    </tr>\n",
       "    <tr>\n",
       "      <th>1</th>\n",
       "      <td>False</td>\n",
       "      <td>False</td>\n",
       "    </tr>\n",
       "    <tr>\n",
       "      <th>2</th>\n",
       "      <td>False</td>\n",
       "      <td>False</td>\n",
       "    </tr>\n",
       "  </tbody>\n",
       "</table>\n",
       "</div>"
      ],
      "text/plain": [
       "   budget_is_na  revenue_is_na\n",
       "0         False          False\n",
       "1         False          False\n",
       "2         False          False"
      ]
     },
     "execution_count": 45,
     "metadata": {},
     "output_type": "execute_result"
    }
   ],
   "source": [
    "is_na_df[:3]\n",
    "# \tbudget_is_na\trevenue_is_na\n",
    "# 0\tFalse\tFalse\n",
    "# 1\tFalse\tFalse\n",
    "# 2\tFalse\tFalse"
   ]
  },
  {
   "cell_type": "markdown",
   "metadata": {},
   "source": [
    "Then add them to our dataframe."
   ]
  },
  {
   "cell_type": "code",
   "execution_count": 46,
   "metadata": {},
   "outputs": [],
   "source": [
    "df_with_is_na = None"
   ]
  },
  {
   "cell_type": "markdown",
   "metadata": {},
   "source": [
    "Next replace the missing values in `revenue` and `budget` with the mean."
   ]
  },
  {
   "cell_type": "code",
   "execution_count": 47,
   "metadata": {},
   "outputs": [
    {
     "data": {
      "text/plain": [
       "184352857.52439708"
      ]
     },
     "execution_count": 47,
     "metadata": {},
     "output_type": "execute_result"
    }
   ],
   "source": [
    "mean_revenue = None\n",
    "\n",
    "# 184352857.52439708"
   ]
  },
  {
   "cell_type": "code",
   "execution_count": 48,
   "metadata": {},
   "outputs": [
    {
     "data": {
      "text/plain": [
       "64431616.28518124"
      ]
     },
     "execution_count": 48,
     "metadata": {},
     "output_type": "execute_result"
    }
   ],
   "source": [
    "mean_budget = None\n",
    "\n",
    "# 64431616.28518124"
   ]
  },
  {
   "cell_type": "markdown",
   "metadata": {},
   "source": [
    "Replace the na values accordingly."
   ]
  },
  {
   "cell_type": "code",
   "execution_count": 49,
   "metadata": {},
   "outputs": [],
   "source": [
    "replaced_df = None"
   ]
  },
  {
   "cell_type": "code",
   "execution_count": 50,
   "metadata": {},
   "outputs": [
    {
     "data": {
      "text/plain": [
       "budget     0\n",
       "revenue    0\n",
       "dtype: int64"
      ]
     },
     "execution_count": 50,
     "metadata": {},
     "output_type": "execute_result"
    }
   ],
   "source": [
    "replaced_df.isna().sum()\n",
    "\n",
    "# budget     0\n",
    "# revenue    0\n",
    "# dtype: int64"
   ]
  },
  {
   "cell_type": "code",
   "execution_count": 51,
   "metadata": {},
   "outputs": [
    {
     "data": {
      "text/plain": [
       "124"
      ]
     },
     "execution_count": 51,
     "metadata": {},
     "output_type": "execute_result"
    }
   ],
   "source": [
    "(replaced_df['budget'] == 64431616.28518124).sum()\n",
    "# 124"
   ]
  },
  {
   "cell_type": "code",
   "execution_count": 52,
   "metadata": {},
   "outputs": [
    {
     "data": {
      "text/plain": [
       "217"
      ]
     },
     "execution_count": 52,
     "metadata": {},
     "output_type": "execute_result"
    }
   ],
   "source": [
    "(replaced_df['revenue'] == 184352857.52439708).sum()\n",
    "# 217"
   ]
  },
  {
   "cell_type": "markdown",
   "metadata": {},
   "source": [
    "Ok, so we can now update the `df_with_is_na` columns with our `replaced_df`."
   ]
  },
  {
   "cell_type": "code",
   "execution_count": 55,
   "metadata": {},
   "outputs": [],
   "source": []
  },
  {
   "cell_type": "code",
   "execution_count": 56,
   "metadata": {},
   "outputs": [
    {
     "data": {
      "text/plain": [
       "title            0\n",
       "genre            0\n",
       "budget           0\n",
       "runtime          0\n",
       "year             0\n",
       "month            0\n",
       "revenue          0\n",
       "budget_is_na     0\n",
       "revenue_is_na    0\n",
       "dtype: int64"
      ]
     },
     "execution_count": 56,
     "metadata": {},
     "output_type": "execute_result"
    }
   ],
   "source": [
    "df_with_is_na.isna().sum()\n",
    "\n",
    "# title            0\n",
    "# genre            0\n",
    "# budget           0\n",
    "# runtime          0\n",
    "# year             0\n",
    "# month            0\n",
    "# revenue          0\n",
    "# budget_is_na     0\n",
    "# revenue_is_na    0\n",
    "# dtype: int64"
   ]
  },
  {
   "cell_type": "markdown",
   "metadata": {},
   "source": [
    "### Adding Categorical Values"
   ]
  },
  {
   "cell_type": "code",
   "execution_count": 57,
   "metadata": {},
   "outputs": [
    {
     "data": {
      "text/plain": [
       "Action             0.235448\n",
       "Comedy             0.194245\n",
       "Drama              0.169392\n",
       "Adventure          0.114454\n",
       "Animation          0.052322\n",
       "NA                 0.043819\n",
       "Thriller           0.043165\n",
       "Fantasy            0.039241\n",
       "Crime              0.036625\n",
       "Horror             0.026815\n",
       "Science Fiction    0.023545\n",
       "Romance            0.020929\n",
       "Name: genre, dtype: float64"
      ]
     },
     "execution_count": 57,
     "metadata": {},
     "output_type": "execute_result"
    }
   ],
   "source": [
    "df_with_is_na[df_with_is_na['year'] > 1999]['genre'].value_counts(normalize = True)"
   ]
  },
  {
   "cell_type": "markdown",
   "metadata": {},
   "source": [
    "Ok, now let's begin working with our `genre` column.  Currently it's of type object."
   ]
  },
  {
   "cell_type": "code",
   "execution_count": 58,
   "metadata": {},
   "outputs": [],
   "source": [
    "genre_col = df_with_is_na['genre']"
   ]
  },
  {
   "cell_type": "markdown",
   "metadata": {},
   "source": [
    "First call `pd.get_dummies` on the genre column."
   ]
  },
  {
   "cell_type": "code",
   "execution_count": 59,
   "metadata": {},
   "outputs": [],
   "source": [
    "dummied_genre = None"
   ]
  },
  {
   "cell_type": "code",
   "execution_count": 60,
   "metadata": {},
   "outputs": [
    {
     "data": {
      "text/html": [
       "<div>\n",
       "<style scoped>\n",
       "    .dataframe tbody tr th:only-of-type {\n",
       "        vertical-align: middle;\n",
       "    }\n",
       "\n",
       "    .dataframe tbody tr th {\n",
       "        vertical-align: top;\n",
       "    }\n",
       "\n",
       "    .dataframe thead th {\n",
       "        text-align: right;\n",
       "    }\n",
       "</style>\n",
       "<table border=\"1\" class=\"dataframe\">\n",
       "  <thead>\n",
       "    <tr style=\"text-align: right;\">\n",
       "      <th></th>\n",
       "      <th>Action</th>\n",
       "      <th>Adventure</th>\n",
       "      <th>Animation</th>\n",
       "      <th>Comedy</th>\n",
       "      <th>Crime</th>\n",
       "      <th>Drama</th>\n",
       "      <th>Fantasy</th>\n",
       "      <th>Horror</th>\n",
       "      <th>NA</th>\n",
       "      <th>Romance</th>\n",
       "      <th>Science Fiction</th>\n",
       "      <th>Thriller</th>\n",
       "    </tr>\n",
       "  </thead>\n",
       "  <tbody>\n",
       "    <tr>\n",
       "      <th>0</th>\n",
       "      <td>1</td>\n",
       "      <td>0</td>\n",
       "      <td>0</td>\n",
       "      <td>0</td>\n",
       "      <td>0</td>\n",
       "      <td>0</td>\n",
       "      <td>0</td>\n",
       "      <td>0</td>\n",
       "      <td>0</td>\n",
       "      <td>0</td>\n",
       "      <td>0</td>\n",
       "      <td>0</td>\n",
       "    </tr>\n",
       "    <tr>\n",
       "      <th>1</th>\n",
       "      <td>0</td>\n",
       "      <td>1</td>\n",
       "      <td>0</td>\n",
       "      <td>0</td>\n",
       "      <td>0</td>\n",
       "      <td>0</td>\n",
       "      <td>0</td>\n",
       "      <td>0</td>\n",
       "      <td>0</td>\n",
       "      <td>0</td>\n",
       "      <td>0</td>\n",
       "      <td>0</td>\n",
       "    </tr>\n",
       "    <tr>\n",
       "      <th>2</th>\n",
       "      <td>1</td>\n",
       "      <td>0</td>\n",
       "      <td>0</td>\n",
       "      <td>0</td>\n",
       "      <td>0</td>\n",
       "      <td>0</td>\n",
       "      <td>0</td>\n",
       "      <td>0</td>\n",
       "      <td>0</td>\n",
       "      <td>0</td>\n",
       "      <td>0</td>\n",
       "      <td>0</td>\n",
       "    </tr>\n",
       "  </tbody>\n",
       "</table>\n",
       "</div>"
      ],
      "text/plain": [
       "   Action  Adventure  Animation  Comedy  Crime  Drama  Fantasy  Horror  NA  \\\n",
       "0       1          0          0       0      0      0        0       0   0   \n",
       "1       0          1          0       0      0      0        0       0   0   \n",
       "2       1          0          0       0      0      0        0       0   0   \n",
       "\n",
       "   Romance  Science Fiction  Thriller  \n",
       "0        0                0         0  \n",
       "1        0                0         0  \n",
       "2        0                0         0  "
      ]
     },
     "execution_count": 60,
     "metadata": {},
     "output_type": "execute_result"
    }
   ],
   "source": [
    "dummied_genre[:3]\n",
    "# \tAction\tAdventure\tAnimation\tComedy\tCrime\tDrama\tFantasy\tHorror\tNA\tRomance\tScience Fiction\tThriller\n",
    "# 0\t1\t0\t0\t0\t0\t0\t0\t0\t0\t0\t0\t0\n",
    "# 1\t0\t1\t0\t0\t0\t0\t0\t0\t0\t0\t0\t0\n",
    "# 2\t1\t0\t0\t0\t0\t0\t0\t0\t0\t"
   ]
  },
  {
   "cell_type": "markdown",
   "metadata": {},
   "source": [
    "Ok, now let's drop the first column, `Action`.  This will mean that every column is in relative to the value for an Action movie."
   ]
  },
  {
   "cell_type": "code",
   "execution_count": 61,
   "metadata": {},
   "outputs": [],
   "source": [
    "dummied_genre_no_action = None"
   ]
  },
  {
   "cell_type": "code",
   "execution_count": 62,
   "metadata": {},
   "outputs": [
    {
     "data": {
      "text/html": [
       "<div>\n",
       "<style scoped>\n",
       "    .dataframe tbody tr th:only-of-type {\n",
       "        vertical-align: middle;\n",
       "    }\n",
       "\n",
       "    .dataframe tbody tr th {\n",
       "        vertical-align: top;\n",
       "    }\n",
       "\n",
       "    .dataframe thead th {\n",
       "        text-align: right;\n",
       "    }\n",
       "</style>\n",
       "<table border=\"1\" class=\"dataframe\">\n",
       "  <thead>\n",
       "    <tr style=\"text-align: right;\">\n",
       "      <th></th>\n",
       "      <th>Adventure</th>\n",
       "      <th>Animation</th>\n",
       "      <th>Comedy</th>\n",
       "      <th>Crime</th>\n",
       "      <th>Drama</th>\n",
       "      <th>Fantasy</th>\n",
       "      <th>Horror</th>\n",
       "      <th>NA</th>\n",
       "      <th>Romance</th>\n",
       "      <th>Science Fiction</th>\n",
       "      <th>Thriller</th>\n",
       "    </tr>\n",
       "  </thead>\n",
       "  <tbody>\n",
       "    <tr>\n",
       "      <th>0</th>\n",
       "      <td>0</td>\n",
       "      <td>0</td>\n",
       "      <td>0</td>\n",
       "      <td>0</td>\n",
       "      <td>0</td>\n",
       "      <td>0</td>\n",
       "      <td>0</td>\n",
       "      <td>0</td>\n",
       "      <td>0</td>\n",
       "      <td>0</td>\n",
       "      <td>0</td>\n",
       "    </tr>\n",
       "    <tr>\n",
       "      <th>1</th>\n",
       "      <td>1</td>\n",
       "      <td>0</td>\n",
       "      <td>0</td>\n",
       "      <td>0</td>\n",
       "      <td>0</td>\n",
       "      <td>0</td>\n",
       "      <td>0</td>\n",
       "      <td>0</td>\n",
       "      <td>0</td>\n",
       "      <td>0</td>\n",
       "      <td>0</td>\n",
       "    </tr>\n",
       "    <tr>\n",
       "      <th>2</th>\n",
       "      <td>0</td>\n",
       "      <td>0</td>\n",
       "      <td>0</td>\n",
       "      <td>0</td>\n",
       "      <td>0</td>\n",
       "      <td>0</td>\n",
       "      <td>0</td>\n",
       "      <td>0</td>\n",
       "      <td>0</td>\n",
       "      <td>0</td>\n",
       "      <td>0</td>\n",
       "    </tr>\n",
       "  </tbody>\n",
       "</table>\n",
       "</div>"
      ],
      "text/plain": [
       "   Adventure  Animation  Comedy  Crime  Drama  Fantasy  Horror  NA  Romance  \\\n",
       "0          0          0       0      0      0        0       0   0        0   \n",
       "1          1          0       0      0      0        0       0   0        0   \n",
       "2          0          0       0      0      0        0       0   0        0   \n",
       "\n",
       "   Science Fiction  Thriller  \n",
       "0                0         0  \n",
       "1                0         0  \n",
       "2                0         0  "
      ]
     },
     "execution_count": 62,
     "metadata": {},
     "output_type": "execute_result"
    }
   ],
   "source": [
    "dummied_genre_no_action[:3]\n",
    "\n",
    "# \tAdventure\tAnimation\tComedy\tCrime\tDrama\tFantasy\tHorror\tNA\tRomance\tScience Fiction\tThriller\n",
    "# 0\t0\t0\t0\t0\t0\t0\t0\t0\t0\t0\t0\n",
    "# 1\t1\t0\t0\t0\t0\t0\t0\t0\t0\t0\t0\n",
    "# 2\t0\t0\t0\t0\t0\t0\t0\t0\t0\t0\t0"
   ]
  },
  {
   "cell_type": "markdown",
   "metadata": {},
   "source": [
    "And lets use the `prefix` keyword to precede each column with the word `genre`."
   ]
  },
  {
   "cell_type": "code",
   "execution_count": 63,
   "metadata": {},
   "outputs": [],
   "source": [
    "dummied_genre_no_action_prefix  = None"
   ]
  },
  {
   "cell_type": "code",
   "execution_count": 64,
   "metadata": {},
   "outputs": [
    {
     "data": {
      "text/html": [
       "<div>\n",
       "<style scoped>\n",
       "    .dataframe tbody tr th:only-of-type {\n",
       "        vertical-align: middle;\n",
       "    }\n",
       "\n",
       "    .dataframe tbody tr th {\n",
       "        vertical-align: top;\n",
       "    }\n",
       "\n",
       "    .dataframe thead th {\n",
       "        text-align: right;\n",
       "    }\n",
       "</style>\n",
       "<table border=\"1\" class=\"dataframe\">\n",
       "  <thead>\n",
       "    <tr style=\"text-align: right;\">\n",
       "      <th></th>\n",
       "      <th>genre_Adventure</th>\n",
       "      <th>genre_Animation</th>\n",
       "      <th>genre_Comedy</th>\n",
       "      <th>genre_Crime</th>\n",
       "      <th>genre_Drama</th>\n",
       "      <th>genre_Fantasy</th>\n",
       "      <th>genre_Horror</th>\n",
       "      <th>genre_NA</th>\n",
       "      <th>genre_Romance</th>\n",
       "      <th>genre_Science Fiction</th>\n",
       "      <th>genre_Thriller</th>\n",
       "    </tr>\n",
       "  </thead>\n",
       "  <tbody>\n",
       "    <tr>\n",
       "      <th>0</th>\n",
       "      <td>0</td>\n",
       "      <td>0</td>\n",
       "      <td>0</td>\n",
       "      <td>0</td>\n",
       "      <td>0</td>\n",
       "      <td>0</td>\n",
       "      <td>0</td>\n",
       "      <td>0</td>\n",
       "      <td>0</td>\n",
       "      <td>0</td>\n",
       "      <td>0</td>\n",
       "    </tr>\n",
       "    <tr>\n",
       "      <th>1</th>\n",
       "      <td>1</td>\n",
       "      <td>0</td>\n",
       "      <td>0</td>\n",
       "      <td>0</td>\n",
       "      <td>0</td>\n",
       "      <td>0</td>\n",
       "      <td>0</td>\n",
       "      <td>0</td>\n",
       "      <td>0</td>\n",
       "      <td>0</td>\n",
       "      <td>0</td>\n",
       "    </tr>\n",
       "    <tr>\n",
       "      <th>2</th>\n",
       "      <td>0</td>\n",
       "      <td>0</td>\n",
       "      <td>0</td>\n",
       "      <td>0</td>\n",
       "      <td>0</td>\n",
       "      <td>0</td>\n",
       "      <td>0</td>\n",
       "      <td>0</td>\n",
       "      <td>0</td>\n",
       "      <td>0</td>\n",
       "      <td>0</td>\n",
       "    </tr>\n",
       "  </tbody>\n",
       "</table>\n",
       "</div>"
      ],
      "text/plain": [
       "   genre_Adventure  genre_Animation  genre_Comedy  genre_Crime  genre_Drama  \\\n",
       "0                0                0             0            0            0   \n",
       "1                1                0             0            0            0   \n",
       "2                0                0             0            0            0   \n",
       "\n",
       "   genre_Fantasy  genre_Horror  genre_NA  genre_Romance  \\\n",
       "0              0             0         0              0   \n",
       "1              0             0         0              0   \n",
       "2              0             0         0              0   \n",
       "\n",
       "   genre_Science Fiction  genre_Thriller  \n",
       "0                      0               0  \n",
       "1                      0               0  \n",
       "2                      0               0  "
      ]
     },
     "execution_count": 64,
     "metadata": {},
     "output_type": "execute_result"
    }
   ],
   "source": [
    "dummied_genre_no_action_prefix[:3]\n",
    "\n",
    "\n",
    "# genre_Adventure\tgenre_Animation\tgenre_Comedy\tgenre_Crime\tgenre_Drama\tgenre_Fantasy\tgenre_Horror\tgenre_NA\tgenre_Romance\tgenre_Science Fiction\tgenre_Thriller\n",
    "# 0\t0\t0\t0\t0\t0\t0\t0\t0\t0\t0\t0\n",
    "# 1\t1\t0\t0\t0\t0\t0\t0\t0\t0\t0\t0\n",
    "# 2\t0\t0\t0\t0\t0\t0\t"
   ]
  },
  {
   "cell_type": "markdown",
   "metadata": {},
   "source": [
    "Ok, now let's merge this back with our original data."
   ]
  },
  {
   "cell_type": "code",
   "execution_count": 65,
   "metadata": {},
   "outputs": [],
   "source": [
    "movies_df_with_dummies = None"
   ]
  },
  {
   "cell_type": "markdown",
   "metadata": {},
   "source": [
    "Remove the `title` and `genre` columns.  We don't need them."
   ]
  },
  {
   "cell_type": "code",
   "execution_count": 66,
   "metadata": {},
   "outputs": [
    {
     "data": {
      "text/plain": [
       "Index(['budget', 'runtime', 'year', 'month', 'revenue', 'budget_is_na',\n",
       "       'revenue_is_na', 'genre_Adventure', 'genre_Animation', 'genre_Comedy',\n",
       "       'genre_Crime', 'genre_Drama', 'genre_Fantasy', 'genre_Horror',\n",
       "       'genre_NA', 'genre_Romance', 'genre_Science Fiction', 'genre_Thriller'],\n",
       "      dtype='object')"
      ]
     },
     "execution_count": 66,
     "metadata": {},
     "output_type": "execute_result"
    }
   ],
   "source": [
    "movies_df_with_dummies_select = movies_df_with_dummies.iloc[:, 2:]\n",
    "\n",
    "movies_df_with_dummies_select.columns\n",
    "\n",
    "# Index(['budget', 'runtime', 'year', 'month', 'revenue', 'budget_is_na',\n",
    "#        'revenue_is_na', 'genre_Adventure', 'genre_Animation', 'genre_Comedy',\n",
    "#        'genre_Crime', 'genre_Drama', 'genre_Fantasy', 'genre_Horror',\n",
    "#        'genre_NA', 'genre_Romance', 'genre_Science Fiction', 'genre_Thriller'],\n",
    "#       dtype='object')"
   ]
  },
  {
   "cell_type": "markdown",
   "metadata": {},
   "source": [
    "### Splitting our data"
   ]
  },
  {
   "cell_type": "markdown",
   "metadata": {},
   "source": [
    "We'll first narrow our dataset to movies after 1999."
   ]
  },
  {
   "cell_type": "code",
   "execution_count": 3,
   "metadata": {},
   "outputs": [
    {
     "ename": "NameError",
     "evalue": "name 'movies_df_with_dummies_select' is not defined",
     "output_type": "error",
     "traceback": [
      "\u001b[0;31m---------------------------------------------------------------------------\u001b[0m",
      "\u001b[0;31mNameError\u001b[0m                                 Traceback (most recent call last)",
      "\u001b[0;32m<ipython-input-3-fb24822e8ad3>\u001b[0m in \u001b[0;36m<module>\u001b[0;34m\u001b[0m\n\u001b[0;32m----> 1\u001b[0;31m \u001b[0mpost_2000_movies_df\u001b[0m \u001b[0;34m=\u001b[0m \u001b[0mmovies_df_with_dummies_select\u001b[0m\u001b[0;34m[\u001b[0m\u001b[0mmovies_df_with_dummies_select\u001b[0m\u001b[0;34m[\u001b[0m\u001b[0;34m'year'\u001b[0m\u001b[0;34m]\u001b[0m \u001b[0;34m>\u001b[0m \u001b[0;36m1999\u001b[0m\u001b[0;34m]\u001b[0m\u001b[0;34m\u001b[0m\u001b[0;34m\u001b[0m\u001b[0m\n\u001b[0m",
      "\u001b[0;31mNameError\u001b[0m: name 'movies_df_with_dummies_select' is not defined"
     ]
    }
   ],
   "source": [
    "post_2000_movies_df = movies_df_with_dummies_select[movies_df_with_dummies_select['year'] > 1999]"
   ]
  },
  {
   "cell_type": "markdown",
   "metadata": {},
   "source": [
    "Now let's separate our data into a training set, a test set, and a validation set.  Let's begin with the validation set.  Our validation set should be the most recent data.  So sort data by the year, then the month, and select the most recent 20 percent."
   ]
  },
  {
   "cell_type": "code",
   "execution_count": 70,
   "metadata": {},
   "outputs": [],
   "source": [
    "sorted_movies_post_2000 = post_2000_movies_df.sort_values(['year', 'month'], ascending = False)"
   ]
  },
  {
   "cell_type": "markdown",
   "metadata": {},
   "source": [
    "Let's take a look at when this set of movies is from.  Use value_counts to print out a count of movies per year in our dataset, sorted by year."
   ]
  },
  {
   "cell_type": "code",
   "execution_count": 71,
   "metadata": {},
   "outputs": [
    {
     "data": {
      "text/plain": [
       "2016     45\n",
       "2015     84\n",
       "2014     87\n",
       "2013     94\n",
       "2012     91\n",
       "2011    105\n",
       "2010     95\n",
       "2009    100\n",
       "2008     98\n",
       "2007     77\n",
       "2006     95\n",
       "2005    105\n",
       "2004    104\n",
       "2003     82\n",
       "2002     91\n",
       "2001     92\n",
       "2000     84\n",
       "Name: year, dtype: int64"
      ]
     },
     "execution_count": 71,
     "metadata": {},
     "output_type": "execute_result"
    }
   ],
   "source": [
    "# write code here \n",
    "\n",
    "\n",
    "# 2016     45\n",
    "# 2015     84\n",
    "# 2014     87\n",
    "# 2013     94\n",
    "# 2012     91\n",
    "# 2011    105\n",
    "# 2010     95\n",
    "# 2009    100\n",
    "# 2008     98\n",
    "# 2007     77\n",
    "# 2006     95\n",
    "# 2005    105\n",
    "# 2004    104\n",
    "# 2003     82\n",
    "# 2002     91\n",
    "# 2001     92\n",
    "# 2000     84"
   ]
  },
  {
   "cell_type": "markdown",
   "metadata": {},
   "source": [
    "Ok, so by choosing a validation set this large we'll eat up five years of data.  Let's just choose the most recent hundred values to be in our dataframe.  Begin by selecting all of the columns except for revenue and assign them to `X`, and assign the revenue column to `y`."
   ]
  },
  {
   "cell_type": "code",
   "execution_count": 72,
   "metadata": {},
   "outputs": [],
   "source": [
    "X = None\n",
    "y = None"
   ]
  },
  {
   "cell_type": "markdown",
   "metadata": {},
   "source": [
    "Then assign the most recent X and y values to the test set."
   ]
  },
  {
   "cell_type": "code",
   "execution_count": 197,
   "metadata": {},
   "outputs": [],
   "source": [
    "X_test = None\n",
    "X_test.shape\n",
    "\n",
    "y_test = None"
   ]
  },
  {
   "cell_type": "code",
   "execution_count": 198,
   "metadata": {},
   "outputs": [
    {
     "data": {
      "text/plain": [
       "72     2016\n",
       "357    2016\n",
       "Name: year, dtype: int64"
      ]
     },
     "execution_count": 198,
     "metadata": {},
     "output_type": "execute_result"
    }
   ],
   "source": [
    "X_test['year'][:2]\n",
    "# 72     2016\n",
    "# 357    2016\n",
    "# Name: year, dtype: int64"
   ]
  },
  {
   "cell_type": "markdown",
   "metadata": {},
   "source": [
    "Now let's select 150 movies for our validation set."
   ]
  },
  {
   "cell_type": "code",
   "execution_count": 199,
   "metadata": {},
   "outputs": [
    {
     "data": {
      "text/plain": [
       "(150, 17)"
      ]
     },
     "execution_count": 199,
     "metadata": {},
     "output_type": "execute_result"
    }
   ],
   "source": [
    "X_validate = None\n",
    "y_validate = None\n",
    "X_validate.shape\n",
    "\n",
    "# (150, 17)"
   ]
  },
  {
   "cell_type": "code",
   "execution_count": 200,
   "metadata": {},
   "outputs": [
    {
     "data": {
      "text/plain": [
       "244     2015\n",
       "1348    2015\n",
       "Name: year, dtype: int64"
      ]
     },
     "execution_count": 200,
     "metadata": {},
     "output_type": "execute_result"
    }
   ],
   "source": [
    "X_validate['year'][:2]\n",
    "# 244     2015\n",
    "# 1348    2015\n",
    "# Name: year, dtype: int64"
   ]
  },
  {
   "cell_type": "markdown",
   "metadata": {},
   "source": [
    "And the rest of our data can be in our training set."
   ]
  },
  {
   "cell_type": "code",
   "execution_count": 201,
   "metadata": {},
   "outputs": [
    {
     "data": {
      "text/plain": [
       "(1279, 17)"
      ]
     },
     "execution_count": 201,
     "metadata": {},
     "output_type": "execute_result"
    }
   ],
   "source": [
    "X_train = None\n",
    "y_train = None\n",
    "X_train.shape\n",
    "\n",
    "# (1279, 17)"
   ]
  },
  {
   "cell_type": "markdown",
   "metadata": {},
   "source": [
    "Ok, now let's build and train a model.\n",
    "\n",
    "> Check the score on the validation set."
   ]
  },
  {
   "cell_type": "code",
   "execution_count": 97,
   "metadata": {},
   "outputs": [],
   "source": [
    "from sklearn.linear_model import LinearRegression\n",
    "model = None\n",
    "\n",
    "# 0.5757307325837366"
   ]
  },
  {
   "cell_type": "markdown",
   "metadata": {},
   "source": [
    "### Feature Selection"
   ]
  },
  {
   "cell_type": "markdown",
   "metadata": {},
   "source": [
    "So we just trained our first model, now it's time to perform feature selection.  Let's begin by scaling the training and validation data."
   ]
  },
  {
   "cell_type": "code",
   "execution_count": 88,
   "metadata": {},
   "outputs": [],
   "source": [
    "from sklearn.preprocessing import StandardScaler"
   ]
  },
  {
   "cell_type": "code",
   "execution_count": 146,
   "metadata": {},
   "outputs": [],
   "source": [
    "transformer = StandardScaler()\n",
    "X_train_scaled = transformer.fit_transform(X_train)"
   ]
  },
  {
   "cell_type": "code",
   "execution_count": 147,
   "metadata": {},
   "outputs": [],
   "source": [
    "X_validate_scaled = transformer.fit_transform(X_validate)"
   ]
  },
  {
   "cell_type": "markdown",
   "metadata": {},
   "source": [
    "Next we can train a model, and check that the score is the same."
   ]
  },
  {
   "cell_type": "code",
   "execution_count": 133,
   "metadata": {},
   "outputs": [
    {
     "data": {
      "text/plain": [
       "LinearRegression(copy_X=True, fit_intercept=True, n_jobs=None, normalize=False)"
      ]
     },
     "execution_count": 133,
     "metadata": {},
     "output_type": "execute_result"
    }
   ],
   "source": [
    "scaled_model = LinearRegression()\n",
    "scaled_model.fit(X_train_scaled, y_train)\n"
   ]
  },
  {
   "cell_type": "code",
   "execution_count": 136,
   "metadata": {},
   "outputs": [
    {
     "data": {
      "text/plain": [
       "0.46900631798855086"
      ]
     },
     "execution_count": 136,
     "metadata": {},
     "output_type": "execute_result"
    }
   ],
   "source": [
    "scaled_model.score(X_validate_scaled, y_validate)\n",
    "# 0.46900631798855086"
   ]
  },
  {
   "cell_type": "markdown",
   "metadata": {},
   "source": [
    "> It's a significant hit, but we didn't do anything wrong."
   ]
  },
  {
   "cell_type": "markdown",
   "metadata": {},
   "source": [
    "Let's convert our `X_train_scaled` and `X_validate_scaled` to dataframes."
   ]
  },
  {
   "cell_type": "code",
   "execution_count": 150,
   "metadata": {},
   "outputs": [],
   "source": [
    "X_train_scaled_df = pd.DataFrame(X_train_scaled, columns = X.columns)\n",
    "X_validate_scaled_df = pd.DataFrame(X_validate_scaled, columns = X.columns)"
   ]
  },
  {
   "cell_type": "code",
   "execution_count": null,
   "metadata": {},
   "outputs": [],
   "source": [
    "X_train_scaled_df[:2]\n",
    "# array([[-0.81078714,  0.22687539,  1.68006371,  0.62648705,  0.        ,\n",
    "#          0.        , -0.36174252,  4.22005018, -0.50634481, -0.1842637 ,\n",
    "#         -0.46824826, -0.19959308, -0.17498705, -0.20379142, -0.14119562,\n",
    "#         -0.13828777, -0.20995626],\n",
    "#        [ 1.06532769, -0.08923323,  1.68006371,  0.33308649,  0.        ,\n",
    "#          0.        , -0.36174252, -0.23696401, -0.50634481, -0.1842637 ,\n",
    "#         -0.46824826, -0.19959308, -0.17498705, -0.20379142, -0.14119562,\n",
    "#          7.23129772, -0.20995626]])"
   ]
  },
  {
   "cell_type": "code",
   "execution_count": null,
   "metadata": {},
   "outputs": [],
   "source": [
    "X_validate_scaled_df[:2]\n",
    "# array([[ 0.64622839,  0.01443836,  1.59658123, -0.48304248,  0.        ,\n",
    "#          0.        , -0.32084447, -0.25264558, -0.39223227, -0.25264558,\n",
    "#         -0.39223227, -0.20412415, -0.11624764, -0.26726124, -0.20412415,\n",
    "#         -0.23735633, -0.25264558],\n",
    "#        [-0.67778457, -0.4728564 ,  1.59658123, -0.48304248,  0.        ,\n",
    "#          0.        , -0.32084447, -0.25264558, -0.39223227, -0.25264558,\n",
    "#          2.54950976, -0.20412415, -0.11624764, -0.26726124, -0.20412415,\n",
    "#         -0.23735633, -0.25264558]])"
   ]
  },
  {
   "cell_type": "markdown",
   "metadata": {},
   "source": [
    "Now sort the columns by the absolute value of the size of the coefficients."
   ]
  },
  {
   "cell_type": "code",
   "execution_count": 143,
   "metadata": {},
   "outputs": [],
   "source": [
    "sorted_idcs = None\n",
    "# array([ 7, 15,  6,  8, 12, 10, 13,  9, 14, 16, 11,  1,  3,  2,  0,  5,  4])"
   ]
  },
  {
   "cell_type": "code",
   "execution_count": 144,
   "metadata": {},
   "outputs": [
    {
     "data": {
      "text/plain": [
       "array([ 1.14743905e+08,  4.89120773e+07,  4.45104028e+07,  3.34451892e+07,\n",
       "        2.65432021e+07, -1.82466420e+07, -1.39596460e+07, -1.34162716e+07,\n",
       "        6.70959721e+06, -6.58518495e+06,  1.81081552e+06,  1.65956053e+06,\n",
       "        1.19771870e+06,  9.95636974e+05,  2.73628300e+00, -1.49011612e-08,\n",
       "        9.31322575e-09])"
      ]
     },
     "execution_count": 144,
     "metadata": {},
     "output_type": "execute_result"
    }
   ],
   "source": [
    "sorted_coefs = None\n",
    "sorted_coefs\n",
    "# array([ 1.14743905e+08,  4.89120773e+07,  4.45104028e+07,  3.34451892e+07,\n",
    "#         2.65432021e+07, -1.82466420e+07, -1.39596460e+07, -1.34162716e+07,\n",
    "#         6.70959721e+06, -6.58518495e+06,  1.81081552e+06,  1.65956053e+06,\n",
    "#         1.19771870e+06,  9.95636974e+05,  2.73628300e+00, -1.49011612e-08,\n",
    "#         9.31322575e-09])"
   ]
  },
  {
   "cell_type": "code",
   "execution_count": 151,
   "metadata": {},
   "outputs": [
    {
     "data": {
      "text/plain": [
       "Index(['genre_Animation', 'genre_Science Fiction', 'genre_Adventure',\n",
       "       'genre_Comedy', 'genre_Horror', 'genre_Drama', 'genre_NA',\n",
       "       'genre_Crime', 'genre_Romance', 'genre_Thriller', 'genre_Fantasy',\n",
       "       'runtime', 'month', 'year', 'budget', 'revenue_is_na', 'budget_is_na'],\n",
       "      dtype='object')"
      ]
     },
     "execution_count": 151,
     "metadata": {},
     "output_type": "execute_result"
    }
   ],
   "source": [
    "sorted_cols = None\n",
    "sorted_cols\n",
    "\n",
    "# Index(['genre_Animation', 'genre_Science Fiction', 'genre_Adventure',\n",
    "#        'genre_Comedy', 'genre_Horror', 'genre_Drama', 'genre_NA',\n",
    "#        'genre_Crime', 'genre_Romance', 'genre_Thriller', 'genre_Fantasy',\n",
    "#        'runtime', 'month', 'year', 'budget', 'revenue_is_na', 'budget_is_na'],\n",
    "#       dtype='object')"
   ]
  },
  {
   "cell_type": "markdown",
   "metadata": {},
   "source": [
    "> Make sure that both X_train_scaled and X_validate_scaled are dataframes, then sort the column accordingly."
   ]
  },
  {
   "cell_type": "code",
   "execution_count": 152,
   "metadata": {},
   "outputs": [],
   "source": [
    "sorted_X_train_df = None\n",
    "sorted_X_validate_df = None"
   ]
  },
  {
   "cell_type": "code",
   "execution_count": 153,
   "metadata": {},
   "outputs": [
    {
     "data": {
      "text/plain": [
       "(Index(['genre_Animation', 'genre_Science Fiction', 'genre_Adventure'], dtype='object'),\n",
       " Index(['genre_Animation', 'genre_Science Fiction', 'genre_Adventure'], dtype='object'))"
      ]
     },
     "execution_count": 153,
     "metadata": {},
     "output_type": "execute_result"
    }
   ],
   "source": [
    "sorted_X_train_df.columns[:3], sorted_X_validate_df.columns[:3]"
   ]
  },
  {
   "cell_type": "markdown",
   "metadata": {},
   "source": [
    "Ok, now we can train these models on an increasing number of columns and check the corresponding validation scores."
   ]
  },
  {
   "cell_type": "markdown",
   "metadata": {},
   "source": [
    "Let's begin by creating a variable called `training_datasets` that is equal to a list of training datasets, each dataset including one more feature than the last (beginning with `genre_Animation`). "
   ]
  },
  {
   "cell_type": "code",
   "execution_count": 261,
   "metadata": {},
   "outputs": [
    {
     "data": {
      "text/plain": [
       "17"
      ]
     },
     "execution_count": 261,
     "metadata": {},
     "output_type": "execute_result"
    }
   ],
   "source": [
    "len(sorted_cols)"
   ]
  },
  {
   "cell_type": "code",
   "execution_count": 154,
   "metadata": {},
   "outputs": [],
   "source": [
    "training_datasets = None"
   ]
  },
  {
   "cell_type": "code",
   "execution_count": 155,
   "metadata": {},
   "outputs": [
    {
     "data": {
      "text/html": [
       "<div>\n",
       "<style scoped>\n",
       "    .dataframe tbody tr th:only-of-type {\n",
       "        vertical-align: middle;\n",
       "    }\n",
       "\n",
       "    .dataframe tbody tr th {\n",
       "        vertical-align: top;\n",
       "    }\n",
       "\n",
       "    .dataframe thead th {\n",
       "        text-align: right;\n",
       "    }\n",
       "</style>\n",
       "<table border=\"1\" class=\"dataframe\">\n",
       "  <thead>\n",
       "    <tr style=\"text-align: right;\">\n",
       "      <th></th>\n",
       "      <th>genre_Animation</th>\n",
       "    </tr>\n",
       "  </thead>\n",
       "  <tbody>\n",
       "    <tr>\n",
       "      <th>0</th>\n",
       "      <td>4.220050</td>\n",
       "    </tr>\n",
       "    <tr>\n",
       "      <th>1</th>\n",
       "      <td>-0.236964</td>\n",
       "    </tr>\n",
       "    <tr>\n",
       "      <th>2</th>\n",
       "      <td>-0.236964</td>\n",
       "    </tr>\n",
       "  </tbody>\n",
       "</table>\n",
       "</div>"
      ],
      "text/plain": [
       "   genre_Animation\n",
       "0         4.220050\n",
       "1        -0.236964\n",
       "2        -0.236964"
      ]
     },
     "execution_count": 155,
     "metadata": {},
     "output_type": "execute_result"
    }
   ],
   "source": [
    "training_datasets[0][:3]\n",
    "# \tgenre_Animation\n",
    "# 0\t4.220050\n",
    "# 1\t-0.236964\n",
    "# 2\t-0.236964"
   ]
  },
  {
   "cell_type": "markdown",
   "metadata": {},
   "source": [
    "Now we can fit the models."
   ]
  },
  {
   "cell_type": "code",
   "execution_count": 156,
   "metadata": {},
   "outputs": [],
   "source": [
    "fitted_models = None"
   ]
  },
  {
   "cell_type": "markdown",
   "metadata": {},
   "source": [
    "And then we evaluate each of the fitted models.\n",
    "\n",
    "But first we need to create a set of `validation_datasets`, just like our training datasets from earlier."
   ]
  },
  {
   "cell_type": "code",
   "execution_count": 158,
   "metadata": {},
   "outputs": [],
   "source": [
    "validation_datasets = None"
   ]
  },
  {
   "cell_type": "code",
   "execution_count": 159,
   "metadata": {},
   "outputs": [],
   "source": [
    "scores = None"
   ]
  },
  {
   "cell_type": "code",
   "execution_count": 160,
   "metadata": {},
   "outputs": [
    {
     "data": {
      "text/plain": [
       "[-0.06689105131670936,\n",
       " -0.044168277532686595,\n",
       " -0.01198186562734782,\n",
       " -0.007226773607761138,\n",
       " -0.005187626138720702,\n",
       " 0.01375478693516552,\n",
       " 0.014312630374475723,\n",
       " 0.026193472901694825,\n",
       " 0.029739763005278252,\n",
       " 0.03556946456969612,\n",
       " 0.03550208758801909,\n",
       " 0.16226683830651512,\n",
       " 0.16179049564314152,\n",
       " 0.1673649784531568,\n",
       " 0.4784437695592442,\n",
       " 0.47844376955924395,\n",
       " 0.47844376955924395]"
      ]
     },
     "execution_count": 160,
     "metadata": {},
     "output_type": "execute_result"
    }
   ],
   "source": [
    "scores"
   ]
  },
  {
   "cell_type": "markdown",
   "metadata": {},
   "source": [
    "Based on the scores it looks like we get a significant bump from the last six columns.  It could be because these are not dummy variables.  Let's try moving these to the front."
   ]
  },
  {
   "cell_type": "code",
   "execution_count": 174,
   "metadata": {},
   "outputs": [
    {
     "data": {
      "text/plain": [
       "array(['runtime', 'month', 'year', 'budget', 'revenue_is_na',\n",
       "       'budget_is_na', 'genre_Animation', 'genre_Science Fiction',\n",
       "       'genre_Adventure', 'genre_Comedy', 'genre_Horror', 'genre_Drama',\n",
       "       'genre_NA', 'genre_Crime', 'genre_Romance', 'genre_Thriller',\n",
       "       'genre_Fantasy'], dtype=object)"
      ]
     },
     "execution_count": 174,
     "metadata": {},
     "output_type": "execute_result"
    }
   ],
   "source": [
    "reordered_cols = np.append(sorted_cols[-6:], sorted_cols[:11])\n",
    "reordered_cols"
   ]
  },
  {
   "cell_type": "code",
   "execution_count": 176,
   "metadata": {},
   "outputs": [],
   "source": [
    "training_datasets = [sorted_X_train_df[reordered_cols].iloc[:, :i] for i in range(1, 18)]"
   ]
  },
  {
   "cell_type": "code",
   "execution_count": 177,
   "metadata": {},
   "outputs": [],
   "source": [
    "validation_datasets = [sorted_X_validate_df[reordered_cols].iloc[:, :i] for i in range(1, 18)]"
   ]
  },
  {
   "cell_type": "code",
   "execution_count": 178,
   "metadata": {},
   "outputs": [],
   "source": [
    "fitted_models_again = [LinearRegression().fit(dataset, y_train) for dataset in training_datasets]"
   ]
  },
  {
   "cell_type": "code",
   "execution_count": 181,
   "metadata": {},
   "outputs": [],
   "source": [
    "scores_again = [fitted_model.score(validation_dataset, y_validate) for fitted_model, validation_dataset in zip(fitted_models_again, validation_datasets)]"
   ]
  },
  {
   "cell_type": "code",
   "execution_count": 184,
   "metadata": {},
   "outputs": [
    {
     "data": {
      "text/plain": [
       "[0.017804187824331796,\n",
       " 0.017353667925966265,\n",
       " 0.02090459108313314,\n",
       " 0.4814264991512081]"
      ]
     },
     "execution_count": 184,
     "metadata": {},
     "output_type": "execute_result"
    }
   ],
   "source": [
    "scores_again[:4]"
   ]
  },
  {
   "cell_type": "markdown",
   "metadata": {},
   "source": [
    "This appears to be a more reasonable progression.  After the top four features, we no longer see a sizable bump in our validation score.  Let's choose those four features from our `reordered_cols`."
   ]
  },
  {
   "cell_type": "code",
   "execution_count": 186,
   "metadata": {},
   "outputs": [
    {
     "data": {
      "text/plain": [
       "array(['runtime', 'month', 'year', 'budget'], dtype=object)"
      ]
     },
     "execution_count": 186,
     "metadata": {},
     "output_type": "execute_result"
    }
   ],
   "source": [
    "selected_cols = None\n",
    "selected_cols\n",
    "\n",
    "# array(['runtime', 'month', 'year', 'budget'], dtype=object)"
   ]
  },
  {
   "cell_type": "markdown",
   "metadata": {},
   "source": [
    "And now that we have selected these columns, we can train one last time by combining our training and validation sets, with just these `selected_cols`."
   ]
  },
  {
   "cell_type": "code",
   "execution_count": 205,
   "metadata": {},
   "outputs": [
    {
     "data": {
      "text/plain": [
       "(1429, 4)"
      ]
     },
     "execution_count": 205,
     "metadata": {},
     "output_type": "execute_result"
    }
   ],
   "source": [
    "X_combined = None\n",
    "X_combined.shape\n",
    "\n",
    "# (1429, 4)"
   ]
  },
  {
   "cell_type": "code",
   "execution_count": 206,
   "metadata": {},
   "outputs": [
    {
     "data": {
      "text/plain": [
       "(1429,)"
      ]
     },
     "execution_count": 206,
     "metadata": {},
     "output_type": "execute_result"
    }
   ],
   "source": [
    "y_combined = None\n",
    "y_combined.shape"
   ]
  },
  {
   "cell_type": "markdown",
   "metadata": {},
   "source": [
    "Then we'll see how we do on the validation set."
   ]
  },
  {
   "cell_type": "code",
   "execution_count": 207,
   "metadata": {},
   "outputs": [],
   "source": [
    "model = None"
   ]
  },
  {
   "cell_type": "code",
   "execution_count": 208,
   "metadata": {},
   "outputs": [],
   "source": [
    "selected_X_test = None\n",
    "selected_X_test[:2]\n",
    "# # \truntime\tmonth\tyear\tbudget\n",
    "# 72\t123.0\t8\t2016\t175000000.0\n",
    "# 357\t125.0\t8\t2016\t100000000.0"
   ]
  },
  {
   "cell_type": "markdown",
   "metadata": {},
   "source": [
    "> Then get the score on the test set."
   ]
  },
  {
   "cell_type": "code",
   "execution_count": 209,
   "metadata": {},
   "outputs": [
    {
     "data": {
      "text/plain": [
       "0.4152086927594558"
      ]
     },
     "execution_count": 209,
     "metadata": {},
     "output_type": "execute_result"
    }
   ],
   "source": [
    "# check the score on the test set \n",
    "\n",
    "# 0.4152086927594558"
   ]
  },
  {
   "cell_type": "markdown",
   "metadata": {},
   "source": [
    "So our model performs 40 percent better than the mean on the validation set."
   ]
  },
  {
   "cell_type": "code",
   "execution_count": null,
   "metadata": {},
   "outputs": [],
   "source": []
  },
  {
   "cell_type": "markdown",
   "metadata": {},
   "source": [
    "### Sparse Matrix?"
   ]
  },
  {
   "cell_type": "markdown",
   "metadata": {},
   "source": [
    "Before finishing up with the genre column.  Notice that added 11 new columns just from our genre column.  Is this a problem?  \n",
    "\n",
    "Well remember that the more features we have, the larger our error due to variance.  So there are a number of values that don't show up too often, we may wish to simply label them other.\n",
    "\n",
    "Let's take a look."
   ]
  },
  {
   "cell_type": "code",
   "execution_count": 120,
   "metadata": {},
   "outputs": [
    {
     "data": {
      "text/plain": [
       "Action             0.2415\n",
       "Drama              0.1825\n",
       "Comedy             0.1795\n",
       "Adventure          0.1180\n",
       "Animation          0.0465\n",
       "NA                 0.0420\n",
       "Fantasy            0.0400\n",
       "Crime              0.0380\n",
       "Thriller           0.0365\n",
       "Horror             0.0295\n",
       "Science Fiction    0.0260\n",
       "Romance            0.0200\n",
       "Name: genre, dtype: float64"
      ]
     },
     "execution_count": 120,
     "metadata": {},
     "output_type": "execute_result"
    }
   ],
   "source": [
    "genre_col.value_counts(normalize = True)"
   ]
  },
  {
   "cell_type": "markdown",
   "metadata": {},
   "source": [
    "Here, it's not too bad.  We see that the smallest number is romance with 2 percent of the data.  If we wanted to get rid of these bottom values, we can do something like the following:"
   ]
  },
  {
   "cell_type": "code",
   "execution_count": 132,
   "metadata": {},
   "outputs": [],
   "source": [
    "updated_genre = np.where(np.isin(genre_col, ['Romance', 'Science Fiction', 'Horror', 'Thriller', 'Crime']),\n",
    "                                 'Other', genre_col)"
   ]
  },
  {
   "cell_type": "code",
   "execution_count": 133,
   "metadata": {},
   "outputs": [
    {
     "data": {
      "text/plain": [
       "array(['Action', 'Adventure', 'Action'], dtype=object)"
      ]
     },
     "execution_count": 133,
     "metadata": {},
     "output_type": "execute_result"
    }
   ],
   "source": [
    "updated_genre[:3]"
   ]
  },
  {
   "cell_type": "code",
   "execution_count": 134,
   "metadata": {},
   "outputs": [
    {
     "data": {
      "text/plain": [
       "Action       0.2415\n",
       "Drama        0.1825\n",
       "Comedy       0.1795\n",
       "Other        0.1500\n",
       "Adventure    0.1180\n",
       "Animation    0.0465\n",
       "NA           0.0420\n",
       "Fantasy      0.0400\n",
       "dtype: float64"
      ]
     },
     "execution_count": 134,
     "metadata": {},
     "output_type": "execute_result"
    }
   ],
   "source": [
    "pd.Series(updated_genre).value_counts(normalize = True)"
   ]
  },
  {
   "cell_type": "markdown",
   "metadata": {},
   "source": [
    "And then we can call `pd.get_dummies` on this updated column.  "
   ]
  },
  {
   "cell_type": "markdown",
   "metadata": {},
   "source": [
    "That's a reasonable number to try to fit our data to.  We can always reduce the number of variables later if we find a lot of variance in our model."
   ]
  }
 ],
 "metadata": {
  "kernelspec": {
   "display_name": "Python 3",
   "language": "python",
   "name": "python3"
  },
  "language_info": {
   "codemirror_mode": {
    "name": "ipython",
    "version": 3
   },
   "file_extension": ".py",
   "mimetype": "text/x-python",
   "name": "python",
   "nbconvert_exporter": "python",
   "pygments_lexer": "ipython3",
   "version": "3.7.4"
  }
 },
 "nbformat": 4,
 "nbformat_minor": 4
}
