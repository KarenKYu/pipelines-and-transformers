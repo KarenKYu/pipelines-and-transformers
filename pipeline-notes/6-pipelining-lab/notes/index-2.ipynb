{
 "cells": [
  {
   "cell_type": "markdown",
   "metadata": {},
   "source": [
    "# Interaction Effects"
   ]
  },
  {
   "cell_type": "markdown",
   "metadata": {},
   "source": [
    "### Introduction"
   ]
  },
  {
   "cell_type": "markdown",
   "metadata": {},
   "source": [
    "So far we have spoken about generating different types of features, whether numerical, or categorical.  Sometimes, the effect of one feature may depend on the value of another feature.  Let's further explore when and how to capture this in the next lesson."
   ]
  },
  {
   "cell_type": "markdown",
   "metadata": {},
   "source": [
    "### A multiple regression model"
   ]
  },
  {
   "cell_type": "markdown",
   "metadata": {},
   "source": [
    "One way to think about interactions is simply that the whole is greater than the sum of the parts.  For example, let's say that we are marketing a food delivery service like Postmates.  Postmates is trying to expand it's presence in New York City. To promote the product, it decides upon a two pronged marketing strategy of both offering discounts for the service (five to twenty-five dollars off), and increasing advertising spending. "
   ]
  },
  {
   "cell_type": "markdown",
   "metadata": {},
   "source": [
    "It's model to capture the effects of advertising and discounts look like the following:"
   ]
  },
  {
   "cell_type": "markdown",
   "metadata": {},
   "source": [
    "$$ customers = \\theta_2*ad\\_spending + \\theta_1*discount\\_spending + \\theta_0 $$ "
   ]
  },
  {
   "cell_type": "markdown",
   "metadata": {},
   "source": [
    "Where $\\theta_0$ represents the baseline number of customers."
   ]
  },
  {
   "cell_type": "markdown",
   "metadata": {},
   "source": [
    "Because Postmates has offering similar campaign strategies to expand their presence in similar markets, they have already gathered data on the effects different mixes of advertising and discounts.  They have found the following parameters for the above model."
   ]
  },
  {
   "cell_type": "markdown",
   "metadata": {},
   "source": [
    "* $\\theta_2 = .3$\n",
    "* $\\theta_1 = .2$\n",
    "* $\\theta_0 = 35500$"
   ]
  },
  {
   "cell_type": "markdown",
   "metadata": {},
   "source": [
    "So for every ten dollars spent on advertising, they expect to gain three customers, and they already have a baseline of 35,500 customers."
   ]
  },
  {
   "cell_type": "markdown",
   "metadata": {},
   "source": [
    "But if the above numbers are correct why wouldn't a company like Postmates place all of their money into `ad_spending`, and no money in `discount_spending`?\n",
    "\n",
    "Well the reason our model above should likely account for another effect - the multiplicative effect of advertising and spending together.  That is, in addition to the normal boost we get from advertising, we may get an even larger boost if that advertising coincides with discounts.  And vice versa, we'd get more from our discounts if we are also advertising.  To account for these interaction effects, we update our model from:"
   ]
  },
  {
   "cell_type": "markdown",
   "metadata": {},
   "source": [
    "$$ \\hat{customers} = \\hat\\theta_2*ad\\_spending + \\hat\\theta_1*discount\\_spending + \\hat\\theta_0 $$ "
   ]
  },
  {
   "cell_type": "markdown",
   "metadata": {},
   "source": [
    "to:"
   ]
  },
  {
   "cell_type": "markdown",
   "metadata": {},
   "source": [
    "$$ \\hat{customers} = \\hat\\theta_1*discount\\_spending + \\hat\\theta_2*ad\\_spending  + \\hat\\theta_3*ad\\_spending*discount\\_spending + \\hat\\theta_0 $$ "
   ]
  },
  {
   "cell_type": "markdown",
   "metadata": {},
   "source": [
    "Let's focus in on our updated model, and assume the following parameters.  \n",
    "\n",
    "* $\\theta_3 = .01$\n",
    "* $\\theta_2 = .3$\n",
    "* $\\theta_1 = .2$\n",
    "* $\\theta_0 = 35500$"
   ]
  },
  {
   "cell_type": "markdown",
   "metadata": {},
   "source": [
    "And let's consider we spend $4,000$ on advertising and $2,000$ on discount spending.  So then expected customers equals the following:"
   ]
  },
  {
   "cell_type": "markdown",
   "metadata": {},
   "source": [
    "$$ customers = .2*2000 + .3*4000 + .01*4,000*2,000$$\n",
    "\n",
    "$$ customers = 400 + 1,200 + 80,000 $$"
   ]
  },
  {
   "cell_type": "markdown",
   "metadata": {},
   "source": [
    "So in the our updated model, we can see that we gain a lot more by spending on advertising and discounts together than we spending on either of them separately."
   ]
  },
  {
   "cell_type": "markdown",
   "metadata": {},
   "source": [
    "### Modeling with Interaction Effects"
   ]
  },
  {
   "cell_type": "markdown",
   "metadata": {},
   "source": [
    "Now modeling with interaction effects is easy enough.  It comes right out of the box for us with sklearn with our `PolynomialFeatures` constructor.  Let's see this by walking through [the documentation](https://scikit-learn.org/stable/modules/generated/sklearn.preprocessing.PolynomialFeatures.html) on Polynomial Features.  "
   ]
  },
  {
   "cell_type": "markdown",
   "metadata": {},
   "source": [
    "First, we'll reveiw how polynomial features works without interaction effects."
   ]
  },
  {
   "cell_type": "code",
   "execution_count": 63,
   "metadata": {},
   "outputs": [
    {
     "data": {
      "text/plain": [
       "array([[0, 1],\n",
       "       [2, 3],\n",
       "       [4, 5]])"
      ]
     },
     "execution_count": 63,
     "metadata": {},
     "output_type": "execute_result"
    }
   ],
   "source": [
    "X = np.arange(6).reshape(3, 2)\n",
    "X    "
   ]
  },
  {
   "cell_type": "code",
   "execution_count": 64,
   "metadata": {},
   "outputs": [
    {
     "data": {
      "text/plain": [
       "array([[ 1.,  0.,  1.,  0.,  0.,  1.],\n",
       "       [ 1.,  2.,  3.,  4.,  6.,  9.],\n",
       "       [ 1.,  4.,  5., 16., 20., 25.]])"
      ]
     },
     "execution_count": 64,
     "metadata": {},
     "output_type": "execute_result"
    }
   ],
   "source": [
    "poly = PolynomialFeatures(2)\n",
    "poly.fit_transform(X)"
   ]
  },
  {
   "cell_type": "markdown",
   "metadata": {},
   "source": [
    "By initialize `PolynomialFeatures` with degree equals 2, we simply raise each of our terms to a power until we get to each feature being squared."
   ]
  },
  {
   "cell_type": "markdown",
   "metadata": {},
   "source": [
    "However, we can just gather the interaction effects with the following."
   ]
  },
  {
   "cell_type": "code",
   "execution_count": 65,
   "metadata": {},
   "outputs": [
    {
     "data": {
      "text/plain": [
       "array([[ 1.,  0.,  1.,  0.],\n",
       "       [ 1.,  2.,  3.,  6.],\n",
       "       [ 1.,  4.,  5., 20.]])"
      ]
     },
     "execution_count": 65,
     "metadata": {},
     "output_type": "execute_result"
    }
   ],
   "source": [
    "from sklearn.preprocessing import PolynomialFeatures\n",
    "import numpy as np\n",
    "poly = PolynomialFeatures(interaction_only=True)\n",
    "poly.fit_transform(X)"
   ]
  },
  {
   "cell_type": "markdown",
   "metadata": {},
   "source": [
    "Now, as you can see, we have a linear model of our intercepts, our two features, and the last column as a product of our previous two features.  \n",
    "\n",
    "Now let's apply this to our domain of ad spending and discount spending."
   ]
  },
  {
   "cell_type": "code",
   "execution_count": 66,
   "metadata": {},
   "outputs": [],
   "source": [
    "np.random.seed(3)\n",
    "ad_spending = (np.random.randint(0, 30, 150) * 100).reshape(-1, 1)\n",
    "discount_spending = (np.random.randint(0, 30, 150) * 100).reshape(-1, 1)"
   ]
  },
  {
   "cell_type": "code",
   "execution_count": 74,
   "metadata": {},
   "outputs": [
    {
     "data": {
      "text/plain": [
       "array([[1.00e+00, 1.00e+03, 2.00e+03, 2.00e+06],\n",
       "       [1.00e+00, 2.40e+03, 1.00e+02, 2.40e+05],\n",
       "       [1.00e+00, 2.50e+03, 1.80e+03, 4.50e+06],\n",
       "       [1.00e+00, 3.00e+02, 2.00e+02, 6.00e+04],\n",
       "       [1.00e+00, 2.40e+03, 2.30e+03, 5.52e+06]])"
      ]
     },
     "execution_count": 74,
     "metadata": {},
     "output_type": "execute_result"
    }
   ],
   "source": [
    "observations = np.hstack((ad_spending, discount_spending))\n",
    "interactions_transformer = PolynomialFeatures(interaction_only=True)\n",
    "interaction_features = interactions_transformer.fit_transform(observations)\n",
    "interaction_features[:5]"
   ]
  },
  {
   "cell_type": "markdown",
   "metadata": {},
   "source": [
    "So the last column is a product of our previous two features."
   ]
  },
  {
   "cell_type": "markdown",
   "metadata": {},
   "source": [
    "### Interactions with Categorical Variables"
   ]
  },
  {
   "cell_type": "markdown",
   "metadata": {},
   "source": [
    "### Summary"
   ]
  },
  {
   "cell_type": "code",
   "execution_count": null,
   "metadata": {},
   "outputs": [],
   "source": []
  }
 ],
 "metadata": {
  "kernelspec": {
   "display_name": "Python 3",
   "language": "python",
   "name": "python3"
  },
  "language_info": {
   "codemirror_mode": {
    "name": "ipython",
    "version": 3
   },
   "file_extension": ".py",
   "mimetype": "text/x-python",
   "name": "python",
   "nbconvert_exporter": "python",
   "pygments_lexer": "ipython3",
   "version": "3.7.3"
  }
 },
 "nbformat": 4,
 "nbformat_minor": 2
}
